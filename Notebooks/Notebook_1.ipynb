{
 "cells": [
  {
   "cell_type": "markdown",
   "id": "dae008cd-e354-4ad2-a586-74650d242e93",
   "metadata": {},
   "source": [
    "# SC1015 Project Notebook 1\n",
    "\n",
    "* [Importing Libraries and Dataset](#Importing-Libraries-and-Dataset) \n",
    "* [Defining the Dataset and the Problem](#Defining-the-Dataset-and-the-Problem)\n",
    "    * [The Main Variable](#The-Main-Variable)\n",
    "    * [What is the Problem?](#What-is-the-problem?)\n",
    "* [Cleaning and Preparing the Dataset](#Cleaning-and-Preparing-the-Dataset)\n",
    "    * [1) Dropping `id`](#droppingid)\n",
    "    * [2) Cleaning the `gender` column](#cleaning_gender)\n",
    "    * [3) Filling Missing `bmi` Values](#filling_bmi)\n",
    "    * [4) Setting Categorical Columns](#setting_categories)\n",
    "* [Exploratory Data Analysis](#Exploratory-Data-Analysis)\n",
    "    * [Numerical Variables](#Numerical-Variables)\n",
    "        * [1) age](#age)\n",
    "        * [2) avg_glucose_level](#avg_glucose_level)\n",
    "        * [3) bmi](#bmi)\n",
    "    * [Dichotomous Categorical Variables](#Dichotomous-Categorical-Variables)\n",
    "        * [4) gender](#gender)\n",
    "        * [5) hypertension](#hypertension)\n",
    "        * [6) heart_disease](#heart_disease)\n",
    "        * [7) ever_married](#ever_married)\n",
    "        * [8) Residence_type](#Residence_type)\n",
    "    * [Polychotomous Categorical Variables](#Polychotomous-Categorical-Variables)\n",
    "        * [9) work_type](#work_type)\n",
    "        * [10) smoking_status](#smoking_status)\n",
    "        * [11) hypertension and heart_disease vs stroke](#hyperheart)\n",
    "* [Preparing Dataset for ML Analysis](#Preparing-Dataset-for-ML-Analysis)\n",
    "    * [1) Dropping 'Never_worked' from work_type](#drop_nv)\n",
    "    * [2) Dropping smoking_status](#drop_ss)\n",
    "    * [3) Encoding the Categorical Variables (Label and One-Hot)](#encoding)\n",
    "       "
   ]
  },
  {
   "cell_type": "markdown",
   "id": "54ffd8a0",
   "metadata": {},
   "source": [
    "---\n",
    "#### Importing Libraries and Dataset"
   ]
  },
  {
   "cell_type": "code",
   "execution_count": 1,
   "id": "4432367f-18d1-4324-8bb6-ca2611f7cd8b",
   "metadata": {},
   "outputs": [],
   "source": [
    "import numpy as np\n",
    "import pandas as pd\n",
    "import scipy.stats as stats"
   ]
  },
  {
   "cell_type": "code",
   "execution_count": 2,
   "id": "6a4ddc53-a54f-4b04-be5d-a79be5d75783",
   "metadata": {},
   "outputs": [],
   "source": [
    "import seaborn as sb\n",
    "sb.set()\n",
    "\n",
    "import matplotlib.pyplot as plt "
   ]
  },
  {
   "cell_type": "code",
   "execution_count": 3,
   "id": "bedf20df-b996-477e-b3a4-a22382de98ba",
   "metadata": {},
   "outputs": [],
   "source": [
    "# helper function to print markdown from python\n",
    "from IPython.display import Markdown, display\n",
    "def printmd(string):\n",
    "    display(Markdown('&nbsp;' + string.replace('\\n','<br>')))"
   ]
  },
  {
   "cell_type": "code",
   "execution_count": 4,
   "id": "9e0c37cd-a6dc-4ad7-8b6c-30f88040203c",
   "metadata": {},
   "outputs": [
    {
     "data": {
      "text/html": [
       "<div>\n",
       "<style scoped>\n",
       "    .dataframe tbody tr th:only-of-type {\n",
       "        vertical-align: middle;\n",
       "    }\n",
       "\n",
       "    .dataframe tbody tr th {\n",
       "        vertical-align: top;\n",
       "    }\n",
       "\n",
       "    .dataframe thead th {\n",
       "        text-align: right;\n",
       "    }\n",
       "</style>\n",
       "<table border=\"1\" class=\"dataframe\">\n",
       "  <thead>\n",
       "    <tr style=\"text-align: right;\">\n",
       "      <th></th>\n",
       "      <th>id</th>\n",
       "      <th>gender</th>\n",
       "      <th>age</th>\n",
       "      <th>hypertension</th>\n",
       "      <th>heart_disease</th>\n",
       "      <th>ever_married</th>\n",
       "      <th>work_type</th>\n",
       "      <th>Residence_type</th>\n",
       "      <th>avg_glucose_level</th>\n",
       "      <th>bmi</th>\n",
       "      <th>smoking_status</th>\n",
       "      <th>stroke</th>\n",
       "    </tr>\n",
       "  </thead>\n",
       "  <tbody>\n",
       "    <tr>\n",
       "      <th>0</th>\n",
       "      <td>9046</td>\n",
       "      <td>Male</td>\n",
       "      <td>67.0</td>\n",
       "      <td>0</td>\n",
       "      <td>1</td>\n",
       "      <td>Yes</td>\n",
       "      <td>Private</td>\n",
       "      <td>Urban</td>\n",
       "      <td>228.69</td>\n",
       "      <td>36.6</td>\n",
       "      <td>formerly smoked</td>\n",
       "      <td>1</td>\n",
       "    </tr>\n",
       "    <tr>\n",
       "      <th>1</th>\n",
       "      <td>51676</td>\n",
       "      <td>Female</td>\n",
       "      <td>61.0</td>\n",
       "      <td>0</td>\n",
       "      <td>0</td>\n",
       "      <td>Yes</td>\n",
       "      <td>Self-employed</td>\n",
       "      <td>Rural</td>\n",
       "      <td>202.21</td>\n",
       "      <td>NaN</td>\n",
       "      <td>never smoked</td>\n",
       "      <td>1</td>\n",
       "    </tr>\n",
       "    <tr>\n",
       "      <th>2</th>\n",
       "      <td>31112</td>\n",
       "      <td>Male</td>\n",
       "      <td>80.0</td>\n",
       "      <td>0</td>\n",
       "      <td>1</td>\n",
       "      <td>Yes</td>\n",
       "      <td>Private</td>\n",
       "      <td>Rural</td>\n",
       "      <td>105.92</td>\n",
       "      <td>32.5</td>\n",
       "      <td>never smoked</td>\n",
       "      <td>1</td>\n",
       "    </tr>\n",
       "    <tr>\n",
       "      <th>3</th>\n",
       "      <td>60182</td>\n",
       "      <td>Female</td>\n",
       "      <td>49.0</td>\n",
       "      <td>0</td>\n",
       "      <td>0</td>\n",
       "      <td>Yes</td>\n",
       "      <td>Private</td>\n",
       "      <td>Urban</td>\n",
       "      <td>171.23</td>\n",
       "      <td>34.4</td>\n",
       "      <td>smokes</td>\n",
       "      <td>1</td>\n",
       "    </tr>\n",
       "    <tr>\n",
       "      <th>4</th>\n",
       "      <td>1665</td>\n",
       "      <td>Female</td>\n",
       "      <td>79.0</td>\n",
       "      <td>1</td>\n",
       "      <td>0</td>\n",
       "      <td>Yes</td>\n",
       "      <td>Self-employed</td>\n",
       "      <td>Rural</td>\n",
       "      <td>174.12</td>\n",
       "      <td>24.0</td>\n",
       "      <td>never smoked</td>\n",
       "      <td>1</td>\n",
       "    </tr>\n",
       "  </tbody>\n",
       "</table>\n",
       "</div>"
      ],
      "text/plain": [
       "      id  gender   age  hypertension  heart_disease ever_married  \\\n",
       "0   9046    Male  67.0             0              1          Yes   \n",
       "1  51676  Female  61.0             0              0          Yes   \n",
       "2  31112    Male  80.0             0              1          Yes   \n",
       "3  60182  Female  49.0             0              0          Yes   \n",
       "4   1665  Female  79.0             1              0          Yes   \n",
       "\n",
       "       work_type Residence_type  avg_glucose_level   bmi   smoking_status  \\\n",
       "0        Private          Urban             228.69  36.6  formerly smoked   \n",
       "1  Self-employed          Rural             202.21   NaN     never smoked   \n",
       "2        Private          Rural             105.92  32.5     never smoked   \n",
       "3        Private          Urban             171.23  34.4           smokes   \n",
       "4  Self-employed          Rural             174.12  24.0     never smoked   \n",
       "\n",
       "   stroke  \n",
       "0       1  \n",
       "1       1  \n",
       "2       1  \n",
       "3       1  \n",
       "4       1  "
      ]
     },
     "execution_count": 4,
     "metadata": {},
     "output_type": "execute_result"
    }
   ],
   "source": [
    "strokedata = pd.read_csv('healthcare-dataset-stroke-data.csv')\n",
    "strokedata.head()"
   ]
  },
  {
   "cell_type": "markdown",
   "id": "b21c67ea-9f78-4090-8d07-853c2b5e7505",
   "metadata": {
    "tags": []
   },
   "source": [
    "---\n",
    "## Defining the Dataset and the Problem\n",
    "\n",
    "This dataset was retrieved from https://www.kaggle.com/datasets/fedesoriano/stroke-prediction-dataset. <br> Each row consists of relevant information about a patient.\n",
    "\n",
    "Here is the information about each column: <br>\n",
    "1) **id** (numerical): unique identifier <br>\n",
    "2) **gender** (categorical): \"Male\", \"Female\" or \"Other\" <br>\n",
    "3) **age** (numerical): age of the patient <br>\n",
    "4) **hypertension** (categorical): 0 if the patient doesn't have hypertension, 1 if the patient has hypertension <br>\n",
    "5) **heart_disease** (categorical): 0 if the patient doesn't have any heart diseases, 1 if the patient has a heart disease <br>\n",
    "6) **ever_married** (categorical): \"No\" or \"Yes\" <br>\n",
    "7) **work_type** (categorical): \"children\", \"Govt_jov\", \"Never_worked\", \"Private\" or \"Self-employed\" <br>\n",
    "8) **Residence_type** (categorical): \"Rural\" or \"Urban\" <br>\n",
    "9) **avg_glucose_level** (numerical): average glucose level in blood <br>\n",
    "10) **bmi** (numerical): body mass index <br>\n",
    "11) **smoking_status** (categorical): \"formerly smoked\", \"never smoked\", \"smokes\" or \"Unknown\" <br>\n",
    "12) **stroke** (categorical): 1 if the patient had a stroke or 0 if not"
   ]
  },
  {
   "cell_type": "code",
   "execution_count": 5,
   "id": "ee6147a6-5e19-4f51-87ed-c3a8507d1f46",
   "metadata": {},
   "outputs": [
    {
     "name": "stdout",
     "output_type": "stream",
     "text": [
      "<class 'pandas.core.frame.DataFrame'>\n",
      "RangeIndex: 5110 entries, 0 to 5109\n",
      "Data columns (total 12 columns):\n",
      " #   Column             Non-Null Count  Dtype  \n",
      "---  ------             --------------  -----  \n",
      " 0   id                 5110 non-null   int64  \n",
      " 1   gender             5110 non-null   object \n",
      " 2   age                5110 non-null   float64\n",
      " 3   hypertension       5110 non-null   int64  \n",
      " 4   heart_disease      5110 non-null   int64  \n",
      " 5   ever_married       5110 non-null   object \n",
      " 6   work_type          5110 non-null   object \n",
      " 7   Residence_type     5110 non-null   object \n",
      " 8   avg_glucose_level  5110 non-null   float64\n",
      " 9   bmi                4909 non-null   float64\n",
      " 10  smoking_status     5110 non-null   object \n",
      " 11  stroke             5110 non-null   int64  \n",
      "dtypes: float64(3), int64(4), object(5)\n",
      "memory usage: 479.2+ KB\n"
     ]
    }
   ],
   "source": [
    "strokedata.info()"
   ]
  },
  {
   "cell_type": "markdown",
   "id": "3e241b60-6590-4bba-989a-522d4daa1599",
   "metadata": {
    "tags": []
   },
   "source": [
    "---\n",
    "### The Main Variable\n",
    "The `stroke` variable, which represents whether a patient has had a stroke event is our main variable of concern. It is a dichotomous categorical variable and is distributed as following:"
   ]
  },
  {
   "cell_type": "code",
   "execution_count": 6,
   "id": "4da4447d-aa22-4c94-a7cb-ade204ac538a",
   "metadata": {},
   "outputs": [
    {
     "data": {
      "text/markdown": [
       "&nbsp;**Distribution:**<br>No Stroke - 4861 <br>Had Stroke - 249<br>"
      ],
      "text/plain": [
       "<IPython.core.display.Markdown object>"
      ]
     },
     "metadata": {},
     "output_type": "display_data"
    },
    {
     "data": {
      "image/png": "[encoded data removed]",
      "text/plain": [
       "<Figure size 360x360 with 1 Axes>"
      ]
     },
     "metadata": {},
     "output_type": "display_data"
    }
   ],
   "source": [
    "sb.catplot(x='stroke',data=pd.DataFrame(strokedata['stroke']),kind='count')\n",
    "stroke_value_counts = strokedata.stroke.value_counts().values\n",
    "printmd('**Distribution:**\\nNo Stroke - {} \\nHad Stroke - {}\\n'.format(stroke_value_counts[0],stroke_value_counts[1]))"
   ]
  },
  {
   "cell_type": "markdown",
   "id": "6cb14fc4-4624-4f4c-bcb7-bf667ad33dd3",
   "metadata": {},
   "source": [
    "---\n",
    "### What is the problem?\n",
    "\n",
    "The percentage of positive stroke events is $249/5110 = 4.87\\%$. This is quite a small value. <br> So, is having a stroke an anomaly? Can it be predicted using the other variables?"
   ]
  },
  {
   "cell_type": "markdown",
   "id": "eb07a670-8f98-4473-b47a-54dac5931ba1",
   "metadata": {},
   "source": [
    "---\n",
    "## Cleaning and Preparing the Dataset\n",
    "\n",
    "#### 1) Dropping `id` <a class=\"anchor\" id=\"droppingid\"></a>\n",
    "The `id` column has values ranging into *tens of thousands* in a dataset of `5110` entries. Therefore, it is not a good index and can simply be dropped. "
   ]
  },
  {
   "cell_type": "code",
   "execution_count": 7,
   "id": "beae84dc",
   "metadata": {},
   "outputs": [
    {
     "data": {
      "text/plain": [
       "array([21967, 16420, 19209, 59049, 50644])"
      ]
     },
     "execution_count": 7,
     "metadata": {},
     "output_type": "execute_result"
    }
   ],
   "source": [
    "strokedata.sample(n=5).id.values"
   ]
  },
  {
   "cell_type": "code",
   "execution_count": 8,
   "id": "565da1e6-6ffe-4363-b3d1-e1a84c060386",
   "metadata": {},
   "outputs": [
    {
     "data": {
      "text/html": [
       "<div>\n",
       "<style scoped>\n",
       "    .dataframe tbody tr th:only-of-type {\n",
       "        vertical-align: middle;\n",
       "    }\n",
       "\n",
       "    .dataframe tbody tr th {\n",
       "        vertical-align: top;\n",
       "    }\n",
       "\n",
       "    .dataframe thead th {\n",
       "        text-align: right;\n",
       "    }\n",
       "</style>\n",
       "<table border=\"1\" class=\"dataframe\">\n",
       "  <thead>\n",
       "    <tr style=\"text-align: right;\">\n",
       "      <th></th>\n",
       "      <th>gender</th>\n",
       "      <th>age</th>\n",
       "      <th>hypertension</th>\n",
       "      <th>heart_disease</th>\n",
       "      <th>ever_married</th>\n",
       "      <th>work_type</th>\n",
       "      <th>Residence_type</th>\n",
       "      <th>avg_glucose_level</th>\n",
       "      <th>bmi</th>\n",
       "      <th>smoking_status</th>\n",
       "      <th>stroke</th>\n",
       "    </tr>\n",
       "  </thead>\n",
       "  <tbody>\n",
       "    <tr>\n",
       "      <th>0</th>\n",
       "      <td>Male</td>\n",
       "      <td>67.0</td>\n",
       "      <td>0</td>\n",
       "      <td>1</td>\n",
       "      <td>Yes</td>\n",
       "      <td>Private</td>\n",
       "      <td>Urban</td>\n",
       "      <td>228.69</td>\n",
       "      <td>36.6</td>\n",
       "      <td>formerly smoked</td>\n",
       "      <td>1</td>\n",
       "    </tr>\n",
       "    <tr>\n",
       "      <th>1</th>\n",
       "      <td>Female</td>\n",
       "      <td>61.0</td>\n",
       "      <td>0</td>\n",
       "      <td>0</td>\n",
       "      <td>Yes</td>\n",
       "      <td>Self-employed</td>\n",
       "      <td>Rural</td>\n",
       "      <td>202.21</td>\n",
       "      <td>NaN</td>\n",
       "      <td>never smoked</td>\n",
       "      <td>1</td>\n",
       "    </tr>\n",
       "    <tr>\n",
       "      <th>2</th>\n",
       "      <td>Male</td>\n",
       "      <td>80.0</td>\n",
       "      <td>0</td>\n",
       "      <td>1</td>\n",
       "      <td>Yes</td>\n",
       "      <td>Private</td>\n",
       "      <td>Rural</td>\n",
       "      <td>105.92</td>\n",
       "      <td>32.5</td>\n",
       "      <td>never smoked</td>\n",
       "      <td>1</td>\n",
       "    </tr>\n",
       "    <tr>\n",
       "      <th>3</th>\n",
       "      <td>Female</td>\n",
       "      <td>49.0</td>\n",
       "      <td>0</td>\n",
       "      <td>0</td>\n",
       "      <td>Yes</td>\n",
       "      <td>Private</td>\n",
       "      <td>Urban</td>\n",
       "      <td>171.23</td>\n",
       "      <td>34.4</td>\n",
       "      <td>smokes</td>\n",
       "      <td>1</td>\n",
       "    </tr>\n",
       "    <tr>\n",
       "      <th>4</th>\n",
       "      <td>Female</td>\n",
       "      <td>79.0</td>\n",
       "      <td>1</td>\n",
       "      <td>0</td>\n",
       "      <td>Yes</td>\n",
       "      <td>Self-employed</td>\n",
       "      <td>Rural</td>\n",
       "      <td>174.12</td>\n",
       "      <td>24.0</td>\n",
       "      <td>never smoked</td>\n",
       "      <td>1</td>\n",
       "    </tr>\n",
       "  </tbody>\n",
       "</table>\n",
       "</div>"
      ],
      "text/plain": [
       "   gender   age  hypertension  heart_disease ever_married      work_type  \\\n",
       "0    Male  67.0             0              1          Yes        Private   \n",
       "1  Female  61.0             0              0          Yes  Self-employed   \n",
       "2    Male  80.0             0              1          Yes        Private   \n",
       "3  Female  49.0             0              0          Yes        Private   \n",
       "4  Female  79.0             1              0          Yes  Self-employed   \n",
       "\n",
       "  Residence_type  avg_glucose_level   bmi   smoking_status  stroke  \n",
       "0          Urban             228.69  36.6  formerly smoked       1  \n",
       "1          Rural             202.21   NaN     never smoked       1  \n",
       "2          Rural             105.92  32.5     never smoked       1  \n",
       "3          Urban             171.23  34.4           smokes       1  \n",
       "4          Rural             174.12  24.0     never smoked       1  "
      ]
     },
     "execution_count": 8,
     "metadata": {},
     "output_type": "execute_result"
    }
   ],
   "source": [
    "strokedata.drop('id',axis=1,inplace=True)\n",
    "strokedata.head()"
   ]
  },
  {
   "cell_type": "markdown",
   "id": "6b119b04-c26c-4cb8-b08f-506e5a661f5d",
   "metadata": {},
   "source": [
    "---\n",
    "#### 2) Cleaning the `gender` column <a class=\"anchor\" id=\"cleaning_gender\"></a>\n",
    "The `gender` column has 3 unique values - \"Male\", \"Female\", \"Other\" distributed as follows:"
   ]
  },
  {
   "cell_type": "code",
   "execution_count": 9,
   "id": "13c7dde5-3d0a-48d1-a99b-958100654237",
   "metadata": {},
   "outputs": [
    {
     "data": {
      "text/plain": [
       "Female    2994\n",
       "Male      2115\n",
       "Other        1\n",
       "Name: gender, dtype: int64"
      ]
     },
     "execution_count": 9,
     "metadata": {},
     "output_type": "execute_result"
    }
   ],
   "source": [
    "strokedata.gender.value_counts()"
   ]
  },
  {
   "cell_type": "markdown",
   "id": "b4bb8c46-f392-4e45-abd7-7bb1f91e85a2",
   "metadata": {},
   "source": [
    "There is only `1` row with gender marked as \"Other\". To make exploration and ML analysis easier, we can drop this row. "
   ]
  },
  {
   "cell_type": "code",
   "execution_count": 10,
   "id": "0db8ec57-5089-4740-8017-634aeaec9121",
   "metadata": {},
   "outputs": [
    {
     "name": "stdout",
     "output_type": "stream",
     "text": [
      "New Shape - (5109, 11)\n"
     ]
    }
   ],
   "source": [
    "strokedata = strokedata[strokedata.gender != \"Other\"]\n",
    "print(\"New Shape -\", strokedata.shape)"
   ]
  },
  {
   "cell_type": "markdown",
   "id": "809bb087-7b94-4368-b030-3a42e9760bde",
   "metadata": {},
   "source": [
    "---\n",
    "#### 3) Filling Missing `bmi` Values <a class=\"anchor\" id=\"filling_bmi\"></a>\n",
    "\n",
    "The `bmi` column has `201` missing values. "
   ]
  },
  {
   "cell_type": "code",
   "execution_count": 11,
   "id": "d829d4e2-1922-42a8-a59d-c363560ecd1a",
   "metadata": {},
   "outputs": [
    {
     "data": {
      "text/plain": [
       "gender                 0\n",
       "age                    0\n",
       "hypertension           0\n",
       "heart_disease          0\n",
       "ever_married           0\n",
       "work_type              0\n",
       "Residence_type         0\n",
       "avg_glucose_level      0\n",
       "bmi                  201\n",
       "smoking_status         0\n",
       "stroke                 0\n",
       "dtype: int64"
      ]
     },
     "execution_count": 11,
     "metadata": {},
     "output_type": "execute_result"
    }
   ],
   "source": [
    "strokedata.isnull().sum(axis = 0)"
   ]
  },
  {
   "cell_type": "markdown",
   "id": "aef4e0dd-d516-48ea-9b54-d573e44f31ce",
   "metadata": {},
   "source": [
    "This represents around $201/5110 = 3.93\\%$ of the rows and may be considered a small amount that is safe to drop. However, there are `40` such rows where `strokedata == 1`. This represents a huge loss in the number of positive stroke events ($40/249 = 16.06\\%$). Therefore, it will be better to fill the missing `bmi` values instead. "
   ]
  },
  {
   "cell_type": "code",
   "execution_count": 12,
   "id": "c5f01e0d-a81d-4fce-af30-3cd2cac4cb91",
   "metadata": {},
   "outputs": [
    {
     "data": {
      "text/html": [
       "<div>\n",
       "<style scoped>\n",
       "    .dataframe tbody tr th:only-of-type {\n",
       "        vertical-align: middle;\n",
       "    }\n",
       "\n",
       "    .dataframe tbody tr th {\n",
       "        vertical-align: top;\n",
       "    }\n",
       "\n",
       "    .dataframe thead th {\n",
       "        text-align: right;\n",
       "    }\n",
       "</style>\n",
       "<table border=\"1\" class=\"dataframe\">\n",
       "  <thead>\n",
       "    <tr style=\"text-align: right;\">\n",
       "      <th></th>\n",
       "      <th>index</th>\n",
       "      <th>gender</th>\n",
       "      <th>age</th>\n",
       "      <th>hypertension</th>\n",
       "      <th>heart_disease</th>\n",
       "      <th>ever_married</th>\n",
       "      <th>work_type</th>\n",
       "      <th>Residence_type</th>\n",
       "      <th>avg_glucose_level</th>\n",
       "      <th>bmi</th>\n",
       "      <th>smoking_status</th>\n",
       "      <th>stroke</th>\n",
       "    </tr>\n",
       "  </thead>\n",
       "  <tbody>\n",
       "    <tr>\n",
       "      <th>0</th>\n",
       "      <td>1</td>\n",
       "      <td>Female</td>\n",
       "      <td>61.00</td>\n",
       "      <td>0</td>\n",
       "      <td>0</td>\n",
       "      <td>Yes</td>\n",
       "      <td>Self-employed</td>\n",
       "      <td>Rural</td>\n",
       "      <td>202.21</td>\n",
       "      <td>NaN</td>\n",
       "      <td>never smoked</td>\n",
       "      <td>1</td>\n",
       "    </tr>\n",
       "    <tr>\n",
       "      <th>1</th>\n",
       "      <td>8</td>\n",
       "      <td>Female</td>\n",
       "      <td>59.00</td>\n",
       "      <td>0</td>\n",
       "      <td>0</td>\n",
       "      <td>Yes</td>\n",
       "      <td>Private</td>\n",
       "      <td>Rural</td>\n",
       "      <td>76.15</td>\n",
       "      <td>NaN</td>\n",
       "      <td>Unknown</td>\n",
       "      <td>1</td>\n",
       "    </tr>\n",
       "    <tr>\n",
       "      <th>2</th>\n",
       "      <td>13</td>\n",
       "      <td>Male</td>\n",
       "      <td>78.00</td>\n",
       "      <td>0</td>\n",
       "      <td>1</td>\n",
       "      <td>Yes</td>\n",
       "      <td>Private</td>\n",
       "      <td>Urban</td>\n",
       "      <td>219.84</td>\n",
       "      <td>NaN</td>\n",
       "      <td>Unknown</td>\n",
       "      <td>1</td>\n",
       "    </tr>\n",
       "    <tr>\n",
       "      <th>3</th>\n",
       "      <td>19</td>\n",
       "      <td>Male</td>\n",
       "      <td>57.00</td>\n",
       "      <td>0</td>\n",
       "      <td>1</td>\n",
       "      <td>No</td>\n",
       "      <td>Govt_job</td>\n",
       "      <td>Urban</td>\n",
       "      <td>217.08</td>\n",
       "      <td>NaN</td>\n",
       "      <td>Unknown</td>\n",
       "      <td>1</td>\n",
       "    </tr>\n",
       "    <tr>\n",
       "      <th>4</th>\n",
       "      <td>27</td>\n",
       "      <td>Male</td>\n",
       "      <td>58.00</td>\n",
       "      <td>0</td>\n",
       "      <td>0</td>\n",
       "      <td>Yes</td>\n",
       "      <td>Private</td>\n",
       "      <td>Rural</td>\n",
       "      <td>189.84</td>\n",
       "      <td>NaN</td>\n",
       "      <td>Unknown</td>\n",
       "      <td>1</td>\n",
       "    </tr>\n",
       "    <tr>\n",
       "      <th>5</th>\n",
       "      <td>29</td>\n",
       "      <td>Male</td>\n",
       "      <td>59.00</td>\n",
       "      <td>0</td>\n",
       "      <td>0</td>\n",
       "      <td>Yes</td>\n",
       "      <td>Private</td>\n",
       "      <td>Rural</td>\n",
       "      <td>211.78</td>\n",
       "      <td>NaN</td>\n",
       "      <td>formerly smoked</td>\n",
       "      <td>1</td>\n",
       "    </tr>\n",
       "    <tr>\n",
       "      <th>6</th>\n",
       "      <td>43</td>\n",
       "      <td>Female</td>\n",
       "      <td>63.00</td>\n",
       "      <td>0</td>\n",
       "      <td>0</td>\n",
       "      <td>Yes</td>\n",
       "      <td>Private</td>\n",
       "      <td>Urban</td>\n",
       "      <td>90.90</td>\n",
       "      <td>NaN</td>\n",
       "      <td>formerly smoked</td>\n",
       "      <td>1</td>\n",
       "    </tr>\n",
       "    <tr>\n",
       "      <th>7</th>\n",
       "      <td>46</td>\n",
       "      <td>Female</td>\n",
       "      <td>75.00</td>\n",
       "      <td>0</td>\n",
       "      <td>1</td>\n",
       "      <td>No</td>\n",
       "      <td>Self-employed</td>\n",
       "      <td>Urban</td>\n",
       "      <td>109.78</td>\n",
       "      <td>NaN</td>\n",
       "      <td>Unknown</td>\n",
       "      <td>1</td>\n",
       "    </tr>\n",
       "    <tr>\n",
       "      <th>8</th>\n",
       "      <td>50</td>\n",
       "      <td>Female</td>\n",
       "      <td>76.00</td>\n",
       "      <td>0</td>\n",
       "      <td>0</td>\n",
       "      <td>No</td>\n",
       "      <td>Private</td>\n",
       "      <td>Urban</td>\n",
       "      <td>89.96</td>\n",
       "      <td>NaN</td>\n",
       "      <td>Unknown</td>\n",
       "      <td>1</td>\n",
       "    </tr>\n",
       "    <tr>\n",
       "      <th>9</th>\n",
       "      <td>51</td>\n",
       "      <td>Male</td>\n",
       "      <td>78.00</td>\n",
       "      <td>1</td>\n",
       "      <td>0</td>\n",
       "      <td>Yes</td>\n",
       "      <td>Private</td>\n",
       "      <td>Urban</td>\n",
       "      <td>75.32</td>\n",
       "      <td>NaN</td>\n",
       "      <td>formerly smoked</td>\n",
       "      <td>1</td>\n",
       "    </tr>\n",
       "    <tr>\n",
       "      <th>10</th>\n",
       "      <td>54</td>\n",
       "      <td>Female</td>\n",
       "      <td>63.00</td>\n",
       "      <td>0</td>\n",
       "      <td>0</td>\n",
       "      <td>Yes</td>\n",
       "      <td>Govt_job</td>\n",
       "      <td>Urban</td>\n",
       "      <td>197.54</td>\n",
       "      <td>NaN</td>\n",
       "      <td>never smoked</td>\n",
       "      <td>1</td>\n",
       "    </tr>\n",
       "    <tr>\n",
       "      <th>11</th>\n",
       "      <td>57</td>\n",
       "      <td>Male</td>\n",
       "      <td>78.00</td>\n",
       "      <td>0</td>\n",
       "      <td>0</td>\n",
       "      <td>Yes</td>\n",
       "      <td>Private</td>\n",
       "      <td>Urban</td>\n",
       "      <td>237.75</td>\n",
       "      <td>NaN</td>\n",
       "      <td>formerly smoked</td>\n",
       "      <td>1</td>\n",
       "    </tr>\n",
       "    <tr>\n",
       "      <th>12</th>\n",
       "      <td>64</td>\n",
       "      <td>Male</td>\n",
       "      <td>75.00</td>\n",
       "      <td>0</td>\n",
       "      <td>0</td>\n",
       "      <td>Yes</td>\n",
       "      <td>Private</td>\n",
       "      <td>Urban</td>\n",
       "      <td>104.72</td>\n",
       "      <td>NaN</td>\n",
       "      <td>Unknown</td>\n",
       "      <td>1</td>\n",
       "    </tr>\n",
       "    <tr>\n",
       "      <th>13</th>\n",
       "      <td>70</td>\n",
       "      <td>Female</td>\n",
       "      <td>76.00</td>\n",
       "      <td>0</td>\n",
       "      <td>0</td>\n",
       "      <td>Yes</td>\n",
       "      <td>Govt_job</td>\n",
       "      <td>Rural</td>\n",
       "      <td>62.57</td>\n",
       "      <td>NaN</td>\n",
       "      <td>formerly smoked</td>\n",
       "      <td>1</td>\n",
       "    </tr>\n",
       "    <tr>\n",
       "      <th>14</th>\n",
       "      <td>78</td>\n",
       "      <td>Female</td>\n",
       "      <td>51.00</td>\n",
       "      <td>0</td>\n",
       "      <td>0</td>\n",
       "      <td>Yes</td>\n",
       "      <td>Private</td>\n",
       "      <td>Urban</td>\n",
       "      <td>165.31</td>\n",
       "      <td>NaN</td>\n",
       "      <td>never smoked</td>\n",
       "      <td>1</td>\n",
       "    </tr>\n",
       "    <tr>\n",
       "      <th>15</th>\n",
       "      <td>81</td>\n",
       "      <td>Female</td>\n",
       "      <td>66.00</td>\n",
       "      <td>0</td>\n",
       "      <td>0</td>\n",
       "      <td>Yes</td>\n",
       "      <td>Self-employed</td>\n",
       "      <td>Urban</td>\n",
       "      <td>101.45</td>\n",
       "      <td>NaN</td>\n",
       "      <td>Unknown</td>\n",
       "      <td>1</td>\n",
       "    </tr>\n",
       "    <tr>\n",
       "      <th>16</th>\n",
       "      <td>84</td>\n",
       "      <td>Male</td>\n",
       "      <td>58.00</td>\n",
       "      <td>0</td>\n",
       "      <td>0</td>\n",
       "      <td>Yes</td>\n",
       "      <td>Private</td>\n",
       "      <td>Urban</td>\n",
       "      <td>71.20</td>\n",
       "      <td>NaN</td>\n",
       "      <td>Unknown</td>\n",
       "      <td>1</td>\n",
       "    </tr>\n",
       "    <tr>\n",
       "      <th>17</th>\n",
       "      <td>105</td>\n",
       "      <td>Male</td>\n",
       "      <td>58.00</td>\n",
       "      <td>0</td>\n",
       "      <td>0</td>\n",
       "      <td>Yes</td>\n",
       "      <td>Private</td>\n",
       "      <td>Urban</td>\n",
       "      <td>82.30</td>\n",
       "      <td>NaN</td>\n",
       "      <td>smokes</td>\n",
       "      <td>1</td>\n",
       "    </tr>\n",
       "    <tr>\n",
       "      <th>18</th>\n",
       "      <td>112</td>\n",
       "      <td>Female</td>\n",
       "      <td>76.00</td>\n",
       "      <td>0</td>\n",
       "      <td>0</td>\n",
       "      <td>Yes</td>\n",
       "      <td>Self-employed</td>\n",
       "      <td>Urban</td>\n",
       "      <td>106.41</td>\n",
       "      <td>NaN</td>\n",
       "      <td>formerly smoked</td>\n",
       "      <td>1</td>\n",
       "    </tr>\n",
       "    <tr>\n",
       "      <th>19</th>\n",
       "      <td>124</td>\n",
       "      <td>Female</td>\n",
       "      <td>72.00</td>\n",
       "      <td>0</td>\n",
       "      <td>0</td>\n",
       "      <td>Yes</td>\n",
       "      <td>Private</td>\n",
       "      <td>Urban</td>\n",
       "      <td>219.91</td>\n",
       "      <td>NaN</td>\n",
       "      <td>Unknown</td>\n",
       "      <td>1</td>\n",
       "    </tr>\n",
       "    <tr>\n",
       "      <th>20</th>\n",
       "      <td>126</td>\n",
       "      <td>Male</td>\n",
       "      <td>78.00</td>\n",
       "      <td>1</td>\n",
       "      <td>0</td>\n",
       "      <td>Yes</td>\n",
       "      <td>Self-employed</td>\n",
       "      <td>Urban</td>\n",
       "      <td>93.13</td>\n",
       "      <td>NaN</td>\n",
       "      <td>formerly smoked</td>\n",
       "      <td>1</td>\n",
       "    </tr>\n",
       "    <tr>\n",
       "      <th>21</th>\n",
       "      <td>129</td>\n",
       "      <td>Female</td>\n",
       "      <td>75.00</td>\n",
       "      <td>0</td>\n",
       "      <td>0</td>\n",
       "      <td>Yes</td>\n",
       "      <td>Govt_job</td>\n",
       "      <td>Urban</td>\n",
       "      <td>62.48</td>\n",
       "      <td>NaN</td>\n",
       "      <td>Unknown</td>\n",
       "      <td>1</td>\n",
       "    </tr>\n",
       "    <tr>\n",
       "      <th>22</th>\n",
       "      <td>133</td>\n",
       "      <td>Female</td>\n",
       "      <td>38.00</td>\n",
       "      <td>0</td>\n",
       "      <td>0</td>\n",
       "      <td>Yes</td>\n",
       "      <td>Private</td>\n",
       "      <td>Rural</td>\n",
       "      <td>101.45</td>\n",
       "      <td>NaN</td>\n",
       "      <td>formerly smoked</td>\n",
       "      <td>1</td>\n",
       "    </tr>\n",
       "    <tr>\n",
       "      <th>23</th>\n",
       "      <td>146</td>\n",
       "      <td>Male</td>\n",
       "      <td>65.00</td>\n",
       "      <td>0</td>\n",
       "      <td>0</td>\n",
       "      <td>Yes</td>\n",
       "      <td>Self-employed</td>\n",
       "      <td>Urban</td>\n",
       "      <td>68.43</td>\n",
       "      <td>NaN</td>\n",
       "      <td>formerly smoked</td>\n",
       "      <td>1</td>\n",
       "    </tr>\n",
       "    <tr>\n",
       "      <th>24</th>\n",
       "      <td>150</td>\n",
       "      <td>Female</td>\n",
       "      <td>79.00</td>\n",
       "      <td>0</td>\n",
       "      <td>0</td>\n",
       "      <td>Yes</td>\n",
       "      <td>Private</td>\n",
       "      <td>Rural</td>\n",
       "      <td>169.67</td>\n",
       "      <td>NaN</td>\n",
       "      <td>Unknown</td>\n",
       "      <td>1</td>\n",
       "    </tr>\n",
       "    <tr>\n",
       "      <th>25</th>\n",
       "      <td>160</td>\n",
       "      <td>Female</td>\n",
       "      <td>76.00</td>\n",
       "      <td>0</td>\n",
       "      <td>0</td>\n",
       "      <td>Yes</td>\n",
       "      <td>Private</td>\n",
       "      <td>Urban</td>\n",
       "      <td>57.92</td>\n",
       "      <td>NaN</td>\n",
       "      <td>formerly smoked</td>\n",
       "      <td>1</td>\n",
       "    </tr>\n",
       "    <tr>\n",
       "      <th>26</th>\n",
       "      <td>161</td>\n",
       "      <td>Male</td>\n",
       "      <td>71.00</td>\n",
       "      <td>0</td>\n",
       "      <td>1</td>\n",
       "      <td>Yes</td>\n",
       "      <td>Private</td>\n",
       "      <td>Urban</td>\n",
       "      <td>81.76</td>\n",
       "      <td>NaN</td>\n",
       "      <td>smokes</td>\n",
       "      <td>1</td>\n",
       "    </tr>\n",
       "    <tr>\n",
       "      <th>27</th>\n",
       "      <td>162</td>\n",
       "      <td>Female</td>\n",
       "      <td>1.32</td>\n",
       "      <td>0</td>\n",
       "      <td>0</td>\n",
       "      <td>No</td>\n",
       "      <td>children</td>\n",
       "      <td>Urban</td>\n",
       "      <td>70.37</td>\n",
       "      <td>NaN</td>\n",
       "      <td>Unknown</td>\n",
       "      <td>1</td>\n",
       "    </tr>\n",
       "    <tr>\n",
       "      <th>28</th>\n",
       "      <td>167</td>\n",
       "      <td>Male</td>\n",
       "      <td>79.00</td>\n",
       "      <td>1</td>\n",
       "      <td>0</td>\n",
       "      <td>Yes</td>\n",
       "      <td>Private</td>\n",
       "      <td>Rural</td>\n",
       "      <td>75.02</td>\n",
       "      <td>NaN</td>\n",
       "      <td>never smoked</td>\n",
       "      <td>1</td>\n",
       "    </tr>\n",
       "    <tr>\n",
       "      <th>29</th>\n",
       "      <td>170</td>\n",
       "      <td>Male</td>\n",
       "      <td>64.00</td>\n",
       "      <td>0</td>\n",
       "      <td>0</td>\n",
       "      <td>Yes</td>\n",
       "      <td>Self-employed</td>\n",
       "      <td>Rural</td>\n",
       "      <td>111.98</td>\n",
       "      <td>NaN</td>\n",
       "      <td>formerly smoked</td>\n",
       "      <td>1</td>\n",
       "    </tr>\n",
       "    <tr>\n",
       "      <th>30</th>\n",
       "      <td>171</td>\n",
       "      <td>Female</td>\n",
       "      <td>79.00</td>\n",
       "      <td>1</td>\n",
       "      <td>1</td>\n",
       "      <td>No</td>\n",
       "      <td>Self-employed</td>\n",
       "      <td>Rural</td>\n",
       "      <td>60.94</td>\n",
       "      <td>NaN</td>\n",
       "      <td>never smoked</td>\n",
       "      <td>1</td>\n",
       "    </tr>\n",
       "    <tr>\n",
       "      <th>31</th>\n",
       "      <td>174</td>\n",
       "      <td>Female</td>\n",
       "      <td>78.00</td>\n",
       "      <td>0</td>\n",
       "      <td>0</td>\n",
       "      <td>Yes</td>\n",
       "      <td>Self-employed</td>\n",
       "      <td>Rural</td>\n",
       "      <td>60.67</td>\n",
       "      <td>NaN</td>\n",
       "      <td>formerly smoked</td>\n",
       "      <td>1</td>\n",
       "    </tr>\n",
       "    <tr>\n",
       "      <th>32</th>\n",
       "      <td>178</td>\n",
       "      <td>Female</td>\n",
       "      <td>80.00</td>\n",
       "      <td>0</td>\n",
       "      <td>0</td>\n",
       "      <td>Yes</td>\n",
       "      <td>Govt_job</td>\n",
       "      <td>Urban</td>\n",
       "      <td>110.66</td>\n",
       "      <td>NaN</td>\n",
       "      <td>Unknown</td>\n",
       "      <td>1</td>\n",
       "    </tr>\n",
       "    <tr>\n",
       "      <th>33</th>\n",
       "      <td>183</td>\n",
       "      <td>Female</td>\n",
       "      <td>77.00</td>\n",
       "      <td>0</td>\n",
       "      <td>0</td>\n",
       "      <td>No</td>\n",
       "      <td>Private</td>\n",
       "      <td>Urban</td>\n",
       "      <td>81.32</td>\n",
       "      <td>NaN</td>\n",
       "      <td>Unknown</td>\n",
       "      <td>1</td>\n",
       "    </tr>\n",
       "    <tr>\n",
       "      <th>34</th>\n",
       "      <td>189</td>\n",
       "      <td>Male</td>\n",
       "      <td>61.00</td>\n",
       "      <td>0</td>\n",
       "      <td>1</td>\n",
       "      <td>Yes</td>\n",
       "      <td>Private</td>\n",
       "      <td>Urban</td>\n",
       "      <td>209.86</td>\n",
       "      <td>NaN</td>\n",
       "      <td>Unknown</td>\n",
       "      <td>1</td>\n",
       "    </tr>\n",
       "    <tr>\n",
       "      <th>35</th>\n",
       "      <td>198</td>\n",
       "      <td>Male</td>\n",
       "      <td>79.00</td>\n",
       "      <td>0</td>\n",
       "      <td>0</td>\n",
       "      <td>Yes</td>\n",
       "      <td>Private</td>\n",
       "      <td>Rural</td>\n",
       "      <td>114.77</td>\n",
       "      <td>NaN</td>\n",
       "      <td>formerly smoked</td>\n",
       "      <td>1</td>\n",
       "    </tr>\n",
       "    <tr>\n",
       "      <th>36</th>\n",
       "      <td>200</td>\n",
       "      <td>Male</td>\n",
       "      <td>74.00</td>\n",
       "      <td>0</td>\n",
       "      <td>0</td>\n",
       "      <td>Yes</td>\n",
       "      <td>Private</td>\n",
       "      <td>Urban</td>\n",
       "      <td>167.13</td>\n",
       "      <td>NaN</td>\n",
       "      <td>Unknown</td>\n",
       "      <td>1</td>\n",
       "    </tr>\n",
       "    <tr>\n",
       "      <th>37</th>\n",
       "      <td>218</td>\n",
       "      <td>Female</td>\n",
       "      <td>76.00</td>\n",
       "      <td>1</td>\n",
       "      <td>1</td>\n",
       "      <td>Yes</td>\n",
       "      <td>Self-employed</td>\n",
       "      <td>Urban</td>\n",
       "      <td>199.86</td>\n",
       "      <td>NaN</td>\n",
       "      <td>smokes</td>\n",
       "      <td>1</td>\n",
       "    </tr>\n",
       "    <tr>\n",
       "      <th>38</th>\n",
       "      <td>227</td>\n",
       "      <td>Male</td>\n",
       "      <td>74.00</td>\n",
       "      <td>0</td>\n",
       "      <td>0</td>\n",
       "      <td>Yes</td>\n",
       "      <td>Self-employed</td>\n",
       "      <td>Rural</td>\n",
       "      <td>60.98</td>\n",
       "      <td>NaN</td>\n",
       "      <td>never smoked</td>\n",
       "      <td>1</td>\n",
       "    </tr>\n",
       "    <tr>\n",
       "      <th>39</th>\n",
       "      <td>247</td>\n",
       "      <td>Male</td>\n",
       "      <td>71.00</td>\n",
       "      <td>1</td>\n",
       "      <td>0</td>\n",
       "      <td>Yes</td>\n",
       "      <td>Self-employed</td>\n",
       "      <td>Rural</td>\n",
       "      <td>87.80</td>\n",
       "      <td>NaN</td>\n",
       "      <td>Unknown</td>\n",
       "      <td>1</td>\n",
       "    </tr>\n",
       "  </tbody>\n",
       "</table>\n",
       "</div>"
      ],
      "text/plain": [
       "    index  gender    age  hypertension  heart_disease ever_married  \\\n",
       "0       1  Female  61.00             0              0          Yes   \n",
       "1       8  Female  59.00             0              0          Yes   \n",
       "2      13    Male  78.00             0              1          Yes   \n",
       "3      19    Male  57.00             0              1           No   \n",
       "4      27    Male  58.00             0              0          Yes   \n",
       "5      29    Male  59.00             0              0          Yes   \n",
       "6      43  Female  63.00             0              0          Yes   \n",
       "7      46  Female  75.00             0              1           No   \n",
       "8      50  Female  76.00             0              0           No   \n",
       "9      51    Male  78.00             1              0          Yes   \n",
       "10     54  Female  63.00             0              0          Yes   \n",
       "11     57    Male  78.00             0              0          Yes   \n",
       "12     64    Male  75.00             0              0          Yes   \n",
       "13     70  Female  76.00             0              0          Yes   \n",
       "14     78  Female  51.00             0              0          Yes   \n",
       "15     81  Female  66.00             0              0          Yes   \n",
       "16     84    Male  58.00             0              0          Yes   \n",
       "17    105    Male  58.00             0              0          Yes   \n",
       "18    112  Female  76.00             0              0          Yes   \n",
       "19    124  Female  72.00             0              0          Yes   \n",
       "20    126    Male  78.00             1              0          Yes   \n",
       "21    129  Female  75.00             0              0          Yes   \n",
       "22    133  Female  38.00             0              0          Yes   \n",
       "23    146    Male  65.00             0              0          Yes   \n",
       "24    150  Female  79.00             0              0          Yes   \n",
       "25    160  Female  76.00             0              0          Yes   \n",
       "26    161    Male  71.00             0              1          Yes   \n",
       "27    162  Female   1.32             0              0           No   \n",
       "28    167    Male  79.00             1              0          Yes   \n",
       "29    170    Male  64.00             0              0          Yes   \n",
       "30    171  Female  79.00             1              1           No   \n",
       "31    174  Female  78.00             0              0          Yes   \n",
       "32    178  Female  80.00             0              0          Yes   \n",
       "33    183  Female  77.00             0              0           No   \n",
       "34    189    Male  61.00             0              1          Yes   \n",
       "35    198    Male  79.00             0              0          Yes   \n",
       "36    200    Male  74.00             0              0          Yes   \n",
       "37    218  Female  76.00             1              1          Yes   \n",
       "38    227    Male  74.00             0              0          Yes   \n",
       "39    247    Male  71.00             1              0          Yes   \n",
       "\n",
       "        work_type Residence_type  avg_glucose_level  bmi   smoking_status  \\\n",
       "0   Self-employed          Rural             202.21  NaN     never smoked   \n",
       "1         Private          Rural              76.15  NaN          Unknown   \n",
       "2         Private          Urban             219.84  NaN          Unknown   \n",
       "3        Govt_job          Urban             217.08  NaN          Unknown   \n",
       "4         Private          Rural             189.84  NaN          Unknown   \n",
       "5         Private          Rural             211.78  NaN  formerly smoked   \n",
       "6         Private          Urban              90.90  NaN  formerly smoked   \n",
       "7   Self-employed          Urban             109.78  NaN          Unknown   \n",
       "8         Private          Urban              89.96  NaN          Unknown   \n",
       "9         Private          Urban              75.32  NaN  formerly smoked   \n",
       "10       Govt_job          Urban             197.54  NaN     never smoked   \n",
       "11        Private          Urban             237.75  NaN  formerly smoked   \n",
       "12        Private          Urban             104.72  NaN          Unknown   \n",
       "13       Govt_job          Rural              62.57  NaN  formerly smoked   \n",
       "14        Private          Urban             165.31  NaN     never smoked   \n",
       "15  Self-employed          Urban             101.45  NaN          Unknown   \n",
       "16        Private          Urban              71.20  NaN          Unknown   \n",
       "17        Private          Urban              82.30  NaN           smokes   \n",
       "18  Self-employed          Urban             106.41  NaN  formerly smoked   \n",
       "19        Private          Urban             219.91  NaN          Unknown   \n",
       "20  Self-employed          Urban              93.13  NaN  formerly smoked   \n",
       "21       Govt_job          Urban              62.48  NaN          Unknown   \n",
       "22        Private          Rural             101.45  NaN  formerly smoked   \n",
       "23  Self-employed          Urban              68.43  NaN  formerly smoked   \n",
       "24        Private          Rural             169.67  NaN          Unknown   \n",
       "25        Private          Urban              57.92  NaN  formerly smoked   \n",
       "26        Private          Urban              81.76  NaN           smokes   \n",
       "27       children          Urban              70.37  NaN          Unknown   \n",
       "28        Private          Rural              75.02  NaN     never smoked   \n",
       "29  Self-employed          Rural             111.98  NaN  formerly smoked   \n",
       "30  Self-employed          Rural              60.94  NaN     never smoked   \n",
       "31  Self-employed          Rural              60.67  NaN  formerly smoked   \n",
       "32       Govt_job          Urban             110.66  NaN          Unknown   \n",
       "33        Private          Urban              81.32  NaN          Unknown   \n",
       "34        Private          Urban             209.86  NaN          Unknown   \n",
       "35        Private          Rural             114.77  NaN  formerly smoked   \n",
       "36        Private          Urban             167.13  NaN          Unknown   \n",
       "37  Self-employed          Urban             199.86  NaN           smokes   \n",
       "38  Self-employed          Rural              60.98  NaN     never smoked   \n",
       "39  Self-employed          Rural              87.80  NaN          Unknown   \n",
       "\n",
       "    stroke  \n",
       "0        1  \n",
       "1        1  \n",
       "2        1  \n",
       "3        1  \n",
       "4        1  \n",
       "5        1  \n",
       "6        1  \n",
       "7        1  \n",
       "8        1  \n",
       "9        1  \n",
       "10       1  \n",
       "11       1  \n",
       "12       1  \n",
       "13       1  \n",
       "14       1  \n",
       "15       1  \n",
       "16       1  \n",
       "17       1  \n",
       "18       1  \n",
       "19       1  \n",
       "20       1  \n",
       "21       1  \n",
       "22       1  \n",
       "23       1  \n",
       "24       1  \n",
       "25       1  \n",
       "26       1  \n",
       "27       1  \n",
       "28       1  \n",
       "29       1  \n",
       "30       1  \n",
       "31       1  \n",
       "32       1  \n",
       "33       1  \n",
       "34       1  \n",
       "35       1  \n",
       "36       1  \n",
       "37       1  \n",
       "38       1  \n",
       "39       1  "
      ]
     },
     "execution_count": 12,
     "metadata": {},
     "output_type": "execute_result"
    }
   ],
   "source": [
    "strokedata[strokedata.bmi.isnull() & strokedata.stroke == 1].reset_index()"
   ]
  },
  {
   "cell_type": "markdown",
   "id": "f4645756-eda7-46f8-8fe0-4879173bafa7",
   "metadata": {},
   "source": [
    "Let's take a look at some basic measures about `bmi` first. "
   ]
  },
  {
   "cell_type": "code",
   "execution_count": 13,
   "id": "1fbf9990-c433-4e7a-8bc3-c47a34b9eaae",
   "metadata": {},
   "outputs": [
    {
     "name": "stdout",
     "output_type": "stream",
     "text": [
      "Mean\t 28.894559902200502\n",
      "Median\t 28.1\n",
      "Mode\t 28.7\n"
     ]
    }
   ],
   "source": [
    "print(\"Mean\\t\", strokedata.bmi.mean())\n",
    "print(\"Median\\t\", strokedata.bmi.median())\n",
    "print(\"Mode\\t\", strokedata.bmi.mode().values[0])"
   ]
  },
  {
   "cell_type": "markdown",
   "id": "09bc5778-1621-4f26-98ca-60c66bf02661",
   "metadata": {},
   "source": [
    "All 3 values are within the range of `28.0` to `29.0`, but a fair estimate of the mean would be one without any **outliers** so they must be dropped."
   ]
  },
  {
   "cell_type": "code",
   "execution_count": 14,
   "id": "84da6ead-cdc2-4162-b886-3e61da26f30d",
   "metadata": {},
   "outputs": [],
   "source": [
    "bmi = pd.DataFrame(strokedata['bmi'])\n",
    "\n",
    "# Calculating Quartiles and IQR\n",
    "Q1 = bmi.quantile(0.25).values[0]\n",
    "Q3 = bmi.quantile(0.75).values[0]\n",
    "IQR = Q3 - Q1"
   ]
  },
  {
   "cell_type": "code",
   "execution_count": 15,
   "id": "18b6f4c4-a9b1-49a3-9a88-d05b59f026fd",
   "metadata": {},
   "outputs": [
    {
     "data": {
      "text/markdown": [
       "&nbsp;**Number of Outliers:** 110"
      ],
      "text/plain": [
       "<IPython.core.display.Markdown object>"
      ]
     },
     "metadata": {},
     "output_type": "display_data"
    },
    {
     "data": {
      "text/markdown": [
       "&nbsp;**Range:** 47.6 - 97.6"
      ],
      "text/plain": [
       "<IPython.core.display.Markdown object>"
      ]
     },
     "metadata": {},
     "output_type": "display_data"
    },
    {
     "data": {
      "text/markdown": [
       "&nbsp;**Values:** [47.6, 49.5, 56.6, 54.1, 47.6, 47.8, 60.9, 51.7, 48.1, 50.2, 57.2, 48.8, 55.7, 47.6, 57.9, 55.9, 50.8, 92.0, 64.4, 57.2, 50.6, 50.9, 55.0, 47.9, 54.3, 53.8, 49.9, 61.6, 54.7, 52.9, 52.5, 59.7, 50.3, 53.4, 51.9, 49.3, 48.3, 52.7, 50.4, 49.3, 58.1, 48.3, 50.1, 48.0, 61.2, 52.8, 63.3, 51.9, 50.5, 53.5, 55.7, 52.8, 52.7, 48.8, 53.8, 48.9, 48.7, 49.2, 48.5, 49.4, 53.9, 97.6, 56.1, 54.0, 49.8, 49.3, 48.9, 57.7, 51.8, 56.0, 49.8, 57.3, 55.9, 48.5, 55.1, 66.8, 52.8, 50.2, 54.8, 55.0, 49.5, 50.6, 48.4, 55.2, 53.4, 50.2, 78.0, 50.3, 52.3, 54.2, 57.5, 55.7, 55.7, 54.6, 47.8, 50.2, 71.9, 51.5, 51.0, 60.2, 49.8, 54.7, 64.8, 48.2, 54.7, 60.9, 54.6, 50.1, 56.6, 48.9]"
      ],
      "text/plain": [
       "<IPython.core.display.Markdown object>"
      ]
     },
     "metadata": {},
     "output_type": "display_data"
    },
    {
     "data": {
      "text/markdown": [
       "&nbsp;**New Shape:** (4999, 1)"
      ],
      "text/plain": [
       "<IPython.core.display.Markdown object>"
      ]
     },
     "metadata": {},
     "output_type": "display_data"
    }
   ],
   "source": [
    "outliers = []\n",
    "\n",
    "# Iterate and append outliers to list\n",
    "for x in range(len(bmi)-1,-1,-1):\n",
    "    val = bmi.iloc[x].values[0]\n",
    "    if(val < (Q1 - 1.5 * IQR) or val > (Q3 + 1.5 * IQR)):\n",
    "        outliers.append(val)\n",
    "        bmi.drop(bmi.index[x], inplace=True)\n",
    "        \n",
    "printmd('**Number of Outliers:** {}'.format(len(outliers)))\n",
    "printmd('**Range:** {} - {}'.format(min(outliers), max(outliers)))\n",
    "printmd('**Values:** ' + str(outliers))\n",
    "printmd('**New Shape:** ' + str(bmi.shape))"
   ]
  },
  {
   "cell_type": "markdown",
   "id": "e474eb28-4736-42d3-afde-3ebeb1d1ad95",
   "metadata": {},
   "source": [
    "There were `110` outliers ranging in values from `47.6` to `97.6`   \n",
    "\n",
    "These are the new measures of `bmi` after dropping all outliers:"
   ]
  },
  {
   "cell_type": "code",
   "execution_count": 16,
   "id": "bae2ac69-1ea0-4451-8e37-ad6b27cf3f0d",
   "metadata": {},
   "outputs": [
    {
     "name": "stdout",
     "output_type": "stream",
     "text": [
      "Mean\t 28.314818674447704\n",
      "Median\t 27.9\n",
      "Mode\t 28.7\n"
     ]
    }
   ],
   "source": [
    "print(\"Mean\\t\", bmi.mean().values[0])\n",
    "print(\"Median\\t\", bmi.median().values[0])\n",
    "print(\"Mode\\t\", bmi.mode().values[0][0])"
   ]
  },
  {
   "cell_type": "markdown",
   "id": "74f65a97-7a78-4f12-8152-1cb7a9f62666",
   "metadata": {},
   "source": [
    "The mean has dropped to `28.3`, which is a more accurate measure and we will be using this number to fill all the missing values  "
   ]
  },
  {
   "cell_type": "code",
   "execution_count": 17,
   "id": "ab5eee77-a8a0-48d7-bf68-6f881a5b2b82",
   "metadata": {},
   "outputs": [
    {
     "data": {
      "text/markdown": [
       "&nbsp;**Null List**"
      ],
      "text/plain": [
       "<IPython.core.display.Markdown object>"
      ]
     },
     "metadata": {},
     "output_type": "display_data"
    },
    {
     "name": "stdout",
     "output_type": "stream",
     "text": [
      "gender               0\n",
      "age                  0\n",
      "hypertension         0\n",
      "heart_disease        0\n",
      "ever_married         0\n",
      "work_type            0\n",
      "Residence_type       0\n",
      "avg_glucose_level    0\n",
      "bmi                  0\n",
      "smoking_status       0\n",
      "stroke               0\n",
      "dtype: int64 \n",
      "\n"
     ]
    },
    {
     "data": {
      "text/html": [
       "<div>\n",
       "<style scoped>\n",
       "    .dataframe tbody tr th:only-of-type {\n",
       "        vertical-align: middle;\n",
       "    }\n",
       "\n",
       "    .dataframe tbody tr th {\n",
       "        vertical-align: top;\n",
       "    }\n",
       "\n",
       "    .dataframe thead th {\n",
       "        text-align: right;\n",
       "    }\n",
       "</style>\n",
       "<table border=\"1\" class=\"dataframe\">\n",
       "  <thead>\n",
       "    <tr style=\"text-align: right;\">\n",
       "      <th></th>\n",
       "      <th>gender</th>\n",
       "      <th>age</th>\n",
       "      <th>hypertension</th>\n",
       "      <th>heart_disease</th>\n",
       "      <th>ever_married</th>\n",
       "      <th>work_type</th>\n",
       "      <th>Residence_type</th>\n",
       "      <th>avg_glucose_level</th>\n",
       "      <th>bmi</th>\n",
       "      <th>smoking_status</th>\n",
       "      <th>stroke</th>\n",
       "    </tr>\n",
       "  </thead>\n",
       "  <tbody>\n",
       "    <tr>\n",
       "      <th>0</th>\n",
       "      <td>Male</td>\n",
       "      <td>67.0</td>\n",
       "      <td>0</td>\n",
       "      <td>1</td>\n",
       "      <td>Yes</td>\n",
       "      <td>Private</td>\n",
       "      <td>Urban</td>\n",
       "      <td>228.69</td>\n",
       "      <td>36.6</td>\n",
       "      <td>formerly smoked</td>\n",
       "      <td>1</td>\n",
       "    </tr>\n",
       "    <tr>\n",
       "      <th>1</th>\n",
       "      <td>Female</td>\n",
       "      <td>61.0</td>\n",
       "      <td>0</td>\n",
       "      <td>0</td>\n",
       "      <td>Yes</td>\n",
       "      <td>Self-employed</td>\n",
       "      <td>Rural</td>\n",
       "      <td>202.21</td>\n",
       "      <td>28.3</td>\n",
       "      <td>never smoked</td>\n",
       "      <td>1</td>\n",
       "    </tr>\n",
       "    <tr>\n",
       "      <th>2</th>\n",
       "      <td>Male</td>\n",
       "      <td>80.0</td>\n",
       "      <td>0</td>\n",
       "      <td>1</td>\n",
       "      <td>Yes</td>\n",
       "      <td>Private</td>\n",
       "      <td>Rural</td>\n",
       "      <td>105.92</td>\n",
       "      <td>32.5</td>\n",
       "      <td>never smoked</td>\n",
       "      <td>1</td>\n",
       "    </tr>\n",
       "    <tr>\n",
       "      <th>3</th>\n",
       "      <td>Female</td>\n",
       "      <td>49.0</td>\n",
       "      <td>0</td>\n",
       "      <td>0</td>\n",
       "      <td>Yes</td>\n",
       "      <td>Private</td>\n",
       "      <td>Urban</td>\n",
       "      <td>171.23</td>\n",
       "      <td>34.4</td>\n",
       "      <td>smokes</td>\n",
       "      <td>1</td>\n",
       "    </tr>\n",
       "    <tr>\n",
       "      <th>4</th>\n",
       "      <td>Female</td>\n",
       "      <td>79.0</td>\n",
       "      <td>1</td>\n",
       "      <td>0</td>\n",
       "      <td>Yes</td>\n",
       "      <td>Self-employed</td>\n",
       "      <td>Rural</td>\n",
       "      <td>174.12</td>\n",
       "      <td>24.0</td>\n",
       "      <td>never smoked</td>\n",
       "      <td>1</td>\n",
       "    </tr>\n",
       "    <tr>\n",
       "      <th>5</th>\n",
       "      <td>Male</td>\n",
       "      <td>81.0</td>\n",
       "      <td>0</td>\n",
       "      <td>0</td>\n",
       "      <td>Yes</td>\n",
       "      <td>Private</td>\n",
       "      <td>Urban</td>\n",
       "      <td>186.21</td>\n",
       "      <td>29.0</td>\n",
       "      <td>formerly smoked</td>\n",
       "      <td>1</td>\n",
       "    </tr>\n",
       "    <tr>\n",
       "      <th>6</th>\n",
       "      <td>Male</td>\n",
       "      <td>74.0</td>\n",
       "      <td>1</td>\n",
       "      <td>1</td>\n",
       "      <td>Yes</td>\n",
       "      <td>Private</td>\n",
       "      <td>Rural</td>\n",
       "      <td>70.09</td>\n",
       "      <td>27.4</td>\n",
       "      <td>never smoked</td>\n",
       "      <td>1</td>\n",
       "    </tr>\n",
       "    <tr>\n",
       "      <th>7</th>\n",
       "      <td>Female</td>\n",
       "      <td>69.0</td>\n",
       "      <td>0</td>\n",
       "      <td>0</td>\n",
       "      <td>No</td>\n",
       "      <td>Private</td>\n",
       "      <td>Urban</td>\n",
       "      <td>94.39</td>\n",
       "      <td>22.8</td>\n",
       "      <td>never smoked</td>\n",
       "      <td>1</td>\n",
       "    </tr>\n",
       "    <tr>\n",
       "      <th>8</th>\n",
       "      <td>Female</td>\n",
       "      <td>59.0</td>\n",
       "      <td>0</td>\n",
       "      <td>0</td>\n",
       "      <td>Yes</td>\n",
       "      <td>Private</td>\n",
       "      <td>Rural</td>\n",
       "      <td>76.15</td>\n",
       "      <td>28.3</td>\n",
       "      <td>Unknown</td>\n",
       "      <td>1</td>\n",
       "    </tr>\n",
       "    <tr>\n",
       "      <th>9</th>\n",
       "      <td>Female</td>\n",
       "      <td>78.0</td>\n",
       "      <td>0</td>\n",
       "      <td>0</td>\n",
       "      <td>Yes</td>\n",
       "      <td>Private</td>\n",
       "      <td>Urban</td>\n",
       "      <td>58.57</td>\n",
       "      <td>24.2</td>\n",
       "      <td>Unknown</td>\n",
       "      <td>1</td>\n",
       "    </tr>\n",
       "  </tbody>\n",
       "</table>\n",
       "</div>"
      ],
      "text/plain": [
       "   gender   age  hypertension  heart_disease ever_married      work_type  \\\n",
       "0    Male  67.0             0              1          Yes        Private   \n",
       "1  Female  61.0             0              0          Yes  Self-employed   \n",
       "2    Male  80.0             0              1          Yes        Private   \n",
       "3  Female  49.0             0              0          Yes        Private   \n",
       "4  Female  79.0             1              0          Yes  Self-employed   \n",
       "5    Male  81.0             0              0          Yes        Private   \n",
       "6    Male  74.0             1              1          Yes        Private   \n",
       "7  Female  69.0             0              0           No        Private   \n",
       "8  Female  59.0             0              0          Yes        Private   \n",
       "9  Female  78.0             0              0          Yes        Private   \n",
       "\n",
       "  Residence_type  avg_glucose_level   bmi   smoking_status  stroke  \n",
       "0          Urban             228.69  36.6  formerly smoked       1  \n",
       "1          Rural             202.21  28.3     never smoked       1  \n",
       "2          Rural             105.92  32.5     never smoked       1  \n",
       "3          Urban             171.23  34.4           smokes       1  \n",
       "4          Rural             174.12  24.0     never smoked       1  \n",
       "5          Urban             186.21  29.0  formerly smoked       1  \n",
       "6          Rural              70.09  27.4     never smoked       1  \n",
       "7          Urban              94.39  22.8     never smoked       1  \n",
       "8          Rural              76.15  28.3          Unknown       1  \n",
       "9          Urban              58.57  24.2          Unknown       1  "
      ]
     },
     "execution_count": 17,
     "metadata": {},
     "output_type": "execute_result"
    }
   ],
   "source": [
    "strokedata.bmi.fillna(28.3,inplace=True)\n",
    "printmd(\"**Null List**\")\n",
    "print(strokedata.isnull().sum(axis = 0),'\\n')\n",
    "strokedata.head(10)"
   ]
  },
  {
   "cell_type": "markdown",
   "id": "4e5f8d20-6bdf-45c7-98ce-be8d6030e279",
   "metadata": {},
   "source": [
    "The null values have been successfully filled"
   ]
  },
  {
   "cell_type": "markdown",
   "id": "2b8d15f0-e90d-4416-a923-356bc9549cf7",
   "metadata": {},
   "source": [
    "---\n",
    "#### 4) Setting Categorical Columns <a class=\"anchor\" id=\"setting_categories\"></a>"
   ]
  },
  {
   "cell_type": "code",
   "execution_count": 18,
   "id": "6430277f-7ace-40ad-91ef-2eaf7d3af63e",
   "metadata": {},
   "outputs": [
    {
     "data": {
      "text/plain": [
       "gender               category\n",
       "age                   float64\n",
       "hypertension         category\n",
       "heart_disease        category\n",
       "ever_married         category\n",
       "work_type            category\n",
       "Residence_type       category\n",
       "avg_glucose_level     float64\n",
       "bmi                   float64\n",
       "smoking_status       category\n",
       "stroke               category\n",
       "dtype: object"
      ]
     },
     "execution_count": 18,
     "metadata": {},
     "output_type": "execute_result"
    }
   ],
   "source": [
    "categorical = [ 'gender', 'hypertension', 'heart_disease', 'ever_married', 'work_type', 'Residence_type', 'smoking_status', 'stroke' ]\n",
    "strokedata[categorical] = strokedata[categorical].astype('category')\n",
    "strokedata.dtypes"
   ]
  },
  {
   "cell_type": "markdown",
   "id": "66ebfc2f-cb1a-452f-b516-f78faefd343b",
   "metadata": {},
   "source": [
    "\n",
    "---\n",
    "## Exploratory Data Analysis\n",
    "\n",
    "It will be a good idea to see how every variable compares to `stroke` to see whether we can right away identify some variables which have a strong influence on `stroke`. \n",
    "\n",
    "Since `stroke` is a naturally dichotomous categorical variable (i.e. it has either happened or not happened, it is not on a scale and we haven't forced it to become dichotomous artificially), when comparing it to continuous variables such as `bmi` and `age`, the point-biserial correlation can be used to give a more accurate measure of the dependency between the two. \n",
    "\n",
    "### Numerical Variables\n",
    "<a class=\"anchor\" id=\"age\"></a>\n",
    "#### 1) age "
   ]
  },
  {
   "cell_type": "code",
   "execution_count": 19,
   "id": "6206d0c9-c3a3-47d8-9fbc-3735560a9167",
   "metadata": {},
   "outputs": [
    {
     "data": {
      "text/html": [
       "<div>\n",
       "<style scoped>\n",
       "    .dataframe tbody tr th:only-of-type {\n",
       "        vertical-align: middle;\n",
       "    }\n",
       "\n",
       "    .dataframe tbody tr th {\n",
       "        vertical-align: top;\n",
       "    }\n",
       "\n",
       "    .dataframe thead th {\n",
       "        text-align: right;\n",
       "    }\n",
       "</style>\n",
       "<table border=\"1\" class=\"dataframe\">\n",
       "  <thead>\n",
       "    <tr style=\"text-align: right;\">\n",
       "      <th></th>\n",
       "      <th>age</th>\n",
       "    </tr>\n",
       "  </thead>\n",
       "  <tbody>\n",
       "    <tr>\n",
       "      <th>count</th>\n",
       "      <td>5109.000000</td>\n",
       "    </tr>\n",
       "    <tr>\n",
       "      <th>mean</th>\n",
       "      <td>43.229986</td>\n",
       "    </tr>\n",
       "    <tr>\n",
       "      <th>std</th>\n",
       "      <td>22.613575</td>\n",
       "    </tr>\n",
       "    <tr>\n",
       "      <th>min</th>\n",
       "      <td>0.080000</td>\n",
       "    </tr>\n",
       "    <tr>\n",
       "      <th>25%</th>\n",
       "      <td>25.000000</td>\n",
       "    </tr>\n",
       "    <tr>\n",
       "      <th>50%</th>\n",
       "      <td>45.000000</td>\n",
       "    </tr>\n",
       "    <tr>\n",
       "      <th>75%</th>\n",
       "      <td>61.000000</td>\n",
       "    </tr>\n",
       "    <tr>\n",
       "      <th>max</th>\n",
       "      <td>82.000000</td>\n",
       "    </tr>\n",
       "  </tbody>\n",
       "</table>\n",
       "</div>"
      ],
      "text/plain": [
       "               age\n",
       "count  5109.000000\n",
       "mean     43.229986\n",
       "std      22.613575\n",
       "min       0.080000\n",
       "25%      25.000000\n",
       "50%      45.000000\n",
       "75%      61.000000\n",
       "max      82.000000"
      ]
     },
     "execution_count": 19,
     "metadata": {},
     "output_type": "execute_result"
    }
   ],
   "source": [
    "age = pd.DataFrame(strokedata.age)\n",
    "age.describe()"
   ]
  },
  {
   "cell_type": "markdown",
   "id": "92a8a4b6-4653-4797-9694-6514189fc887",
   "metadata": {},
   "source": [
    "The patient ages are distributed from `0.08` to `82.0` years of age. `0.08` years is roughly equal to `29 days`, so patients as young as 1-month old infants are also included in this study."
   ]
  },
  {
   "cell_type": "code",
   "execution_count": 20,
   "id": "87cc6719-d953-49a6-87a9-4ddfa695abf2",
   "metadata": {},
   "outputs": [
    {
     "data": {
      "text/markdown": [
       "&nbsp;**Boxplot**"
      ],
      "text/plain": [
       "<IPython.core.display.Markdown object>"
      ]
     },
     "metadata": {},
     "output_type": "display_data"
    },
    {
     "data": {
      "image/png": "[encoded data removed]",
      "text/plain": [
       "<Figure size 1728x288 with 1 Axes>"
      ]
     },
     "metadata": {},
     "output_type": "display_data"
    }
   ],
   "source": [
    "printmd(\"**Boxplot**\")\n",
    "f = plt.figure(figsize=(24, 4))\n",
    "sb.boxplot(data = age, orient = \"h\");"
   ]
  },
  {
   "cell_type": "markdown",
   "id": "d061bb5c-fb01-4ceb-a37b-4c835a6e9623",
   "metadata": {},
   "source": [
    "There are no outliers within `age` "
   ]
  },
  {
   "cell_type": "code",
   "execution_count": 21,
   "id": "e4442808-1f2b-44ec-b0d8-92b174812fdf",
   "metadata": {},
   "outputs": [
    {
     "data": {
      "text/markdown": [
       "&nbsp;**Histplot with KDE**"
      ],
      "text/plain": [
       "<IPython.core.display.Markdown object>"
      ]
     },
     "metadata": {},
     "output_type": "display_data"
    },
    {
     "data": {
      "image/png": "[encoded data removed]",
      "text/plain": [
       "<Figure size 1152x576 with 1 Axes>"
      ]
     },
     "metadata": {},
     "output_type": "display_data"
    }
   ],
   "source": [
    "printmd(\"**Histplot with KDE**\")\n",
    "f = plt.figure(figsize=(16, 8))\n",
    "sb.histplot(data = age, kde = True);"
   ]
  },
  {
   "cell_type": "markdown",
   "id": "ef649e51-6edd-423a-9492-9d76398bee2f",
   "metadata": {},
   "source": [
    "The data is distributed fairly equally between all age groups though there are less patients in the `0-20` years age group. "
   ]
  },
  {
   "cell_type": "code",
   "execution_count": 22,
   "id": "b62f9339-fe33-4deb-bfa5-dd31bc426bc6",
   "metadata": {},
   "outputs": [
    {
     "data": {
      "text/markdown": [
       "&nbsp;**`age` vs `stroke` Boxplot and Swarmplot (Stripped)**"
      ],
      "text/plain": [
       "<IPython.core.display.Markdown object>"
      ]
     },
     "metadata": {},
     "output_type": "display_data"
    },
    {
     "data": {
      "image/png": "[encoded data removed]",
      "text/plain": [
       "<Figure size 1152x1152 with 2 Axes>"
      ]
     },
     "metadata": {},
     "output_type": "display_data"
    }
   ],
   "source": [
    "printmd(\"**`age` vs `stroke` Boxplot and Swarmplot (Stripped)**\")\n",
    "fig, (boxplot, swarmplot) = plt.subplots(2,1,figsize=(16,16))\n",
    "sb.boxplot(x = 'age', y = 'stroke', data = strokedata, orient=\"h\", ax = boxplot)\n",
    "sb.stripplot(x = 'age', y = 'stroke', data = strokedata, orient=\"h\", ax = swarmplot);"
   ]
  },
  {
   "cell_type": "markdown",
   "id": "462413fc-07cc-41eb-b4e9-ce1cc5b8af24",
   "metadata": {},
   "source": [
    "When comparing `age` to `stroke` there is a significant difference between the medians and spread of `no stroke` and `positive stroke` events. Positive stroke events generally occur in older age groups with 50% of them lying between the `60-80` age group. \n",
    "\n",
    "There are also 2 patients (roughly aged `1` and `17`) who had a stroke and they are considered to be outliers. \n",
    "\n",
    "Point-biserial correlation can be used to give a more accurate measure of dependency. Since it is based on Pearson's correlation coefficient, it will be heavily affected by outliers. So, we will remove the 2 outliers when calculating the coefficient. "
   ]
  },
  {
   "cell_type": "code",
   "execution_count": 23,
   "id": "5a9e1918-e0da-4da9-9e81-3dcd517695e4",
   "metadata": {},
   "outputs": [
    {
     "name": "stdout",
     "output_type": "stream",
     "text": [
      "New Shape - (5107, 2)\n"
     ]
    }
   ],
   "source": [
    "# Make copy with just age and stroke\n",
    "age_stroke = strokedata[['age', 'stroke']].copy()\n",
    "\n",
    "# Filter outliers\n",
    "age_stroke.drop(age_stroke[(age_stroke.stroke == 1) & (age_stroke.age < 20)].index, inplace=True)\n",
    "\n",
    "print('New Shape -', age_stroke.shape)"
   ]
  },
  {
   "cell_type": "code",
   "execution_count": 24,
   "id": "33eebab8-8bb2-4d1b-af4d-6989f5c04f26",
   "metadata": {},
   "outputs": [
    {
     "data": {
      "text/plain": [
       "PointbiserialrResult(correlation=0.24903811899662243, pvalue=4.7261223214151606e-73)"
      ]
     },
     "execution_count": 24,
     "metadata": {},
     "output_type": "execute_result"
    }
   ],
   "source": [
    "stats.pointbiserialr(age_stroke.age, age_stroke.stroke)"
   ]
  },
  {
   "cell_type": "markdown",
   "id": "725721b7-b36a-4402-85d1-d435ad3009f5",
   "metadata": {},
   "source": [
    "From the box plot comparison, it seemed that there would be a strong relation between `age` and `stroke`, especially because of the older age groups. However, point-biserial only gave a low correlation of `0.25` and that may have to do with the difference in sizes between no stroke and positive stroke events. "
   ]
  },
  {
   "cell_type": "code",
   "execution_count": 25,
   "id": "ea293a17-a67a-430e-9629-3e6a7d287a2c",
   "metadata": {},
   "outputs": [
    {
     "name": "stdout",
     "output_type": "stream",
     "text": [
      "Total Stroke - 249\n"
     ]
    },
    {
     "data": {
      "text/markdown": [
       "&nbsp;**Age Group 60-80**"
      ],
      "text/plain": [
       "<IPython.core.display.Markdown object>"
      ]
     },
     "metadata": {},
     "output_type": "display_data"
    },
    {
     "name": "stdout",
     "output_type": "stream",
     "text": [
      "Total -  1260\n",
      "No Stroke - 1102\n",
      "Had Stroke - 158\n"
     ]
    }
   ],
   "source": [
    "print('Total Stroke -', len(strokedata[strokedata.stroke == 1]))\n",
    "\n",
    "printmd('**Age Group 60-80**')\n",
    "print('Total - ', len(strokedata[(strokedata.age >= 60) & (strokedata.age <= 80)]))\n",
    "print('No Stroke -', len(strokedata[(strokedata.stroke == 0) & (strokedata.age >= 60) & (strokedata.age <= 80)]))\n",
    "print('Had Stroke -', len(strokedata[(strokedata.stroke == 1) & (strokedata.age >= 60) & (strokedata.age <= 80)]))"
   ]
  },
  {
   "cell_type": "markdown",
   "id": "d8a22799-a58b-43d8-a5eb-fc5c8754c95e",
   "metadata": {},
   "source": [
    "We can see that even though a huge chunk ($158/249 = 63.45\\%$) of positive stroke events belong to the `60-80` age group. There are still many in this age group who never had a stroke and these positive stroke events only represent a small fraction of this age group. $(128/1260 = 10.16\\%)$, which further substantiates the low correlation."
   ]
  },
  {
   "cell_type": "markdown",
   "id": "00d2b558-6889-44f7-941c-890bb469db6e",
   "metadata": {},
   "source": [
    "---\n",
    "<a class=\"anchor\" id=\"avg_glucose_level\"></a>\n",
    "#### 2) avg_glucose_level"
   ]
  },
  {
   "cell_type": "code",
   "execution_count": 26,
   "id": "c769f83e-8e4e-424a-8b78-fbfccebd1646",
   "metadata": {},
   "outputs": [
    {
     "data": {
      "text/html": [
       "<div>\n",
       "<style scoped>\n",
       "    .dataframe tbody tr th:only-of-type {\n",
       "        vertical-align: middle;\n",
       "    }\n",
       "\n",
       "    .dataframe tbody tr th {\n",
       "        vertical-align: top;\n",
       "    }\n",
       "\n",
       "    .dataframe thead th {\n",
       "        text-align: right;\n",
       "    }\n",
       "</style>\n",
       "<table border=\"1\" class=\"dataframe\">\n",
       "  <thead>\n",
       "    <tr style=\"text-align: right;\">\n",
       "      <th></th>\n",
       "      <th>avg_glucose_level</th>\n",
       "    </tr>\n",
       "  </thead>\n",
       "  <tbody>\n",
       "    <tr>\n",
       "      <th>count</th>\n",
       "      <td>5109.000000</td>\n",
       "    </tr>\n",
       "    <tr>\n",
       "      <th>mean</th>\n",
       "      <td>106.140399</td>\n",
       "    </tr>\n",
       "    <tr>\n",
       "      <th>std</th>\n",
       "      <td>45.285004</td>\n",
       "    </tr>\n",
       "    <tr>\n",
       "      <th>min</th>\n",
       "      <td>55.120000</td>\n",
       "    </tr>\n",
       "    <tr>\n",
       "      <th>25%</th>\n",
       "      <td>77.240000</td>\n",
       "    </tr>\n",
       "    <tr>\n",
       "      <th>50%</th>\n",
       "      <td>91.880000</td>\n",
       "    </tr>\n",
       "    <tr>\n",
       "      <th>75%</th>\n",
       "      <td>114.090000</td>\n",
       "    </tr>\n",
       "    <tr>\n",
       "      <th>max</th>\n",
       "      <td>271.740000</td>\n",
       "    </tr>\n",
       "  </tbody>\n",
       "</table>\n",
       "</div>"
      ],
      "text/plain": [
       "       avg_glucose_level\n",
       "count        5109.000000\n",
       "mean          106.140399\n",
       "std            45.285004\n",
       "min            55.120000\n",
       "25%            77.240000\n",
       "50%            91.880000\n",
       "75%           114.090000\n",
       "max           271.740000"
      ]
     },
     "execution_count": 26,
     "metadata": {},
     "output_type": "execute_result"
    }
   ],
   "source": [
    "glucose = pd.DataFrame(strokedata.avg_glucose_level)\n",
    "glucose.describe()"
   ]
  },
  {
   "cell_type": "markdown",
   "id": "9e0ae2d7-a687-46e9-965f-48e79127cfe6",
   "metadata": {},
   "source": [
    "`avg_glucose_level` has values ranging from `55.12` to `271.74`. Glucose level is measured in mg/dL where `140mg/dL` is considered normal, `70-90mg/dL` is acceptable and happens oftentimes during fasting, glucose beyond `180mg/dL` is considered to be risky and could be an indicator of diabetes. "
   ]
  },
  {
   "cell_type": "code",
   "execution_count": 27,
   "id": "3e6fa137-c174-4f68-9109-fb3b888c9ce3",
   "metadata": {},
   "outputs": [
    {
     "data": {
      "text/markdown": [
       "&nbsp;**Boxplot**"
      ],
      "text/plain": [
       "<IPython.core.display.Markdown object>"
      ]
     },
     "metadata": {},
     "output_type": "display_data"
    },
    {
     "data": {
      "image/png": "[encoded data removed]",
      "text/plain": [
       "<Figure size 1728x288 with 1 Axes>"
      ]
     },
     "metadata": {},
     "output_type": "display_data"
    }
   ],
   "source": [
    "printmd(\"**Boxplot**\")\n",
    "f = plt.figure(figsize=(24, 4))\n",
    "sb.boxplot(data = glucose, orient = \"h\");"
   ]
  },
  {
   "cell_type": "markdown",
   "id": "2d249424-e878-4808-bacc-1e6c09a0f6e4",
   "metadata": {},
   "source": [
    "There are many outliers within `avg_glucose_level` with all of them lying at more than approximately `170mg/dL`, which means people with diabetes or at risk of diabetes are considered outliers. "
   ]
  },
  {
   "cell_type": "code",
   "execution_count": 28,
   "id": "b903f3da-5b39-485d-a9a0-f44d6462e104",
   "metadata": {},
   "outputs": [
    {
     "data": {
      "text/markdown": [
       "&nbsp;**Histplot with KDE**"
      ],
      "text/plain": [
       "<IPython.core.display.Markdown object>"
      ]
     },
     "metadata": {},
     "output_type": "display_data"
    },
    {
     "data": {
      "image/png": "[encoded data removed]",
      "text/plain": [
       "<Figure size 1152x576 with 1 Axes>"
      ]
     },
     "metadata": {},
     "output_type": "display_data"
    }
   ],
   "source": [
    "printmd(\"**Histplot with KDE**\")\n",
    "f = plt.figure(figsize=(16, 8))\n",
    "sb.histplot(data = glucose, kde = True);"
   ]
  },
  {
   "cell_type": "markdown",
   "id": "c271e410-5c4b-4b49-ac12-1fcad1b79651",
   "metadata": {},
   "source": [
    "The histplot with kde explains why this is the case. There is a very nice, normal-looking distribution at the start which slowly becomes highly positively skewed and as the density starts to pick up again around the `170` mark, everything beyond `170` is considered an outlier. "
   ]
  },
  {
   "cell_type": "code",
   "execution_count": 29,
   "id": "1373713f-2caf-4d40-b0e6-b09ca86ac0bb",
   "metadata": {},
   "outputs": [],
   "source": [
    "# Calculating Quartiles and IQR\n",
    "Q1 = glucose.quantile(0.25).values[0]\n",
    "Q3 = glucose.quantile(0.75).values[0]\n",
    "IQR = Q3 - Q1"
   ]
  },
  {
   "cell_type": "code",
   "execution_count": 30,
   "id": "1b66cd64-b9fc-4952-b538-34117ba725d1",
   "metadata": {},
   "outputs": [
    {
     "data": {
      "text/markdown": [
       "&nbsp;There are `614` outliers"
      ],
      "text/plain": [
       "<IPython.core.display.Markdown object>"
      ]
     },
     "metadata": {},
     "output_type": "display_data"
    },
    {
     "data": {
      "text/markdown": [
       "&nbsp;Minimum value is `169.43`"
      ],
      "text/plain": [
       "<IPython.core.display.Markdown object>"
      ]
     },
     "metadata": {},
     "output_type": "display_data"
    }
   ],
   "source": [
    "outliers = []\n",
    "\n",
    "# Iterate and append outliers to list\n",
    "for x in range(len(bmi)-1,-1,-1):\n",
    "    val = glucose.iloc[x].values[0]\n",
    "    if(val < (Q1 - 1.5 * IQR) or val > (Q3 + 1.5 * IQR)):\n",
    "        outliers.append(val)\n",
    "        \n",
    "printmd(\"There are `\" + str(len(outliers)) + \"` outliers\")\n",
    "printmd(\"Minimum value is `\" + str(min(outliers)) + \"`\")"
   ]
  },
  {
   "cell_type": "markdown",
   "id": "f11ba632-e427-45b2-8c05-df0d42261fce",
   "metadata": {},
   "source": [
    "Which represents $614/5109 = 12.02\\%$ of the dataset"
   ]
  },
  {
   "cell_type": "code",
   "execution_count": 31,
   "id": "f911507f-3e81-4764-944a-9f2ebbd2de6b",
   "metadata": {},
   "outputs": [
    {
     "data": {
      "text/markdown": [
       "&nbsp;**`avg_glucose_level` vs `stroke` Boxplot and Swarmplot (Stripped)**"
      ],
      "text/plain": [
       "<IPython.core.display.Markdown object>"
      ]
     },
     "metadata": {},
     "output_type": "display_data"
    },
    {
     "data": {
      "image/png": "[encoded data removed]",
      "text/plain": [
       "<Figure size 1152x1152 with 2 Axes>"
      ]
     },
     "metadata": {},
     "output_type": "display_data"
    }
   ],
   "source": [
    "printmd(\"**`avg_glucose_level` vs `stroke` Boxplot and Swarmplot (Stripped)**\")\n",
    "fig, (boxplot, swarmplot) = plt.subplots(2,1,figsize=(16,16))\n",
    "sb.boxplot(x = 'avg_glucose_level', y = 'stroke', data = strokedata, orient=\"h\", ax = boxplot)\n",
    "sb.stripplot(x = 'avg_glucose_level', y = 'stroke', data = strokedata, orient=\"h\", ax = swarmplot);"
   ]
  },
  {
   "cell_type": "markdown",
   "id": "d60de110-af9d-412e-9fd3-7f353554907a",
   "metadata": {},
   "source": [
    "When comparing `avg_glucose_level` to `stroke`, it can be seen that no stroke has all the outliers. Both swarm plots are covering about the same range (when including outliers) and the box plots have very close medians. It is unlikely that this variable has much of a correlation with `stroke`. We can still compute the point-biserial correlation to confirm. "
   ]
  },
  {
   "cell_type": "code",
   "execution_count": 32,
   "id": "3ea8eff2-835e-49b8-a20c-29f3b64b6f1f",
   "metadata": {},
   "outputs": [
    {
     "data": {
      "text/markdown": [
       "&nbsp;**With Outliers**"
      ],
      "text/plain": [
       "<IPython.core.display.Markdown object>"
      ]
     },
     "metadata": {},
     "output_type": "display_data"
    },
    {
     "name": "stdout",
     "output_type": "stream",
     "text": [
      "PointbiserialrResult(correlation=0.13199119156645792, pvalue=2.705302697195377e-21)\n",
      "\n"
     ]
    },
    {
     "data": {
      "text/markdown": [
       "&nbsp;**Without Outliers** (New Shape: (4566, 2))"
      ],
      "text/plain": [
       "<IPython.core.display.Markdown object>"
      ]
     },
     "metadata": {},
     "output_type": "display_data"
    },
    {
     "data": {
      "text/plain": [
       "PointbiserialrResult(correlation=0.3352194587799321, pvalue=2.5656520736276234e-120)"
      ]
     },
     "execution_count": 32,
     "metadata": {},
     "output_type": "execute_result"
    }
   ],
   "source": [
    "# Make copy with only avg_glucose_level and stroke\n",
    "glucose_stroke = strokedata[['avg_glucose_level', 'stroke']].copy()\n",
    "\n",
    "printmd(\"**With Outliers**\")\n",
    "print(stats.pointbiserialr(glucose_stroke.avg_glucose_level, glucose_stroke.stroke))\n",
    "print()\n",
    "\n",
    "# Filter outliers\n",
    "glucose_stroke.drop(glucose_stroke[(glucose_stroke.stroke == 0) & (glucose_stroke.avg_glucose_level >= 169.43)].index, inplace=True)\n",
    "\n",
    "printmd(\"**Without Outliers** (New Shape: \" + str(glucose_stroke.shape) + \")\")\n",
    "stats.pointbiserialr(glucose_stroke.avg_glucose_level, glucose_stroke.stroke)"
   ]
  },
  {
   "cell_type": "markdown",
   "id": "4afdce32-28f8-4d25-b15e-dd5cdb3be9c6",
   "metadata": {},
   "source": [
    "With outliers, `avg_glucose_level` has an even lower correlation with `stroke` than `age` (`0.13` vs `0.25`). That changes when outliers are removed (`0.34` vs `0.25`). However, the more than 10% outliers forgone to achieve a still low correlation of `0.34` indicates that this variable may also not be good at predicting `stroke`. "
   ]
  },
  {
   "cell_type": "markdown",
   "id": "2d22e9e4-f74e-4dc5-a5df-8952c06ffde6",
   "metadata": {},
   "source": [
    "---\n",
    "<a class=\"anchor\" id=\"bmi\"></a>\n",
    "#### 3) bmi"
   ]
  },
  {
   "cell_type": "code",
   "execution_count": 33,
   "id": "e6be8fb9-7bf8-4ac1-afe3-c4b7550894d3",
   "metadata": {},
   "outputs": [
    {
     "data": {
      "text/html": [
       "<div>\n",
       "<style scoped>\n",
       "    .dataframe tbody tr th:only-of-type {\n",
       "        vertical-align: middle;\n",
       "    }\n",
       "\n",
       "    .dataframe tbody tr th {\n",
       "        vertical-align: top;\n",
       "    }\n",
       "\n",
       "    .dataframe thead th {\n",
       "        text-align: right;\n",
       "    }\n",
       "</style>\n",
       "<table border=\"1\" class=\"dataframe\">\n",
       "  <thead>\n",
       "    <tr style=\"text-align: right;\">\n",
       "      <th></th>\n",
       "      <th>bmi</th>\n",
       "    </tr>\n",
       "  </thead>\n",
       "  <tbody>\n",
       "    <tr>\n",
       "      <th>count</th>\n",
       "      <td>5109.000000</td>\n",
       "    </tr>\n",
       "    <tr>\n",
       "      <th>mean</th>\n",
       "      <td>28.871169</td>\n",
       "    </tr>\n",
       "    <tr>\n",
       "      <th>std</th>\n",
       "      <td>7.699103</td>\n",
       "    </tr>\n",
       "    <tr>\n",
       "      <th>min</th>\n",
       "      <td>10.300000</td>\n",
       "    </tr>\n",
       "    <tr>\n",
       "      <th>25%</th>\n",
       "      <td>23.800000</td>\n",
       "    </tr>\n",
       "    <tr>\n",
       "      <th>50%</th>\n",
       "      <td>28.300000</td>\n",
       "    </tr>\n",
       "    <tr>\n",
       "      <th>75%</th>\n",
       "      <td>32.800000</td>\n",
       "    </tr>\n",
       "    <tr>\n",
       "      <th>max</th>\n",
       "      <td>97.600000</td>\n",
       "    </tr>\n",
       "  </tbody>\n",
       "</table>\n",
       "</div>"
      ],
      "text/plain": [
       "               bmi\n",
       "count  5109.000000\n",
       "mean     28.871169\n",
       "std       7.699103\n",
       "min      10.300000\n",
       "25%      23.800000\n",
       "50%      28.300000\n",
       "75%      32.800000\n",
       "max      97.600000"
      ]
     },
     "execution_count": 33,
     "metadata": {},
     "output_type": "execute_result"
    }
   ],
   "source": [
    "bmi = pd.DataFrame(strokedata.bmi)\n",
    "bmi.describe()"
   ]
  },
  {
   "cell_type": "markdown",
   "id": "a4324f11-a897-4276-b380-5bc7cf6b08ff",
   "metadata": {},
   "source": [
    "`bmi` has values ranging from `10.3` to `97.6`. BMI less than `18` is considered underweight, more than `30` is considered to be obese whereas more than `40` is considered to be extreme obesity. "
   ]
  },
  {
   "cell_type": "code",
   "execution_count": 34,
   "id": "46dff3c1-8d7d-4099-ad43-39c4c3864e0a",
   "metadata": {},
   "outputs": [
    {
     "data": {
      "text/markdown": [
       "&nbsp;**Boxplot**"
      ],
      "text/plain": [
       "<IPython.core.display.Markdown object>"
      ]
     },
     "metadata": {},
     "output_type": "display_data"
    },
    {
     "data": {
      "image/png": "[encoded data removed]",
      "text/plain": [
       "<Figure size 1728x288 with 1 Axes>"
      ]
     },
     "metadata": {},
     "output_type": "display_data"
    }
   ],
   "source": [
    "printmd(\"**Boxplot**\")\n",
    "f = plt.figure(figsize=(24, 4))\n",
    "sb.boxplot(data = bmi, orient = \"h\");"
   ]
  },
  {
   "cell_type": "markdown",
   "id": "24084fbb-8f09-48fc-8850-14a84e1a8ecf",
   "metadata": {},
   "source": [
    "`bmi` has many outliers with most of them lying at more than `45` approximately. There is one outlier on the other end, which is the minimum `bmi` value of the entire dataset (`10.3`)"
   ]
  },
  {
   "cell_type": "code",
   "execution_count": 35,
   "id": "bc607c00-3971-4a94-b223-1ba02f37d38a",
   "metadata": {},
   "outputs": [
    {
     "data": {
      "text/markdown": [
       "&nbsp;**Histplot with KDE**"
      ],
      "text/plain": [
       "<IPython.core.display.Markdown object>"
      ]
     },
     "metadata": {},
     "output_type": "display_data"
    },
    {
     "data": {
      "image/png": "[encoded data removed]",
      "text/plain": [
       "<Figure size 1152x576 with 1 Axes>"
      ]
     },
     "metadata": {},
     "output_type": "display_data"
    }
   ],
   "source": [
    "printmd(\"**Histplot with KDE**\")\n",
    "f = plt.figure(figsize=(16, 8))\n",
    "sb.histplot(data = bmi, kde = True);"
   ]
  },
  {
   "cell_type": "markdown",
   "id": "09f6e7c2-544d-4b96-9888-142c00230a88",
   "metadata": {},
   "source": [
    "The histplot with kde shows a very normal-looking distribution for `bmi` up until around a `bmi` of `45` or so, after which the remaining values are considered to be outliers. There is also a huge bar at around `28` and this is because the mode previously laid at around `28`, and `201` missing `bmi` values were then filled with the value of `28.3` on top of that. "
   ]
  },
  {
   "cell_type": "code",
   "execution_count": 36,
   "id": "81285926-0350-49eb-9295-fc72826d21db",
   "metadata": {},
   "outputs": [],
   "source": [
    "# Calculating Quartiles and IQR\n",
    "Q1 = bmi.quantile(0.25).values[0]\n",
    "Q3 = bmi.quantile(0.75).values[0]\n",
    "IQR = Q3 - Q1"
   ]
  },
  {
   "cell_type": "code",
   "execution_count": 37,
   "id": "0907b487-5a2b-4930-a577-51a1cee19d8b",
   "metadata": {},
   "outputs": [
    {
     "data": {
      "text/markdown": [
       "&nbsp;There are `126` outliers"
      ],
      "text/plain": [
       "<IPython.core.display.Markdown object>"
      ]
     },
     "metadata": {},
     "output_type": "display_data"
    },
    {
     "data": {
      "text/markdown": [
       "&nbsp;First 2 values are `10.3` and `46.3`"
      ],
      "text/plain": [
       "<IPython.core.display.Markdown object>"
      ]
     },
     "metadata": {},
     "output_type": "display_data"
    }
   ],
   "source": [
    "outliers = []\n",
    "\n",
    "# Iterate and append outliers to list\n",
    "for x in range(len(bmi)-1,-1,-1):\n",
    "    val = bmi.iloc[x].values[0]\n",
    "    if(val < (Q1 - 1.5 * IQR) or val > (Q3 + 1.5 * IQR)):\n",
    "        outliers.append(val)\n",
    "        \n",
    "printmd(\"There are `\" + str(len(outliers)) + \"` outliers\")\n",
    "printmd(\"First 2 values are `\" + str(min(outliers)) + \"` and `\" + str(sorted(outliers)[1]) + \"`\")"
   ]
  },
  {
   "cell_type": "markdown",
   "id": "aebe8807-8fea-4c09-a4b7-fcb439d45ff2",
   "metadata": {},
   "source": [
    "Which represents $126/5109 = 2.47\\%$ of the dataset"
   ]
  },
  {
   "cell_type": "code",
   "execution_count": 38,
   "id": "17c1cb49-9292-4001-a929-cb2af905f1e0",
   "metadata": {},
   "outputs": [
    {
     "data": {
      "text/markdown": [
       "&nbsp;**`bmi` vs `stroke` Boxplot and Swarmplot (Stripped)**"
      ],
      "text/plain": [
       "<IPython.core.display.Markdown object>"
      ]
     },
     "metadata": {},
     "output_type": "display_data"
    },
    {
     "data": {
      "image/png": "[encoded data removed]",
      "text/plain": [
       "<Figure size 1152x1152 with 2 Axes>"
      ]
     },
     "metadata": {},
     "output_type": "display_data"
    }
   ],
   "source": [
    "printmd(\"**`bmi` vs `stroke` Boxplot and Swarmplot (Stripped)**\")\n",
    "fig, (boxplot, swarmplot) = plt.subplots(2,1,figsize=(16,16))\n",
    "sb.boxplot(x = 'bmi', y = 'stroke', data = strokedata, orient=\"h\", ax = boxplot)\n",
    "sb.stripplot(x = 'bmi', y = 'stroke', data = strokedata, orient=\"h\", ax = swarmplot);"
   ]
  },
  {
   "cell_type": "markdown",
   "id": "44b685f1-f91d-4ba8-971a-e1ba530eb782",
   "metadata": {},
   "source": [
    "When comparing `bmi` to `stroke`, we can see it has similar problems as `avg_glucose_level` with the medians of both categories being somewhat equal and a spread in `no stroke` which encompasses the entire range of `bmi` values (which means that the range of `bmi` values for positive `stroke` events is a subset of `no stroke` and there isn't much of a difference between the two). This time, both categories also have outliers. These are some indications of a low correlation, but we can still calculate the point-biserial correlation coefficient. "
   ]
  },
  {
   "cell_type": "code",
   "execution_count": 39,
   "id": "72df9498-1586-44f1-a7df-9ffd37488d5f",
   "metadata": {},
   "outputs": [
    {
     "data": {
      "text/markdown": [
       "&nbsp;**With Outliers**"
      ],
      "text/plain": [
       "<IPython.core.display.Markdown object>"
      ]
     },
     "metadata": {},
     "output_type": "display_data"
    },
    {
     "name": "stdout",
     "output_type": "stream",
     "text": [
      "PointbiserialrResult(correlation=0.03679194945167234, pvalue=0.008537608278507454)\n",
      "\n"
     ]
    },
    {
     "data": {
      "text/markdown": [
       "&nbsp;**Without Outliers** (New Shape: (4983, 2))"
      ],
      "text/plain": [
       "<IPython.core.display.Markdown object>"
      ]
     },
     "metadata": {},
     "output_type": "display_data"
    },
    {
     "data": {
      "text/plain": [
       "PointbiserialrResult(correlation=0.055216995695364, pvalue=9.627799937088777e-05)"
      ]
     },
     "execution_count": 39,
     "metadata": {},
     "output_type": "execute_result"
    }
   ],
   "source": [
    "# Make copy with only bmi and stroke\n",
    "bmi_stroke = strokedata[['bmi', 'stroke']].copy()\n",
    "\n",
    "printmd(\"**With Outliers**\")\n",
    "print(stats.pointbiserialr(bmi_stroke.bmi, bmi_stroke.stroke))\n",
    "print()\n",
    "\n",
    "# Filter outliers\n",
    "bmi_stroke.drop(bmi_stroke[(bmi_stroke.bmi <= 10.3) | (bmi_stroke.bmi >= 46.3)].index, inplace=True)\n",
    "\n",
    "printmd(\"**Without Outliers** (New Shape: \" + str(bmi_stroke.shape) + \")\")\n",
    "stats.pointbiserialr(bmi_stroke.bmi, bmi_stroke.stroke)"
   ]
  },
  {
   "cell_type": "markdown",
   "id": "d1e61ed9-009b-4a1f-91fd-4a6c6016efdb",
   "metadata": {},
   "source": [
    "`bmi` has the lowest correlation of any continuous numerical variable so far. It is only `0.04` with outliers and `0.06` without. We can try to see if filling the null values had any effect by doing the same but with the old bmi dataset. \n",
    "\n",
    "**Testing Correlation without filled values**"
   ]
  },
  {
   "cell_type": "code",
   "execution_count": 40,
   "id": "d84c3360-00d5-47b4-96d2-c4cf6ded61f1",
   "metadata": {},
   "outputs": [
    {
     "data": {
      "text/markdown": [
       "&nbsp;**With Outliers**"
      ],
      "text/plain": [
       "<IPython.core.display.Markdown object>"
      ]
     },
     "metadata": {},
     "output_type": "display_data"
    },
    {
     "name": "stdout",
     "output_type": "stream",
     "text": [
      "PointbiserialrResult(correlation=0.04237366114922739, pvalue=0.0029832690997661)\n",
      "\n"
     ]
    }
   ],
   "source": [
    "# Read old data (before filling) from file again\n",
    "old_strokedata = pd.read_csv('healthcare-dataset-stroke-data.csv')\n",
    "\n",
    "# Make copy with only bmi and stroke again and drop null values this time\n",
    "bmi_stroke = old_strokedata[['bmi', 'stroke']].copy()\n",
    "bmi_stroke.dropna(axis=0, inplace=True)\n",
    "\n",
    "printmd(\"**With Outliers**\")\n",
    "print(stats.pointbiserialr(bmi_stroke.bmi, bmi_stroke.stroke))\n",
    "print()"
   ]
  },
  {
   "cell_type": "code",
   "execution_count": 41,
   "id": "a018b18d-623f-465e-9d3e-eaaeb52cd52e",
   "metadata": {},
   "outputs": [],
   "source": [
    "# Load bmi again to filter outliers\n",
    "bmi = pd.DataFrame(bmi_stroke.bmi)\n",
    "Q1 = bmi.quantile(0.25).values[0]\n",
    "Q3 = bmi.quantile(0.75).values[0]\n",
    "IQR = Q3 - Q1"
   ]
  },
  {
   "cell_type": "code",
   "execution_count": 42,
   "id": "d5568462-5480-4191-be91-7538e31772bb",
   "metadata": {},
   "outputs": [],
   "source": [
    "# Iterate and delete outliers\n",
    "for x in range(len(bmi)-1,-1,-1):\n",
    "    val = bmi.iloc[x].values[0]\n",
    "    if(val < (Q1 - 1.5 * IQR) or val > (Q3 + 1.5 * IQR)):\n",
    "        bmi_stroke.drop(bmi.index[x], inplace=True)"
   ]
  },
  {
   "cell_type": "code",
   "execution_count": 43,
   "id": "9eabf54f-08ef-4b5e-850c-7b73aaf44420",
   "metadata": {},
   "outputs": [
    {
     "data": {
      "text/markdown": [
       "&nbsp;**Without Outliers** (New Shape: (4799, 2))"
      ],
      "text/plain": [
       "<IPython.core.display.Markdown object>"
      ]
     },
     "metadata": {},
     "output_type": "display_data"
    },
    {
     "data": {
      "text/plain": [
       "PointbiserialrResult(correlation=0.060289877002425225, pvalue=2.924283662558097e-05)"
      ]
     },
     "execution_count": 43,
     "metadata": {},
     "output_type": "execute_result"
    }
   ],
   "source": [
    "printmd(\"**Without Outliers** (New Shape: \" + str(bmi_stroke.shape) + \")\")\n",
    "stats.pointbiserialr(bmi_stroke.bmi, bmi_stroke.stroke)"
   ]
  },
  {
   "cell_type": "markdown",
   "id": "6ee6ac47-a574-4ba1-aa61-464535ebca3c",
   "metadata": {},
   "source": [
    "Filling the missing data has not really affected the relation between `bmi` and `stroke`. When using the old data will null values dropped, the correlation only increased by a very small value of `0.005` in both cases (with and without outliers). "
   ]
  },
  {
   "cell_type": "markdown",
   "id": "073848c3-6394-4671-b5fb-9def5f0ccd75",
   "metadata": {},
   "source": [
    "---\n",
    "\n",
    "### Dichotomous Categorical Variables\n",
    "\n",
    "The remaining variables are all categorical, with most being dichotomous just like `bmi`. For such variables, we can use the `phi coefficient` to get a statistical measure of the correlation between `bmi` and another dichtomous binary variable. phi coefficient is available as Matthews correlation coefficient (`MCC`) in sklearn. "
   ]
  },
  {
   "cell_type": "code",
   "execution_count": 44,
   "id": "e5ade4bb-6641-4de3-af23-0b67392261c5",
   "metadata": {},
   "outputs": [],
   "source": [
    "from sklearn.metrics import matthews_corrcoef"
   ]
  },
  {
   "cell_type": "code",
   "execution_count": 45,
   "id": "f887de51-58f6-4295-b7bc-b8c67e469110",
   "metadata": {},
   "outputs": [],
   "source": [
    "def bin_cat_eda(name):\n",
    "    # Create and show contingency table\n",
    "    printmd(\"**Contingency Table**\")\n",
    "    table = pd.crosstab(index = strokedata['stroke'], columns = strokedata[name])\n",
    "    display(table)\n",
    "    \n",
    "    print()\n",
    "    printmd(\"**Countplot and Positive Stroke Percentage Barplot**\")\n",
    "    fig, (countplot, barplot) = plt.subplots(2,1,figsize=(5,10))\n",
    "\n",
    "    # Show bivariate countplot\n",
    "    sb.countplot(x = name, hue = \"stroke\", data = strokedata, ax=countplot)\n",
    "\n",
    "    # Calculate 'Positive Stroke Event Percentage' and store as new DataFrame\n",
    "    cats = list(strokedata[name].cat.categories)\n",
    "    percent_dict = { cats[0] : (table.values[1][0] / (table.values[1][0] + table.values[0][0])) * 100, cats[1] : (table.values[1][1] / (table.values[1][1] + table.values[0][1])) * 100 }\n",
    "    df = pd.DataFrame(percent_dict.items(), columns = [ name, 'positive stroke percent' ])\n",
    "\n",
    "    # Show barplot\n",
    "    sb.barplot(x=name, y='positive stroke percent', data = df, ax=barplot)\n",
    "    barplot.set(ylim=(0, 100))\n",
    "    barplot.set(ylabel=\"positive stroke events (%)\")\n",
    "\n",
    "    # Add percentage on top of bar\n",
    "    x = 0\n",
    "    for index, row in df.iterrows():\n",
    "        barplot.text(x,row.values[1] + 1, str(round(row.values[1],2)) + \"%\", color='black', ha=\"center\")\n",
    "        x += 1\n",
    "\n",
    "    plt.show()\n",
    "\n",
    "    # Calculate and Print MCC\n",
    "    stroke_copy = strokedata[[name, 'stroke']].copy()\n",
    "    stroke_copy[name] = stroke_copy[name].cat.rename_categories({ cats[0] : 0, cats[1] : 1 })\n",
    "    print()\n",
    "    printmd(\"**MCC**: \" + str(matthews_corrcoef(stroke_copy['stroke'], stroke_copy[name])))"
   ]
  },
  {
   "cell_type": "code",
   "execution_count": null,
   "id": "0a75015d-ad58-4c07-bfe8-85158ab19b37",
   "metadata": {},
   "outputs": [],
   "source": []
  },
  {
   "cell_type": "code",
   "execution_count": null,
   "id": "a14ede27-e5e4-47cd-8898-b4c4d4ba50b9",
   "metadata": {},
   "outputs": [],
   "source": []
  },
  {
   "cell_type": "markdown",
   "id": "499037a2-7321-4b70-b702-1345c3287bae",
   "metadata": {},
   "source": [
    "The helper function above will calculate and display everything needed for the EDA of dichotomous categorical variables vs `stroke` since the process is about the same for all such variables. \n",
    "\n",
    "---\n",
    "<a class=\"anchor\" id=\"gender\"></a>\n",
    "#### 4) gender"
   ]
  },
  {
   "cell_type": "code",
   "execution_count": 46,
   "id": "d86334ec-0407-41c9-829b-b7fd6bd3d1ad",
   "metadata": {},
   "outputs": [
    {
     "data": {
      "text/markdown": [
       "&nbsp;**Contingency Table**"
      ],
      "text/plain": [
       "<IPython.core.display.Markdown object>"
      ]
     },
     "metadata": {},
     "output_type": "display_data"
    },
    {
     "data": {
      "text/html": [
       "<div>\n",
       "<style scoped>\n",
       "    .dataframe tbody tr th:only-of-type {\n",
       "        vertical-align: middle;\n",
       "    }\n",
       "\n",
       "    .dataframe tbody tr th {\n",
       "        vertical-align: top;\n",
       "    }\n",
       "\n",
       "    .dataframe thead th {\n",
       "        text-align: right;\n",
       "    }\n",
       "</style>\n",
       "<table border=\"1\" class=\"dataframe\">\n",
       "  <thead>\n",
       "    <tr style=\"text-align: right;\">\n",
       "      <th>gender</th>\n",
       "      <th>Female</th>\n",
       "      <th>Male</th>\n",
       "    </tr>\n",
       "    <tr>\n",
       "      <th>stroke</th>\n",
       "      <th></th>\n",
       "      <th></th>\n",
       "    </tr>\n",
       "  </thead>\n",
       "  <tbody>\n",
       "    <tr>\n",
       "      <th>0</th>\n",
       "      <td>2853</td>\n",
       "      <td>2007</td>\n",
       "    </tr>\n",
       "    <tr>\n",
       "      <th>1</th>\n",
       "      <td>141</td>\n",
       "      <td>108</td>\n",
       "    </tr>\n",
       "  </tbody>\n",
       "</table>\n",
       "</div>"
      ],
      "text/plain": [
       "gender  Female  Male\n",
       "stroke              \n",
       "0         2853  2007\n",
       "1          141   108"
      ]
     },
     "metadata": {},
     "output_type": "display_data"
    },
    {
     "name": "stdout",
     "output_type": "stream",
     "text": [
      "\n"
     ]
    },
    {
     "data": {
      "text/markdown": [
       "&nbsp;**Countplot and Positive Stroke Percentage Barplot**"
      ],
      "text/plain": [
       "<IPython.core.display.Markdown object>"
      ]
     },
     "metadata": {},
     "output_type": "display_data"
    },
    {
     "data": {
      "image/png": "[encoded data removed]",
      "text/plain": [
       "<Figure size 360x720 with 2 Axes>"
      ]
     },
     "metadata": {},
     "output_type": "display_data"
    },
    {
     "name": "stdout",
     "output_type": "stream",
     "text": [
      "\n"
     ]
    },
    {
     "data": {
      "text/markdown": [
       "&nbsp;**MCC**: 0.009080600160079338"
      ],
      "text/plain": [
       "<IPython.core.display.Markdown object>"
      ]
     },
     "metadata": {},
     "output_type": "display_data"
    }
   ],
   "source": [
    "bin_cat_eda('gender')"
   ]
  },
  {
   "cell_type": "markdown",
   "id": "b24c986b-3718-4a2c-9e37-8909ae903202",
   "metadata": {},
   "source": [
    "Both genders have about the same percentage of positive stroke events, and their correlation is only `0.01`. This indicates that `gender` has nothing to do with the likelihood of a person have a `stroke`. If we go by just `gender`, then everyone is at an equal risk of having a stroke.  \n",
    "\n",
    "---\n",
    "<a class=\"anchor\" id=\"hypertension\"></a>\n",
    "#### 5) hypertension"
   ]
  },
  {
   "cell_type": "code",
   "execution_count": 47,
   "id": "a3f7d836-779f-4aae-afbe-f2f673a9fdf3",
   "metadata": {},
   "outputs": [
    {
     "data": {
      "text/markdown": [
       "&nbsp;**Contingency Table**"
      ],
      "text/plain": [
       "<IPython.core.display.Markdown object>"
      ]
     },
     "metadata": {},
     "output_type": "display_data"
    },
    {
     "data": {
      "text/html": [
       "<div>\n",
       "<style scoped>\n",
       "    .dataframe tbody tr th:only-of-type {\n",
       "        vertical-align: middle;\n",
       "    }\n",
       "\n",
       "    .dataframe tbody tr th {\n",
       "        vertical-align: top;\n",
       "    }\n",
       "\n",
       "    .dataframe thead th {\n",
       "        text-align: right;\n",
       "    }\n",
       "</style>\n",
       "<table border=\"1\" class=\"dataframe\">\n",
       "  <thead>\n",
       "    <tr style=\"text-align: right;\">\n",
       "      <th>hypertension</th>\n",
       "      <th>0</th>\n",
       "      <th>1</th>\n",
       "    </tr>\n",
       "    <tr>\n",
       "      <th>stroke</th>\n",
       "      <th></th>\n",
       "      <th></th>\n",
       "    </tr>\n",
       "  </thead>\n",
       "  <tbody>\n",
       "    <tr>\n",
       "      <th>0</th>\n",
       "      <td>4428</td>\n",
       "      <td>432</td>\n",
       "    </tr>\n",
       "    <tr>\n",
       "      <th>1</th>\n",
       "      <td>183</td>\n",
       "      <td>66</td>\n",
       "    </tr>\n",
       "  </tbody>\n",
       "</table>\n",
       "</div>"
      ],
      "text/plain": [
       "hypertension     0    1\n",
       "stroke                 \n",
       "0             4428  432\n",
       "1              183   66"
      ]
     },
     "metadata": {},
     "output_type": "display_data"
    },
    {
     "name": "stdout",
     "output_type": "stream",
     "text": [
      "\n"
     ]
    },
    {
     "data": {
      "text/markdown": [
       "&nbsp;**Countplot and Positive Stroke Percentage Barplot**"
      ],
      "text/plain": [
       "<IPython.core.display.Markdown object>"
      ]
     },
     "metadata": {},
     "output_type": "display_data"
    },
    {
     "data": {
      "image/png": "[encoded data removed]",
      "text/plain": [
       "<Figure size 360x720 with 2 Axes>"
      ]
     },
     "metadata": {},
     "output_type": "display_data"
    },
    {
     "name": "stdout",
     "output_type": "stream",
     "text": [
      "\n"
     ]
    },
    {
     "data": {
      "text/markdown": [
       "&nbsp;**MCC**: 0.12789125912919305"
      ],
      "text/plain": [
       "<IPython.core.display.Markdown object>"
      ]
     },
     "metadata": {},
     "output_type": "display_data"
    }
   ],
   "source": [
    "bin_cat_eda('hypertension')"
   ]
  },
  {
   "cell_type": "markdown",
   "id": "8d4d2158-b346-4e9d-bb2c-be64534b3bb2",
   "metadata": {},
   "source": [
    "People with `hypertension` have significantly more risk of having a stroke than those who don't (Positive stroke percentages of `3.97%` vs `13.25%`). However, the correlation between `hypertension` and `stroke` is still low due to only a handful of people having a `stroke` in either category. \n",
    "\n",
    "---\n",
    "<a class=\"anchor\" id=\"heart_disease\"></a>\n",
    "#### 6) heart_disease"
   ]
  },
  {
   "cell_type": "code",
   "execution_count": 48,
   "id": "9db5c7b3-61b7-4714-bb0b-3cc85a5bfb63",
   "metadata": {},
   "outputs": [
    {
     "data": {
      "text/markdown": [
       "&nbsp;**Contingency Table**"
      ],
      "text/plain": [
       "<IPython.core.display.Markdown object>"
      ]
     },
     "metadata": {},
     "output_type": "display_data"
    },
    {
     "data": {
      "text/html": [
       "<div>\n",
       "<style scoped>\n",
       "    .dataframe tbody tr th:only-of-type {\n",
       "        vertical-align: middle;\n",
       "    }\n",
       "\n",
       "    .dataframe tbody tr th {\n",
       "        vertical-align: top;\n",
       "    }\n",
       "\n",
       "    .dataframe thead th {\n",
       "        text-align: right;\n",
       "    }\n",
       "</style>\n",
       "<table border=\"1\" class=\"dataframe\">\n",
       "  <thead>\n",
       "    <tr style=\"text-align: right;\">\n",
       "      <th>heart_disease</th>\n",
       "      <th>0</th>\n",
       "      <th>1</th>\n",
       "    </tr>\n",
       "    <tr>\n",
       "      <th>stroke</th>\n",
       "      <th></th>\n",
       "      <th></th>\n",
       "    </tr>\n",
       "  </thead>\n",
       "  <tbody>\n",
       "    <tr>\n",
       "      <th>0</th>\n",
       "      <td>4631</td>\n",
       "      <td>229</td>\n",
       "    </tr>\n",
       "    <tr>\n",
       "      <th>1</th>\n",
       "      <td>202</td>\n",
       "      <td>47</td>\n",
       "    </tr>\n",
       "  </tbody>\n",
       "</table>\n",
       "</div>"
      ],
      "text/plain": [
       "heart_disease     0    1\n",
       "stroke                  \n",
       "0              4631  229\n",
       "1               202   47"
      ]
     },
     "metadata": {},
     "output_type": "display_data"
    },
    {
     "name": "stdout",
     "output_type": "stream",
     "text": [
      "\n"
     ]
    },
    {
     "data": {
      "text/markdown": [
       "&nbsp;**Countplot and Positive Stroke Percentage Barplot**"
      ],
      "text/plain": [
       "<IPython.core.display.Markdown object>"
      ]
     },
     "metadata": {},
     "output_type": "display_data"
    },
    {
     "data": {
      "image/png": "[encoded data removed]",
      "text/plain": [
       "<Figure size 360x720 with 2 Axes>"
      ]
     },
     "metadata": {},
     "output_type": "display_data"
    },
    {
     "name": "stdout",
     "output_type": "stream",
     "text": [
      "\n"
     ]
    },
    {
     "data": {
      "text/markdown": [
       "&nbsp;**MCC**: 0.1349048418004286"
      ],
      "text/plain": [
       "<IPython.core.display.Markdown object>"
      ]
     },
     "metadata": {},
     "output_type": "display_data"
    }
   ],
   "source": [
    "bin_cat_eda('heart_disease')"
   ]
  },
  {
   "cell_type": "markdown",
   "id": "26411a11-a8f2-4068-841d-0ed35b6df194",
   "metadata": {},
   "source": [
    "`heart_disease` is similar to `hypertension` with people who had `heart_disease` having a higher percentage of positive `stroke` events, but still a low correlation due to only a minority having a `stroke`.\n",
    "\n",
    "[Jump to a comparison of heart_disease and hypertension vs stroke](#11\\)-hypertension-and-heart_disease-vs-stroke)\n",
    "\n",
    "---\n",
    "<a class=\"anchor\" id=\"ever_married\"></a>\n",
    "#### 7) ever_married"
   ]
  },
  {
   "cell_type": "code",
   "execution_count": 49,
   "id": "90a505d6-d9c3-4446-a4c7-26b23c4371b1",
   "metadata": {},
   "outputs": [
    {
     "data": {
      "text/markdown": [
       "&nbsp;**Contingency Table**"
      ],
      "text/plain": [
       "<IPython.core.display.Markdown object>"
      ]
     },
     "metadata": {},
     "output_type": "display_data"
    },
    {
     "data": {
      "text/html": [
       "<div>\n",
       "<style scoped>\n",
       "    .dataframe tbody tr th:only-of-type {\n",
       "        vertical-align: middle;\n",
       "    }\n",
       "\n",
       "    .dataframe tbody tr th {\n",
       "        vertical-align: top;\n",
       "    }\n",
       "\n",
       "    .dataframe thead th {\n",
       "        text-align: right;\n",
       "    }\n",
       "</style>\n",
       "<table border=\"1\" class=\"dataframe\">\n",
       "  <thead>\n",
       "    <tr style=\"text-align: right;\">\n",
       "      <th>ever_married</th>\n",
       "      <th>No</th>\n",
       "      <th>Yes</th>\n",
       "    </tr>\n",
       "    <tr>\n",
       "      <th>stroke</th>\n",
       "      <th></th>\n",
       "      <th></th>\n",
       "    </tr>\n",
       "  </thead>\n",
       "  <tbody>\n",
       "    <tr>\n",
       "      <th>0</th>\n",
       "      <td>1727</td>\n",
       "      <td>3133</td>\n",
       "    </tr>\n",
       "    <tr>\n",
       "      <th>1</th>\n",
       "      <td>29</td>\n",
       "      <td>220</td>\n",
       "    </tr>\n",
       "  </tbody>\n",
       "</table>\n",
       "</div>"
      ],
      "text/plain": [
       "ever_married    No   Yes\n",
       "stroke                  \n",
       "0             1727  3133\n",
       "1               29   220"
      ]
     },
     "metadata": {},
     "output_type": "display_data"
    },
    {
     "name": "stdout",
     "output_type": "stream",
     "text": [
      "\n"
     ]
    },
    {
     "data": {
      "text/markdown": [
       "&nbsp;**Countplot and Positive Stroke Percentage Barplot**"
      ],
      "text/plain": [
       "<IPython.core.display.Markdown object>"
      ]
     },
     "metadata": {},
     "output_type": "display_data"
    },
    {
     "data": {
      "image/png": "[encoded data removed]",
      "text/plain": [
       "<Figure size 360x720 with 2 Axes>"
      ]
     },
     "metadata": {},
     "output_type": "display_data"
    },
    {
     "name": "stdout",
     "output_type": "stream",
     "text": [
      "\n"
     ]
    },
    {
     "data": {
      "text/markdown": [
       "&nbsp;**MCC**: 0.10829931566075396"
      ],
      "text/plain": [
       "<IPython.core.display.Markdown object>"
      ]
     },
     "metadata": {},
     "output_type": "display_data"
    }
   ],
   "source": [
    "bin_cat_eda('ever_married')"
   ]
  },
  {
   "cell_type": "markdown",
   "id": "d665b73b-88a8-4670-8fa2-edf95e349232",
   "metadata": {},
   "source": [
    "People who have not been married are most likely to be children and young adults. As we previously saw when exploring `age`, they are very less likely to have a stroke, which explains the `1.65%` of positive stroke events. The older people who have had a stroke are likely to be married, which is why the percentage of positive `stroke` events is relatively higher for the `Yes` category in `ever_married`. Yet again, the correlation is still low due to only a minority of people actually having a `stroke`. \n",
    "\n",
    "---\n",
    "<a class=\"anchor\" id=\"Residence_type\"></a>\n",
    "#### 8) Residence_type"
   ]
  },
  {
   "cell_type": "code",
   "execution_count": 50,
   "id": "54f3fd15-fdf0-4aed-953c-6a511377db09",
   "metadata": {},
   "outputs": [
    {
     "data": {
      "text/markdown": [
       "&nbsp;**Contingency Table**"
      ],
      "text/plain": [
       "<IPython.core.display.Markdown object>"
      ]
     },
     "metadata": {},
     "output_type": "display_data"
    },
    {
     "data": {
      "text/html": [
       "<div>\n",
       "<style scoped>\n",
       "    .dataframe tbody tr th:only-of-type {\n",
       "        vertical-align: middle;\n",
       "    }\n",
       "\n",
       "    .dataframe tbody tr th {\n",
       "        vertical-align: top;\n",
       "    }\n",
       "\n",
       "    .dataframe thead th {\n",
       "        text-align: right;\n",
       "    }\n",
       "</style>\n",
       "<table border=\"1\" class=\"dataframe\">\n",
       "  <thead>\n",
       "    <tr style=\"text-align: right;\">\n",
       "      <th>Residence_type</th>\n",
       "      <th>Rural</th>\n",
       "      <th>Urban</th>\n",
       "    </tr>\n",
       "    <tr>\n",
       "      <th>stroke</th>\n",
       "      <th></th>\n",
       "      <th></th>\n",
       "    </tr>\n",
       "  </thead>\n",
       "  <tbody>\n",
       "    <tr>\n",
       "      <th>0</th>\n",
       "      <td>2399</td>\n",
       "      <td>2461</td>\n",
       "    </tr>\n",
       "    <tr>\n",
       "      <th>1</th>\n",
       "      <td>114</td>\n",
       "      <td>135</td>\n",
       "    </tr>\n",
       "  </tbody>\n",
       "</table>\n",
       "</div>"
      ],
      "text/plain": [
       "Residence_type  Rural  Urban\n",
       "stroke                      \n",
       "0                2399   2461\n",
       "1                 114    135"
      ]
     },
     "metadata": {},
     "output_type": "display_data"
    },
    {
     "name": "stdout",
     "output_type": "stream",
     "text": [
      "\n"
     ]
    },
    {
     "data": {
      "text/markdown": [
       "&nbsp;**Countplot and Positive Stroke Percentage Barplot**"
      ],
      "text/plain": [
       "<IPython.core.display.Markdown object>"
      ]
     },
     "metadata": {},
     "output_type": "display_data"
    },
    {
     "data": {
      "image/png": "[encoded data removed]",
      "text/plain": [
       "<Figure size 360x720 with 2 Axes>"
      ]
     },
     "metadata": {},
     "output_type": "display_data"
    },
    {
     "name": "stdout",
     "output_type": "stream",
     "text": [
      "\n"
     ]
    },
    {
     "data": {
      "text/markdown": [
       "&nbsp;**MCC**: 0.01541458421031582"
      ],
      "text/plain": [
       "<IPython.core.display.Markdown object>"
      ]
     },
     "metadata": {},
     "output_type": "display_data"
    }
   ],
   "source": [
    "bin_cat_eda('Residence_type')"
   ]
  },
  {
   "cell_type": "markdown",
   "id": "6c085c44-d3fc-44a3-9b09-2f2c180bdab1",
   "metadata": {},
   "source": [
    "`Residence_type` has a similar story to `gender` where both categories have about the same percentage of positive `stroke` events and there is not much difference between the two which is why the correlation is only `0.02`. So it seems that it doesn't matter whether a person is living in a `Rural` area or an `Urban` one, both are equally at risk of having a `stroke`.  \n",
    "\n",
    "---\n",
    "### Polychotomous Categorical Variables\n",
    "\n",
    "Unlike other categorical variables in this dataset, the remaining variables (`work_type` and `smoking_status`) are not dichotomous and consist of more than 2 different categories. We can use a similar approach for EDA, however, `MCC` cannot be used as a statistical tool to measure the correlation anymore since it only works for 2 dichotomous variables. Instead, we can use `Cramer's V` along with `Chi-Square Contingency` to calculate the correlation between 2 polychotomous categorical variables. The code below has been adapted from https://stackoverflow.com/questions/20892799/using-pandas-calculate-cram%C3%A9rs-coefficient-matrix and then slightly modified. It follows the explanations mentioned in https://en.wikipedia.org/wiki/Cram%C3%A9r%27s_V. It consists of some bias corrections for contingency tables larger than `2x2` to make the test more accurate."
   ]
  },
  {
   "cell_type": "code",
   "execution_count": 51,
   "id": "96f8fcc7-f54e-4630-8b16-223ef472516a",
   "metadata": {},
   "outputs": [],
   "source": [
    "def cramers_corrected_stat(confusion_matrix):\n",
    "    \"\"\" calculate Cramers V statistic for categorial-categorial association.\n",
    "        uses correction from Bergsma and Wicher, \n",
    "        Journal of the Korean Statistical Society 42 (2013): 323-328\n",
    "    \"\"\"    \n",
    "    chi2 = stats.chi2_contingency(confusion_matrix)[0]\n",
    "    n = confusion_matrix.sum().sum()\n",
    "    \n",
    "    phi2 = chi2/n\n",
    "    r,k = confusion_matrix.shape\n",
    "    \n",
    "    # bias correction\n",
    "    phi2corr = max(0, phi2 - ((k-1)*(r-1))/(n-1))    \n",
    "    rcorr = r - ((r-1)**2)/(n-1)\n",
    "    kcorr = k - ((k-1)**2)/(n-1)\n",
    "    return np.sqrt(phi2corr / min( (kcorr-1), (rcorr-1)))"
   ]
  },
  {
   "cell_type": "markdown",
   "id": "71389c00-2725-48d2-9e48-a3b2ff87031a",
   "metadata": {},
   "source": [
    "To evaluate how well this correlation function works, we can test it on previous categorical variables for which we have the `MCC` value.  "
   ]
  },
  {
   "cell_type": "code",
   "execution_count": 52,
   "id": "7892b423-103c-40c9-a194-922449001742",
   "metadata": {},
   "outputs": [
    {
     "data": {
      "text/markdown": [
       "&nbsp;**Cramer's V (With Bias Correction)**"
      ],
      "text/plain": [
       "<IPython.core.display.Markdown object>"
      ]
     },
     "metadata": {},
     "output_type": "display_data"
    },
    {
     "name": "stdout",
     "output_type": "stream",
     "text": [
      "Residence_type:\t 0.0038260825246609897\n",
      "ever_married:\t 0.10643693254276906\n"
     ]
    },
    {
     "data": {
      "text/markdown": [
       "&nbsp;**Cramer's V (No Correction)**"
      ],
      "text/plain": [
       "<IPython.core.display.Markdown object>"
      ]
     },
     "metadata": {},
     "output_type": "display_data"
    },
    {
     "name": "stdout",
     "output_type": "stream",
     "text": [
      "Residence_type:\t 0.015414584210315819\n",
      "ever_married:\t 0.10829931566075394\n"
     ]
    }
   ],
   "source": [
    "residence_table = pd.crosstab(index = strokedata['stroke'], columns = strokedata['Residence_type'])\n",
    "ever_married_table = pd.crosstab(index = strokedata['stroke'], columns = strokedata['ever_married'])\n",
    "\n",
    "printmd(\"**Cramer's V (With Bias Correction)**\")\n",
    "print(\"Residence_type:\\t\", cramers_corrected_stat(residence_table))\n",
    "print(\"ever_married:\\t\", cramers_corrected_stat(ever_married_table))\n",
    "\n",
    "def cramers_stat(confusion_matrix):\n",
    "    chi2 = stats.chi2_contingency(confusion_matrix,correction=False)[0]\n",
    "    n = confusion_matrix.sum().sum()\n",
    "    \n",
    "    phi2 = chi2/n\n",
    "    r,k = confusion_matrix.shape\n",
    "    \n",
    "    return np.sqrt(phi2/min(k-1,r-1))\n",
    "\n",
    "printmd(\"**Cramer's V (No Correction)**\")\n",
    "print(\"Residence_type:\\t\", cramers_stat(residence_table))\n",
    "print(\"ever_married:\\t\", cramers_stat(ever_married_table))"
   ]
  },
  {
   "cell_type": "markdown",
   "id": "5e499cec-01d7-4b09-bda8-39a3642b2162",
   "metadata": {},
   "source": [
    "The value returned for `ever_married` is very similar to `MCC`. (`0.106` vs `0.108`). It is quite small for `Residence_type` (`0.004` vs `0.015`) and that is due to the bias correction. `Cramer's V` without bias correction returns exactly the same values as `MCC` for `2x2` contingency tables. However, for tables larger than `2x2`, the correction bias proposed by Bergsma and Wicher (https://doi.org/10.1016%2Fj.jkss.2012.10.002) makes it more reliable and therefore, we can justifiably use `Cramer's V` as a statistic tool to measure the correlation between polychotmous categorical variables. \n",
    "\n",
    "Now, we can slightly adjust the `bin_cat_eda` function to make it work for multi-category variables."
   ]
  },
  {
   "cell_type": "code",
   "execution_count": 53,
   "id": "458f5a91-0890-4be3-91e5-571f44069c7d",
   "metadata": {},
   "outputs": [],
   "source": [
    "def multi_cat_eda(name):\n",
    "    # Create and show contingency table\n",
    "    printmd(\"**Contingency Table**\")\n",
    "    table = pd.crosstab(index = strokedata['stroke'], columns = strokedata[name])\n",
    "    display(table)\n",
    "    \n",
    "    print()\n",
    "    printmd(\"**Countplot and Positive Stroke Percentage Barplot**\")\n",
    "    fig, (countplot, barplot) = plt.subplots(2,1,figsize=(8,10))\n",
    "\n",
    "    # Show bivariate countplot\n",
    "    sb.countplot(x = name, hue = \"stroke\", data = strokedata, ax=countplot)\n",
    "\n",
    "    percent_dict = {}\n",
    "\n",
    "    # Compute and add percentages to dict\n",
    "    catlist = list(strokedata[name].cat.categories)\n",
    "    for x in range(0,len(catlist)):\n",
    "        percent_dict[catlist[x]] = (table.values[1][x] / (table.values[1][x] + table.values[0][x])) * 100\n",
    "    \n",
    "    df = pd.DataFrame(percent_dict.items(), columns = [ name, 'positive stroke percent' ])\n",
    "\n",
    "    # Show barplot\n",
    "    sb.barplot(x=name, y='positive stroke percent', data = df, ax=barplot)\n",
    "    barplot.set(ylim=(0, 100))\n",
    "    barplot.set(ylabel=\"positive stroke events (%)\")\n",
    "\n",
    "    # Add percentage on top of bar\n",
    "    x = 0\n",
    "    for index, row in df.iterrows():\n",
    "        barplot.text(x,row.values[1] + 1, str(round(row.values[1],2)) + \"%\", color='black', ha=\"center\")\n",
    "        x += 1\n",
    "\n",
    "    plt.show()\n",
    "    print()\n",
    "    \n",
    "    # Calculate and Print Cramer's V\n",
    "    printmd(\"**Cramer's V**: \" + str(cramers_corrected_stat(table)))"
   ]
  },
  {
   "cell_type": "code",
   "execution_count": null,
   "id": "3ef9138f-09fc-4d34-8d11-8bfce9c7f662",
   "metadata": {},
   "outputs": [],
   "source": []
  },
  {
   "cell_type": "code",
   "execution_count": null,
   "id": "9179f529-fd12-4165-b6f8-17f24550a955",
   "metadata": {},
   "outputs": [],
   "source": []
  },
  {
   "cell_type": "markdown",
   "id": "def52f0c-3ade-4f4f-b210-b281da06f03b",
   "metadata": {},
   "source": [
    "---\n",
    "<a class=\"anchor\" id=\"work_type\"></a>\n",
    "#### 9) work_type"
   ]
  },
  {
   "cell_type": "code",
   "execution_count": 54,
   "id": "81af3d17-c47d-475a-8618-f69937ca0681",
   "metadata": {},
   "outputs": [
    {
     "data": {
      "text/markdown": [
       "&nbsp;**Contingency Table**"
      ],
      "text/plain": [
       "<IPython.core.display.Markdown object>"
      ]
     },
     "metadata": {},
     "output_type": "display_data"
    },
    {
     "data": {
      "text/html": [
       "<div>\n",
       "<style scoped>\n",
       "    .dataframe tbody tr th:only-of-type {\n",
       "        vertical-align: middle;\n",
       "    }\n",
       "\n",
       "    .dataframe tbody tr th {\n",
       "        vertical-align: top;\n",
       "    }\n",
       "\n",
       "    .dataframe thead th {\n",
       "        text-align: right;\n",
       "    }\n",
       "</style>\n",
       "<table border=\"1\" class=\"dataframe\">\n",
       "  <thead>\n",
       "    <tr style=\"text-align: right;\">\n",
       "      <th>work_type</th>\n",
       "      <th>Govt_job</th>\n",
       "      <th>Never_worked</th>\n",
       "      <th>Private</th>\n",
       "      <th>Self-employed</th>\n",
       "      <th>children</th>\n",
       "    </tr>\n",
       "    <tr>\n",
       "      <th>stroke</th>\n",
       "      <th></th>\n",
       "      <th></th>\n",
       "      <th></th>\n",
       "      <th></th>\n",
       "      <th></th>\n",
       "    </tr>\n",
       "  </thead>\n",
       "  <tbody>\n",
       "    <tr>\n",
       "      <th>0</th>\n",
       "      <td>624</td>\n",
       "      <td>22</td>\n",
       "      <td>2775</td>\n",
       "      <td>754</td>\n",
       "      <td>685</td>\n",
       "    </tr>\n",
       "    <tr>\n",
       "      <th>1</th>\n",
       "      <td>33</td>\n",
       "      <td>0</td>\n",
       "      <td>149</td>\n",
       "      <td>65</td>\n",
       "      <td>2</td>\n",
       "    </tr>\n",
       "  </tbody>\n",
       "</table>\n",
       "</div>"
      ],
      "text/plain": [
       "work_type  Govt_job  Never_worked  Private  Self-employed  children\n",
       "stroke                                                             \n",
       "0               624            22     2775            754       685\n",
       "1                33             0      149             65         2"
      ]
     },
     "metadata": {},
     "output_type": "display_data"
    },
    {
     "name": "stdout",
     "output_type": "stream",
     "text": [
      "\n"
     ]
    },
    {
     "data": {
      "text/markdown": [
       "&nbsp;**Countplot and Positive Stroke Percentage Barplot**"
      ],
      "text/plain": [
       "<IPython.core.display.Markdown object>"
      ]
     },
     "metadata": {},
     "output_type": "display_data"
    },
    {
     "data": {
      "image/png": "[encoded data removed]",
      "text/plain": [
       "<Figure size 576x720 with 2 Axes>"
      ]
     },
     "metadata": {},
     "output_type": "display_data"
    },
    {
     "name": "stdout",
     "output_type": "stream",
     "text": [
      "\n"
     ]
    },
    {
     "data": {
      "text/markdown": [
       "&nbsp;**Cramer's V**: 0.09402507124986106"
      ],
      "text/plain": [
       "<IPython.core.display.Markdown object>"
      ]
     },
     "metadata": {},
     "output_type": "display_data"
    }
   ],
   "source": [
    "multi_cat_eda('work_type')"
   ]
  },
  {
   "cell_type": "markdown",
   "id": "87453bd4-a38a-463a-adba-a16c4b105e52",
   "metadata": {},
   "source": [
    "The percentage of positive `stroke` events is almost equal for `Govt_job` and `Private`. `Self-employed` is just slightly higher, but this doesn't mean much.`children` only has a positive `stroke` percentage of `0.29%` and this is because only `2` `children` had `stroke`. As we saw previously in `age`, those `2` `children` are outliers. Interestingly, `Never_worked` has no positive `stroke` cases, but that is because of how small the sample size is. There are only `22` individiuals in the `Never_worked` category. This does not mean that if one does not work then they will not have a stroke. \n",
    "\n",
    "`Cramer's V` has given a weak correlation of `0.09` which makes sense. If we were to drop the `Never_worked` and `children` categories, then this correlation would go even lower. "
   ]
  },
  {
   "cell_type": "code",
   "execution_count": 55,
   "id": "0c893826-e4c8-4cdb-a04d-efc3709359da",
   "metadata": {},
   "outputs": [
    {
     "data": {
      "text/markdown": [
       "&nbsp;New Shape: (4400, 2)"
      ],
      "text/plain": [
       "<IPython.core.display.Markdown object>"
      ]
     },
     "metadata": {},
     "output_type": "display_data"
    },
    {
     "data": {
      "text/markdown": [
       "&nbsp;**Cramer's V**: 0.04331326403166337"
      ],
      "text/plain": [
       "<IPython.core.display.Markdown object>"
      ]
     },
     "metadata": {},
     "output_type": "display_data"
    }
   ],
   "source": [
    "work_stroke = strokedata[['work_type', 'stroke']].copy()\n",
    "work_stroke.drop(work_stroke[(work_stroke.work_type == 'children') | (work_stroke.work_type == 'Never_worked')].index, inplace=True)\n",
    "printmd(\"New Shape: \" + str(work_stroke.shape))\n",
    "printmd(\"**Cramer's V**: \" + str(cramers_corrected_stat(pd.crosstab(index = work_stroke['stroke'], columns = work_stroke['work_type']))))"
   ]
  },
  {
   "cell_type": "markdown",
   "id": "eb57ba1f-e0bd-4a9e-9fed-31e4f2cdac3f",
   "metadata": {},
   "source": [
    "Indeed, the correlation has fallen down by more than `50%` to `0.04`"
   ]
  },
  {
   "cell_type": "markdown",
   "id": "da8da9d6-7a1b-45d2-bf71-ffb319d2324c",
   "metadata": {},
   "source": [
    "---\n",
    "<a class=\"anchor\" id=\"smoking_status\"></a>\n",
    "#### 10) smoking_status"
   ]
  },
  {
   "cell_type": "code",
   "execution_count": 56,
   "id": "283a6f93-2e3e-4043-b7b7-131fd7433ec7",
   "metadata": {},
   "outputs": [
    {
     "data": {
      "text/markdown": [
       "&nbsp;**Contingency Table**"
      ],
      "text/plain": [
       "<IPython.core.display.Markdown object>"
      ]
     },
     "metadata": {},
     "output_type": "display_data"
    },
    {
     "data": {
      "text/html": [
       "<div>\n",
       "<style scoped>\n",
       "    .dataframe tbody tr th:only-of-type {\n",
       "        vertical-align: middle;\n",
       "    }\n",
       "\n",
       "    .dataframe tbody tr th {\n",
       "        vertical-align: top;\n",
       "    }\n",
       "\n",
       "    .dataframe thead th {\n",
       "        text-align: right;\n",
       "    }\n",
       "</style>\n",
       "<table border=\"1\" class=\"dataframe\">\n",
       "  <thead>\n",
       "    <tr style=\"text-align: right;\">\n",
       "      <th>smoking_status</th>\n",
       "      <th>Unknown</th>\n",
       "      <th>formerly smoked</th>\n",
       "      <th>never smoked</th>\n",
       "      <th>smokes</th>\n",
       "    </tr>\n",
       "    <tr>\n",
       "      <th>stroke</th>\n",
       "      <th></th>\n",
       "      <th></th>\n",
       "      <th></th>\n",
       "      <th></th>\n",
       "    </tr>\n",
       "  </thead>\n",
       "  <tbody>\n",
       "    <tr>\n",
       "      <th>0</th>\n",
       "      <td>1497</td>\n",
       "      <td>814</td>\n",
       "      <td>1802</td>\n",
       "      <td>747</td>\n",
       "    </tr>\n",
       "    <tr>\n",
       "      <th>1</th>\n",
       "      <td>47</td>\n",
       "      <td>70</td>\n",
       "      <td>90</td>\n",
       "      <td>42</td>\n",
       "    </tr>\n",
       "  </tbody>\n",
       "</table>\n",
       "</div>"
      ],
      "text/plain": [
       "smoking_status  Unknown  formerly smoked  never smoked  smokes\n",
       "stroke                                                        \n",
       "0                  1497              814          1802     747\n",
       "1                    47               70            90      42"
      ]
     },
     "metadata": {},
     "output_type": "display_data"
    },
    {
     "name": "stdout",
     "output_type": "stream",
     "text": [
      "\n"
     ]
    },
    {
     "data": {
      "text/markdown": [
       "&nbsp;**Countplot and Positive Stroke Percentage Barplot**"
      ],
      "text/plain": [
       "<IPython.core.display.Markdown object>"
      ]
     },
     "metadata": {},
     "output_type": "display_data"
    },
    {
     "data": {
      "image/png": "[encoded data removed]",
      "text/plain": [
       "<Figure size 576x720 with 2 Axes>"
      ]
     },
     "metadata": {},
     "output_type": "display_data"
    },
    {
     "name": "stdout",
     "output_type": "stream",
     "text": [
      "\n"
     ]
    },
    {
     "data": {
      "text/markdown": [
       "&nbsp;**Cramer's V**: 0.07165285008520017"
      ],
      "text/plain": [
       "<IPython.core.display.Markdown object>"
      ]
     },
     "metadata": {},
     "output_type": "display_data"
    }
   ],
   "source": [
    "multi_cat_eda(\"smoking_status\")"
   ]
  },
  {
   "cell_type": "markdown",
   "id": "9a52957b-35b9-4dab-8175-7d230f5266fc",
   "metadata": {},
   "source": [
    "There is very little difference between the positive `stroke` percentages of `never_smoked` and `smokes`. Interestingly, those who `formerly smoked` (`4.76%` vs `5.32%`) have a much higher percentage (`7.92%`). The correlation given by `Cramer's V` is very low (`0.07`). However, the `Unknown` category occupies a big chunk of the data, and we cannot say for sure to which actual categories do the patients in the `Unknown` category belong. As such, we should look at the correlation without this category."
   ]
  },
  {
   "cell_type": "code",
   "execution_count": 57,
   "id": "2433d5d4-1f46-435d-9310-03c9e8d43eb1",
   "metadata": {},
   "outputs": [
    {
     "data": {
      "text/markdown": [
       "&nbsp;New Shape: (3565, 2)"
      ],
      "text/plain": [
       "<IPython.core.display.Markdown object>"
      ]
     },
     "metadata": {},
     "output_type": "display_data"
    },
    {
     "data": {
      "text/markdown": [
       "&nbsp;**Cramer's V**: 0.05160187418382937"
      ],
      "text/plain": [
       "<IPython.core.display.Markdown object>"
      ]
     },
     "metadata": {},
     "output_type": "display_data"
    }
   ],
   "source": [
    "smoking_stroke = strokedata[['smoking_status', 'stroke']].copy()\n",
    "smoking_stroke.drop(smoking_stroke[(smoking_stroke.smoking_status == 'Unknown')].index, inplace=True)\n",
    "printmd(\"New Shape: \" + str(smoking_stroke.shape))\n",
    "printmd(\"**Cramer's V**: \" + str(cramers_corrected_stat(pd.crosstab(index = smoking_stroke['stroke'], columns = smoking_stroke['smoking_status']))))"
   ]
  },
  {
   "cell_type": "markdown",
   "id": "8348ed62-24ec-4e31-ae4a-cdfa337aef05",
   "metadata": {
    "tags": []
   },
   "source": [
    "The correlation has fallen to an even lower score of `0.05`, indicating that `smoking_status` may not be a good predictor for `stroke`. \n",
    "\n",
    "---\n",
    "<a class=\"anchor\" id=\"hyperheart\"></a>\n",
    "#### 11) hypertension and heart_disease vs stroke\n",
    "Let's start by first creating a new column which merges `hypertension`and `heart_disease`"
   ]
  },
  {
   "cell_type": "code",
   "execution_count": 58,
   "id": "2c818cca-9371-46d6-b09a-c0ab70cde0e9",
   "metadata": {},
   "outputs": [
    {
     "data": {
      "text/plain": [
       "0       heart_disease\n",
       "1             neither\n",
       "2       heart_disease\n",
       "3             neither\n",
       "4        hypertension\n",
       "            ...      \n",
       "5105     hypertension\n",
       "5106          neither\n",
       "5107          neither\n",
       "5108          neither\n",
       "5109          neither\n",
       "Name: hyper_heart, Length: 5109, dtype: category\n",
       "Categories (4, object): ['both', 'heart_disease', 'hypertension', 'neither']"
      ]
     },
     "execution_count": 58,
     "metadata": {},
     "output_type": "execute_result"
    }
   ],
   "source": [
    "hyper_heart_list = []\n",
    "\n",
    "# Fill list\n",
    "for x in range(0,len(strokedata)):\n",
    "    hypertension = strokedata.hypertension.iloc[x]\n",
    "    heart_disease = strokedata.heart_disease.iloc[x]\n",
    "    \n",
    "    # value is determined by the combination of hypertension and heart_disease\n",
    "    if hypertension and heart_disease:\n",
    "        hyper_heart_list.append('both')\n",
    "    elif hypertension:\n",
    "        hyper_heart_list.append('hypertension')\n",
    "    elif heart_disease:\n",
    "        hyper_heart_list.append('heart_disease')\n",
    "    else:\n",
    "        hyper_heart_list.append('neither')\n",
    "\n",
    "strokedata['hyper_heart'] = hyper_heart_list\n",
    "strokedata['hyper_heart'] = strokedata['hyper_heart'].astype('category')\n",
    "strokedata['hyper_heart']"
   ]
  },
  {
   "cell_type": "markdown",
   "id": "27f3e9e4-4927-4563-9208-54a383396c13",
   "metadata": {},
   "source": [
    "***EDA***"
   ]
  },
  {
   "cell_type": "code",
   "execution_count": 59,
   "id": "1757f1e0-a4e7-4c50-8345-e705196ab306",
   "metadata": {},
   "outputs": [
    {
     "data": {
      "text/markdown": [
       "&nbsp;**Contingency Table**"
      ],
      "text/plain": [
       "<IPython.core.display.Markdown object>"
      ]
     },
     "metadata": {},
     "output_type": "display_data"
    },
    {
     "data": {
      "text/html": [
       "<div>\n",
       "<style scoped>\n",
       "    .dataframe tbody tr th:only-of-type {\n",
       "        vertical-align: middle;\n",
       "    }\n",
       "\n",
       "    .dataframe tbody tr th {\n",
       "        vertical-align: top;\n",
       "    }\n",
       "\n",
       "    .dataframe thead th {\n",
       "        text-align: right;\n",
       "    }\n",
       "</style>\n",
       "<table border=\"1\" class=\"dataframe\">\n",
       "  <thead>\n",
       "    <tr style=\"text-align: right;\">\n",
       "      <th>hyper_heart</th>\n",
       "      <th>both</th>\n",
       "      <th>heart_disease</th>\n",
       "      <th>hypertension</th>\n",
       "      <th>neither</th>\n",
       "    </tr>\n",
       "    <tr>\n",
       "      <th>stroke</th>\n",
       "      <th></th>\n",
       "      <th></th>\n",
       "      <th></th>\n",
       "      <th></th>\n",
       "    </tr>\n",
       "  </thead>\n",
       "  <tbody>\n",
       "    <tr>\n",
       "      <th>0</th>\n",
       "      <td>51</td>\n",
       "      <td>178</td>\n",
       "      <td>381</td>\n",
       "      <td>4250</td>\n",
       "    </tr>\n",
       "    <tr>\n",
       "      <th>1</th>\n",
       "      <td>13</td>\n",
       "      <td>34</td>\n",
       "      <td>53</td>\n",
       "      <td>149</td>\n",
       "    </tr>\n",
       "  </tbody>\n",
       "</table>\n",
       "</div>"
      ],
      "text/plain": [
       "hyper_heart  both  heart_disease  hypertension  neither\n",
       "stroke                                                 \n",
       "0              51            178           381     4250\n",
       "1              13             34            53      149"
      ]
     },
     "metadata": {},
     "output_type": "display_data"
    },
    {
     "name": "stdout",
     "output_type": "stream",
     "text": [
      "\n"
     ]
    },
    {
     "data": {
      "text/markdown": [
       "&nbsp;**Countplot and Positive Stroke Percentage Barplot**"
      ],
      "text/plain": [
       "<IPython.core.display.Markdown object>"
      ]
     },
     "metadata": {},
     "output_type": "display_data"
    },
    {
     "data": {
      "image/png": "[encoded data removed]",
      "text/plain": [
       "<Figure size 576x720 with 2 Axes>"
      ]
     },
     "metadata": {},
     "output_type": "display_data"
    },
    {
     "name": "stdout",
     "output_type": "stream",
     "text": [
      "\n"
     ]
    },
    {
     "data": {
      "text/markdown": [
       "&nbsp;**Cramer's V**: 0.17602643249899386"
      ],
      "text/plain": [
       "<IPython.core.display.Markdown object>"
      ]
     },
     "metadata": {},
     "output_type": "display_data"
    }
   ],
   "source": [
    "multi_cat_eda(\"hyper_heart\")\n",
    "strokedata.drop('hyper_heart', axis=1, inplace=True)"
   ]
  },
  {
   "cell_type": "markdown",
   "id": "72298aa3-66d2-46d5-b616-8c966af8d63a",
   "metadata": {},
   "source": [
    "Combining `heart_disease` and `hypertension` has given us the best categorical variable in terms of correlation (`0.17`) and distinction between categories so far. `20.0%` of all patients with both `hypertension` and `heart disease` had a `stroke`, compared to just `3.39%` of those who had `neither`. It may not signify a strong relationship between the new variable and `stroke`, but it helps identify the groups that can be considered \"at risk\". "
   ]
  },
  {
   "cell_type": "code",
   "execution_count": null,
   "id": "58ac5305",
   "metadata": {},
   "outputs": [],
   "source": []
  },
  {
   "cell_type": "code",
   "execution_count": null,
   "id": "2a4a097b",
   "metadata": {},
   "outputs": [],
   "source": []
  },
  {
   "cell_type": "markdown",
   "id": "827fc5e2",
   "metadata": {},
   "source": [
    "---\n",
    "## Preparing Dataset for ML Analysis"
   ]
  },
  {
   "cell_type": "code",
   "execution_count": 60,
   "id": "17a8a3f9-876a-400e-9cbc-a042ed40568e",
   "metadata": {},
   "outputs": [],
   "source": [
    "#Making a copy of strokedata\n",
    "mldata = strokedata.copy()"
   ]
  },
  {
   "cell_type": "markdown",
   "id": "b791cc64",
   "metadata": {},
   "source": [
    "---\n",
    "<a class=\"anchor\" id=\"drop_nv\"></a>\n",
    "#### 1) Dropping 'Never_worked' from work_type\n",
    "\n",
    "As we found out in the EDA, the `Never_worked` category of `work_type` only consists of `22` entries (representing only `0.43%` of the dataset) with none of them having a `stroke`. This category is separate from `children`, so it only consists of adults who have never worked before. We can drop this category to make ML Analysis easier by reducing a column when one-hot encoding the categorical variables later. "
   ]
  },
  {
   "cell_type": "code",
   "execution_count": 61,
   "id": "109c40cb",
   "metadata": {},
   "outputs": [
    {
     "name": "stdout",
     "output_type": "stream",
     "text": [
      "Category List - ['Govt_job', 'Private', 'Self-employed', 'children']\n",
      "New Shape - (5087, 11)\n",
      "Removed 22 values\n"
     ]
    }
   ],
   "source": [
    "oldlen = len(mldata)\n",
    "mldata = mldata[mldata.work_type != 'Never_worked']\n",
    "mldata.reset_index(drop=True)\n",
    "mldata.work_type = mldata.work_type.cat.remove_unused_categories()\n",
    "\n",
    "print('Category List -', list(mldata.work_type.cat.categories))\n",
    "print('New Shape -',mldata.shape)\n",
    "print(\"Removed {} values\".format(oldlen - len(mldata)))"
   ]
  },
  {
   "cell_type": "markdown",
   "id": "0e7c8694",
   "metadata": {},
   "source": [
    "---\n",
    "<a class=\"anchor\" id=\"drop_ss\"></a>\n",
    "#### 2) Dropping smoking_status"
   ]
  },
  {
   "cell_type": "markdown",
   "id": "f1e87749",
   "metadata": {},
   "source": [
    "There are a total of $(1497 + 47 = 1544)$ `Unknown` or missing values in the `smoking_status` column. This accounts for $(1544/5109 = 30.22\\%)$ of the entire dataset. We have decided to drop the `smoking_status` column entirely for the following reasons (going from most important to least):\n",
    "\n",
    "1. We cannot drop the missing rows. Removing 30% of the rows would be losing almost 1/3rd of the entire dataset. It would also lead to a drop of $(47/249 = 18.88\\%)$ of positive stroke values - our main area of concern. \n",
    "2. Filling the missing values is avoidable. First of all, `smoking_status` is categorical, which means we would have to go with a simple metric like `mode` or try to predict `smoking_status` using machine learning. If we use the `mode` then all the values will be replaced with `never_smoked`. As revealed during EDA, the `Unknown` values have the lowest positive stroke ratio of any other category in `smoking_status` (`3.04%` vs `never_smoked`'s 2nd lowest percentage of `4.76%`)  which indicates a class imbalance that we are unaware of. Perhaps all the positive stroke percentages should be lower than they are. These unknown values could belong to any other category in reality. If we do try to predict `smoking_status`, we will have to use the remaining variables (except `stroke`) and feed them to a machine learning algorithm. We would then be using the same variables and a similar machine learning model along with `smoking_status` to predict `stroke`, which could then lead to over-fitting of data, and will most likely reduce accuracy (because of using an innaccurate variable as a predictor). \n",
    "3. `smoking_status` has a poor correlation with `stroke` (`0.07` including `Unknown`, `0.05` without) - This is not to say that a variable with a low correlation cannot be useful in prediction, but it is to say that it's not a variable with a very high correlation either, so we won't be losing a critical variable for prediction. "
   ]
  },
  {
   "cell_type": "code",
   "execution_count": 62,
   "id": "bc73d843",
   "metadata": {},
   "outputs": [
    {
     "data": {
      "text/html": [
       "<div>\n",
       "<style scoped>\n",
       "    .dataframe tbody tr th:only-of-type {\n",
       "        vertical-align: middle;\n",
       "    }\n",
       "\n",
       "    .dataframe tbody tr th {\n",
       "        vertical-align: top;\n",
       "    }\n",
       "\n",
       "    .dataframe thead th {\n",
       "        text-align: right;\n",
       "    }\n",
       "</style>\n",
       "<table border=\"1\" class=\"dataframe\">\n",
       "  <thead>\n",
       "    <tr style=\"text-align: right;\">\n",
       "      <th></th>\n",
       "      <th>gender</th>\n",
       "      <th>age</th>\n",
       "      <th>hypertension</th>\n",
       "      <th>heart_disease</th>\n",
       "      <th>ever_married</th>\n",
       "      <th>work_type</th>\n",
       "      <th>Residence_type</th>\n",
       "      <th>avg_glucose_level</th>\n",
       "      <th>bmi</th>\n",
       "      <th>stroke</th>\n",
       "    </tr>\n",
       "  </thead>\n",
       "  <tbody>\n",
       "    <tr>\n",
       "      <th>0</th>\n",
       "      <td>Male</td>\n",
       "      <td>67.0</td>\n",
       "      <td>0</td>\n",
       "      <td>1</td>\n",
       "      <td>Yes</td>\n",
       "      <td>Private</td>\n",
       "      <td>Urban</td>\n",
       "      <td>228.69</td>\n",
       "      <td>36.6</td>\n",
       "      <td>1</td>\n",
       "    </tr>\n",
       "    <tr>\n",
       "      <th>1</th>\n",
       "      <td>Female</td>\n",
       "      <td>61.0</td>\n",
       "      <td>0</td>\n",
       "      <td>0</td>\n",
       "      <td>Yes</td>\n",
       "      <td>Self-employed</td>\n",
       "      <td>Rural</td>\n",
       "      <td>202.21</td>\n",
       "      <td>28.3</td>\n",
       "      <td>1</td>\n",
       "    </tr>\n",
       "    <tr>\n",
       "      <th>2</th>\n",
       "      <td>Male</td>\n",
       "      <td>80.0</td>\n",
       "      <td>0</td>\n",
       "      <td>1</td>\n",
       "      <td>Yes</td>\n",
       "      <td>Private</td>\n",
       "      <td>Rural</td>\n",
       "      <td>105.92</td>\n",
       "      <td>32.5</td>\n",
       "      <td>1</td>\n",
       "    </tr>\n",
       "    <tr>\n",
       "      <th>3</th>\n",
       "      <td>Female</td>\n",
       "      <td>49.0</td>\n",
       "      <td>0</td>\n",
       "      <td>0</td>\n",
       "      <td>Yes</td>\n",
       "      <td>Private</td>\n",
       "      <td>Urban</td>\n",
       "      <td>171.23</td>\n",
       "      <td>34.4</td>\n",
       "      <td>1</td>\n",
       "    </tr>\n",
       "    <tr>\n",
       "      <th>4</th>\n",
       "      <td>Female</td>\n",
       "      <td>79.0</td>\n",
       "      <td>1</td>\n",
       "      <td>0</td>\n",
       "      <td>Yes</td>\n",
       "      <td>Self-employed</td>\n",
       "      <td>Rural</td>\n",
       "      <td>174.12</td>\n",
       "      <td>24.0</td>\n",
       "      <td>1</td>\n",
       "    </tr>\n",
       "    <tr>\n",
       "      <th>...</th>\n",
       "      <td>...</td>\n",
       "      <td>...</td>\n",
       "      <td>...</td>\n",
       "      <td>...</td>\n",
       "      <td>...</td>\n",
       "      <td>...</td>\n",
       "      <td>...</td>\n",
       "      <td>...</td>\n",
       "      <td>...</td>\n",
       "      <td>...</td>\n",
       "    </tr>\n",
       "    <tr>\n",
       "      <th>5105</th>\n",
       "      <td>Female</td>\n",
       "      <td>80.0</td>\n",
       "      <td>1</td>\n",
       "      <td>0</td>\n",
       "      <td>Yes</td>\n",
       "      <td>Private</td>\n",
       "      <td>Urban</td>\n",
       "      <td>83.75</td>\n",
       "      <td>28.3</td>\n",
       "      <td>0</td>\n",
       "    </tr>\n",
       "    <tr>\n",
       "      <th>5106</th>\n",
       "      <td>Female</td>\n",
       "      <td>81.0</td>\n",
       "      <td>0</td>\n",
       "      <td>0</td>\n",
       "      <td>Yes</td>\n",
       "      <td>Self-employed</td>\n",
       "      <td>Urban</td>\n",
       "      <td>125.20</td>\n",
       "      <td>40.0</td>\n",
       "      <td>0</td>\n",
       "    </tr>\n",
       "    <tr>\n",
       "      <th>5107</th>\n",
       "      <td>Female</td>\n",
       "      <td>35.0</td>\n",
       "      <td>0</td>\n",
       "      <td>0</td>\n",
       "      <td>Yes</td>\n",
       "      <td>Self-employed</td>\n",
       "      <td>Rural</td>\n",
       "      <td>82.99</td>\n",
       "      <td>30.6</td>\n",
       "      <td>0</td>\n",
       "    </tr>\n",
       "    <tr>\n",
       "      <th>5108</th>\n",
       "      <td>Male</td>\n",
       "      <td>51.0</td>\n",
       "      <td>0</td>\n",
       "      <td>0</td>\n",
       "      <td>Yes</td>\n",
       "      <td>Private</td>\n",
       "      <td>Rural</td>\n",
       "      <td>166.29</td>\n",
       "      <td>25.6</td>\n",
       "      <td>0</td>\n",
       "    </tr>\n",
       "    <tr>\n",
       "      <th>5109</th>\n",
       "      <td>Female</td>\n",
       "      <td>44.0</td>\n",
       "      <td>0</td>\n",
       "      <td>0</td>\n",
       "      <td>Yes</td>\n",
       "      <td>Govt_job</td>\n",
       "      <td>Urban</td>\n",
       "      <td>85.28</td>\n",
       "      <td>26.2</td>\n",
       "      <td>0</td>\n",
       "    </tr>\n",
       "  </tbody>\n",
       "</table>\n",
       "<p>5087 rows × 10 columns</p>\n",
       "</div>"
      ],
      "text/plain": [
       "      gender   age hypertension heart_disease ever_married      work_type  \\\n",
       "0       Male  67.0            0             1          Yes        Private   \n",
       "1     Female  61.0            0             0          Yes  Self-employed   \n",
       "2       Male  80.0            0             1          Yes        Private   \n",
       "3     Female  49.0            0             0          Yes        Private   \n",
       "4     Female  79.0            1             0          Yes  Self-employed   \n",
       "...      ...   ...          ...           ...          ...            ...   \n",
       "5105  Female  80.0            1             0          Yes        Private   \n",
       "5106  Female  81.0            0             0          Yes  Self-employed   \n",
       "5107  Female  35.0            0             0          Yes  Self-employed   \n",
       "5108    Male  51.0            0             0          Yes        Private   \n",
       "5109  Female  44.0            0             0          Yes       Govt_job   \n",
       "\n",
       "     Residence_type  avg_glucose_level   bmi stroke  \n",
       "0             Urban             228.69  36.6      1  \n",
       "1             Rural             202.21  28.3      1  \n",
       "2             Rural             105.92  32.5      1  \n",
       "3             Urban             171.23  34.4      1  \n",
       "4             Rural             174.12  24.0      1  \n",
       "...             ...                ...   ...    ...  \n",
       "5105          Urban              83.75  28.3      0  \n",
       "5106          Urban             125.20  40.0      0  \n",
       "5107          Rural              82.99  30.6      0  \n",
       "5108          Rural             166.29  25.6      0  \n",
       "5109          Urban              85.28  26.2      0  \n",
       "\n",
       "[5087 rows x 10 columns]"
      ]
     },
     "execution_count": 62,
     "metadata": {},
     "output_type": "execute_result"
    }
   ],
   "source": [
    "mldata.drop('smoking_status',axis=1,inplace=True)\n",
    "mldata"
   ]
  },
  {
   "cell_type": "markdown",
   "id": "6351c379",
   "metadata": {},
   "source": [
    "---\n",
    "<a class=\"anchor\" id=\"encoding\"></a>\n",
    "#### 3) Encoding the Categorical Variables (Label and One-Hot) \n",
    "None of our categorical variables are ordinal. All the categories are fairly distinct and cannot be ranked on an artificial scale. `hypertension` and `heart_disease` only consists of `0` and `1`, so it can be argued they are already one-hot encoded. Similary, `gender`, `ever_married` and `Residence_type` are also dichotomous variables, but their categories are strings. We can label-encode them to turn them into `0`s and `1`s"
   ]
  },
  {
   "cell_type": "code",
   "execution_count": 63,
   "id": "1e7a2d53",
   "metadata": {},
   "outputs": [
    {
     "data": {
      "text/html": [
       "<div>\n",
       "<style scoped>\n",
       "    .dataframe tbody tr th:only-of-type {\n",
       "        vertical-align: middle;\n",
       "    }\n",
       "\n",
       "    .dataframe tbody tr th {\n",
       "        vertical-align: top;\n",
       "    }\n",
       "\n",
       "    .dataframe thead th {\n",
       "        text-align: right;\n",
       "    }\n",
       "</style>\n",
       "<table border=\"1\" class=\"dataframe\">\n",
       "  <thead>\n",
       "    <tr style=\"text-align: right;\">\n",
       "      <th></th>\n",
       "      <th>gender</th>\n",
       "      <th>age</th>\n",
       "      <th>hypertension</th>\n",
       "      <th>heart_disease</th>\n",
       "      <th>ever_married</th>\n",
       "      <th>work_type</th>\n",
       "      <th>Residence_type</th>\n",
       "      <th>avg_glucose_level</th>\n",
       "      <th>bmi</th>\n",
       "      <th>stroke</th>\n",
       "    </tr>\n",
       "  </thead>\n",
       "  <tbody>\n",
       "    <tr>\n",
       "      <th>0</th>\n",
       "      <td>1</td>\n",
       "      <td>67.0</td>\n",
       "      <td>0</td>\n",
       "      <td>1</td>\n",
       "      <td>1</td>\n",
       "      <td>Private</td>\n",
       "      <td>1</td>\n",
       "      <td>228.69</td>\n",
       "      <td>36.6</td>\n",
       "      <td>1</td>\n",
       "    </tr>\n",
       "    <tr>\n",
       "      <th>1</th>\n",
       "      <td>0</td>\n",
       "      <td>61.0</td>\n",
       "      <td>0</td>\n",
       "      <td>0</td>\n",
       "      <td>1</td>\n",
       "      <td>Self-employed</td>\n",
       "      <td>0</td>\n",
       "      <td>202.21</td>\n",
       "      <td>28.3</td>\n",
       "      <td>1</td>\n",
       "    </tr>\n",
       "    <tr>\n",
       "      <th>2</th>\n",
       "      <td>1</td>\n",
       "      <td>80.0</td>\n",
       "      <td>0</td>\n",
       "      <td>1</td>\n",
       "      <td>1</td>\n",
       "      <td>Private</td>\n",
       "      <td>0</td>\n",
       "      <td>105.92</td>\n",
       "      <td>32.5</td>\n",
       "      <td>1</td>\n",
       "    </tr>\n",
       "    <tr>\n",
       "      <th>3</th>\n",
       "      <td>0</td>\n",
       "      <td>49.0</td>\n",
       "      <td>0</td>\n",
       "      <td>0</td>\n",
       "      <td>1</td>\n",
       "      <td>Private</td>\n",
       "      <td>1</td>\n",
       "      <td>171.23</td>\n",
       "      <td>34.4</td>\n",
       "      <td>1</td>\n",
       "    </tr>\n",
       "    <tr>\n",
       "      <th>4</th>\n",
       "      <td>0</td>\n",
       "      <td>79.0</td>\n",
       "      <td>1</td>\n",
       "      <td>0</td>\n",
       "      <td>1</td>\n",
       "      <td>Self-employed</td>\n",
       "      <td>0</td>\n",
       "      <td>174.12</td>\n",
       "      <td>24.0</td>\n",
       "      <td>1</td>\n",
       "    </tr>\n",
       "    <tr>\n",
       "      <th>...</th>\n",
       "      <td>...</td>\n",
       "      <td>...</td>\n",
       "      <td>...</td>\n",
       "      <td>...</td>\n",
       "      <td>...</td>\n",
       "      <td>...</td>\n",
       "      <td>...</td>\n",
       "      <td>...</td>\n",
       "      <td>...</td>\n",
       "      <td>...</td>\n",
       "    </tr>\n",
       "    <tr>\n",
       "      <th>5105</th>\n",
       "      <td>0</td>\n",
       "      <td>80.0</td>\n",
       "      <td>1</td>\n",
       "      <td>0</td>\n",
       "      <td>1</td>\n",
       "      <td>Private</td>\n",
       "      <td>1</td>\n",
       "      <td>83.75</td>\n",
       "      <td>28.3</td>\n",
       "      <td>0</td>\n",
       "    </tr>\n",
       "    <tr>\n",
       "      <th>5106</th>\n",
       "      <td>0</td>\n",
       "      <td>81.0</td>\n",
       "      <td>0</td>\n",
       "      <td>0</td>\n",
       "      <td>1</td>\n",
       "      <td>Self-employed</td>\n",
       "      <td>1</td>\n",
       "      <td>125.20</td>\n",
       "      <td>40.0</td>\n",
       "      <td>0</td>\n",
       "    </tr>\n",
       "    <tr>\n",
       "      <th>5107</th>\n",
       "      <td>0</td>\n",
       "      <td>35.0</td>\n",
       "      <td>0</td>\n",
       "      <td>0</td>\n",
       "      <td>1</td>\n",
       "      <td>Self-employed</td>\n",
       "      <td>0</td>\n",
       "      <td>82.99</td>\n",
       "      <td>30.6</td>\n",
       "      <td>0</td>\n",
       "    </tr>\n",
       "    <tr>\n",
       "      <th>5108</th>\n",
       "      <td>1</td>\n",
       "      <td>51.0</td>\n",
       "      <td>0</td>\n",
       "      <td>0</td>\n",
       "      <td>1</td>\n",
       "      <td>Private</td>\n",
       "      <td>0</td>\n",
       "      <td>166.29</td>\n",
       "      <td>25.6</td>\n",
       "      <td>0</td>\n",
       "    </tr>\n",
       "    <tr>\n",
       "      <th>5109</th>\n",
       "      <td>0</td>\n",
       "      <td>44.0</td>\n",
       "      <td>0</td>\n",
       "      <td>0</td>\n",
       "      <td>1</td>\n",
       "      <td>Govt_job</td>\n",
       "      <td>1</td>\n",
       "      <td>85.28</td>\n",
       "      <td>26.2</td>\n",
       "      <td>0</td>\n",
       "    </tr>\n",
       "  </tbody>\n",
       "</table>\n",
       "<p>5087 rows × 10 columns</p>\n",
       "</div>"
      ],
      "text/plain": [
       "      gender   age hypertension heart_disease  ever_married      work_type  \\\n",
       "0          1  67.0            0             1             1        Private   \n",
       "1          0  61.0            0             0             1  Self-employed   \n",
       "2          1  80.0            0             1             1        Private   \n",
       "3          0  49.0            0             0             1        Private   \n",
       "4          0  79.0            1             0             1  Self-employed   \n",
       "...      ...   ...          ...           ...           ...            ...   \n",
       "5105       0  80.0            1             0             1        Private   \n",
       "5106       0  81.0            0             0             1  Self-employed   \n",
       "5107       0  35.0            0             0             1  Self-employed   \n",
       "5108       1  51.0            0             0             1        Private   \n",
       "5109       0  44.0            0             0             1       Govt_job   \n",
       "\n",
       "      Residence_type  avg_glucose_level   bmi stroke  \n",
       "0                  1             228.69  36.6      1  \n",
       "1                  0             202.21  28.3      1  \n",
       "2                  0             105.92  32.5      1  \n",
       "3                  1             171.23  34.4      1  \n",
       "4                  0             174.12  24.0      1  \n",
       "...              ...                ...   ...    ...  \n",
       "5105               1              83.75  28.3      0  \n",
       "5106               1             125.20  40.0      0  \n",
       "5107               0              82.99  30.6      0  \n",
       "5108               0             166.29  25.6      0  \n",
       "5109               1              85.28  26.2      0  \n",
       "\n",
       "[5087 rows x 10 columns]"
      ]
     },
     "execution_count": 63,
     "metadata": {},
     "output_type": "execute_result"
    }
   ],
   "source": [
    "from sklearn.preprocessing import LabelEncoder\n",
    "label_encoder = LabelEncoder()\n",
    "\n",
    "catindex = [0,4,6] # gender, ever_married, Residence_type\n",
    "for x in catindex: \n",
    "    mldata.iloc[:,x] = label_encoder.fit_transform(mldata.iloc[:,x])\n",
    "    mldata.iloc[:,x]\n",
    "mldata"
   ]
  },
  {
   "cell_type": "markdown",
   "id": "6856b4ae",
   "metadata": {},
   "source": [
    "`work_type` however consists of `4` categories and needs to be one-hot encoded. This will only add `3` new columns to our DataFrame for a total of `12` predictors and `1` response variable. "
   ]
  },
  {
   "cell_type": "code",
   "execution_count": 64,
   "id": "73189f17",
   "metadata": {},
   "outputs": [
    {
     "data": {
      "text/html": [
       "<div>\n",
       "<style scoped>\n",
       "    .dataframe tbody tr th:only-of-type {\n",
       "        vertical-align: middle;\n",
       "    }\n",
       "\n",
       "    .dataframe tbody tr th {\n",
       "        vertical-align: top;\n",
       "    }\n",
       "\n",
       "    .dataframe thead th {\n",
       "        text-align: right;\n",
       "    }\n",
       "</style>\n",
       "<table border=\"1\" class=\"dataframe\">\n",
       "  <thead>\n",
       "    <tr style=\"text-align: right;\">\n",
       "      <th></th>\n",
       "      <th>gender</th>\n",
       "      <th>age</th>\n",
       "      <th>hypertension</th>\n",
       "      <th>heart_disease</th>\n",
       "      <th>ever_married</th>\n",
       "      <th>Residence_type</th>\n",
       "      <th>avg_glucose_level</th>\n",
       "      <th>bmi</th>\n",
       "      <th>stroke</th>\n",
       "      <th>work_type__Govt_job</th>\n",
       "      <th>work_type__Private</th>\n",
       "      <th>work_type__Self-employed</th>\n",
       "      <th>work_type__children</th>\n",
       "    </tr>\n",
       "  </thead>\n",
       "  <tbody>\n",
       "    <tr>\n",
       "      <th>0</th>\n",
       "      <td>1</td>\n",
       "      <td>67.0</td>\n",
       "      <td>0</td>\n",
       "      <td>1</td>\n",
       "      <td>1</td>\n",
       "      <td>1</td>\n",
       "      <td>228.69</td>\n",
       "      <td>36.6</td>\n",
       "      <td>1</td>\n",
       "      <td>0</td>\n",
       "      <td>1</td>\n",
       "      <td>0</td>\n",
       "      <td>0</td>\n",
       "    </tr>\n",
       "    <tr>\n",
       "      <th>1</th>\n",
       "      <td>0</td>\n",
       "      <td>61.0</td>\n",
       "      <td>0</td>\n",
       "      <td>0</td>\n",
       "      <td>1</td>\n",
       "      <td>0</td>\n",
       "      <td>202.21</td>\n",
       "      <td>28.3</td>\n",
       "      <td>1</td>\n",
       "      <td>0</td>\n",
       "      <td>0</td>\n",
       "      <td>1</td>\n",
       "      <td>0</td>\n",
       "    </tr>\n",
       "    <tr>\n",
       "      <th>2</th>\n",
       "      <td>1</td>\n",
       "      <td>80.0</td>\n",
       "      <td>0</td>\n",
       "      <td>1</td>\n",
       "      <td>1</td>\n",
       "      <td>0</td>\n",
       "      <td>105.92</td>\n",
       "      <td>32.5</td>\n",
       "      <td>1</td>\n",
       "      <td>0</td>\n",
       "      <td>1</td>\n",
       "      <td>0</td>\n",
       "      <td>0</td>\n",
       "    </tr>\n",
       "    <tr>\n",
       "      <th>3</th>\n",
       "      <td>0</td>\n",
       "      <td>49.0</td>\n",
       "      <td>0</td>\n",
       "      <td>0</td>\n",
       "      <td>1</td>\n",
       "      <td>1</td>\n",
       "      <td>171.23</td>\n",
       "      <td>34.4</td>\n",
       "      <td>1</td>\n",
       "      <td>0</td>\n",
       "      <td>1</td>\n",
       "      <td>0</td>\n",
       "      <td>0</td>\n",
       "    </tr>\n",
       "    <tr>\n",
       "      <th>4</th>\n",
       "      <td>0</td>\n",
       "      <td>79.0</td>\n",
       "      <td>1</td>\n",
       "      <td>0</td>\n",
       "      <td>1</td>\n",
       "      <td>0</td>\n",
       "      <td>174.12</td>\n",
       "      <td>24.0</td>\n",
       "      <td>1</td>\n",
       "      <td>0</td>\n",
       "      <td>0</td>\n",
       "      <td>1</td>\n",
       "      <td>0</td>\n",
       "    </tr>\n",
       "    <tr>\n",
       "      <th>...</th>\n",
       "      <td>...</td>\n",
       "      <td>...</td>\n",
       "      <td>...</td>\n",
       "      <td>...</td>\n",
       "      <td>...</td>\n",
       "      <td>...</td>\n",
       "      <td>...</td>\n",
       "      <td>...</td>\n",
       "      <td>...</td>\n",
       "      <td>...</td>\n",
       "      <td>...</td>\n",
       "      <td>...</td>\n",
       "      <td>...</td>\n",
       "    </tr>\n",
       "    <tr>\n",
       "      <th>5105</th>\n",
       "      <td>0</td>\n",
       "      <td>80.0</td>\n",
       "      <td>1</td>\n",
       "      <td>0</td>\n",
       "      <td>1</td>\n",
       "      <td>1</td>\n",
       "      <td>83.75</td>\n",
       "      <td>28.3</td>\n",
       "      <td>0</td>\n",
       "      <td>0</td>\n",
       "      <td>1</td>\n",
       "      <td>0</td>\n",
       "      <td>0</td>\n",
       "    </tr>\n",
       "    <tr>\n",
       "      <th>5106</th>\n",
       "      <td>0</td>\n",
       "      <td>81.0</td>\n",
       "      <td>0</td>\n",
       "      <td>0</td>\n",
       "      <td>1</td>\n",
       "      <td>1</td>\n",
       "      <td>125.20</td>\n",
       "      <td>40.0</td>\n",
       "      <td>0</td>\n",
       "      <td>0</td>\n",
       "      <td>0</td>\n",
       "      <td>1</td>\n",
       "      <td>0</td>\n",
       "    </tr>\n",
       "    <tr>\n",
       "      <th>5107</th>\n",
       "      <td>0</td>\n",
       "      <td>35.0</td>\n",
       "      <td>0</td>\n",
       "      <td>0</td>\n",
       "      <td>1</td>\n",
       "      <td>0</td>\n",
       "      <td>82.99</td>\n",
       "      <td>30.6</td>\n",
       "      <td>0</td>\n",
       "      <td>0</td>\n",
       "      <td>0</td>\n",
       "      <td>1</td>\n",
       "      <td>0</td>\n",
       "    </tr>\n",
       "    <tr>\n",
       "      <th>5108</th>\n",
       "      <td>1</td>\n",
       "      <td>51.0</td>\n",
       "      <td>0</td>\n",
       "      <td>0</td>\n",
       "      <td>1</td>\n",
       "      <td>0</td>\n",
       "      <td>166.29</td>\n",
       "      <td>25.6</td>\n",
       "      <td>0</td>\n",
       "      <td>0</td>\n",
       "      <td>1</td>\n",
       "      <td>0</td>\n",
       "      <td>0</td>\n",
       "    </tr>\n",
       "    <tr>\n",
       "      <th>5109</th>\n",
       "      <td>0</td>\n",
       "      <td>44.0</td>\n",
       "      <td>0</td>\n",
       "      <td>0</td>\n",
       "      <td>1</td>\n",
       "      <td>1</td>\n",
       "      <td>85.28</td>\n",
       "      <td>26.2</td>\n",
       "      <td>0</td>\n",
       "      <td>1</td>\n",
       "      <td>0</td>\n",
       "      <td>0</td>\n",
       "      <td>0</td>\n",
       "    </tr>\n",
       "  </tbody>\n",
       "</table>\n",
       "<p>5087 rows × 13 columns</p>\n",
       "</div>"
      ],
      "text/plain": [
       "      gender   age hypertension heart_disease  ever_married  Residence_type  \\\n",
       "0          1  67.0            0             1             1               1   \n",
       "1          0  61.0            0             0             1               0   \n",
       "2          1  80.0            0             1             1               0   \n",
       "3          0  49.0            0             0             1               1   \n",
       "4          0  79.0            1             0             1               0   \n",
       "...      ...   ...          ...           ...           ...             ...   \n",
       "5105       0  80.0            1             0             1               1   \n",
       "5106       0  81.0            0             0             1               1   \n",
       "5107       0  35.0            0             0             1               0   \n",
       "5108       1  51.0            0             0             1               0   \n",
       "5109       0  44.0            0             0             1               1   \n",
       "\n",
       "      avg_glucose_level   bmi stroke  work_type__Govt_job  work_type__Private  \\\n",
       "0                228.69  36.6      1                    0                   1   \n",
       "1                202.21  28.3      1                    0                   0   \n",
       "2                105.92  32.5      1                    0                   1   \n",
       "3                171.23  34.4      1                    0                   1   \n",
       "4                174.12  24.0      1                    0                   0   \n",
       "...                 ...   ...    ...                  ...                 ...   \n",
       "5105              83.75  28.3      0                    0                   1   \n",
       "5106             125.20  40.0      0                    0                   0   \n",
       "5107              82.99  30.6      0                    0                   0   \n",
       "5108             166.29  25.6      0                    0                   1   \n",
       "5109              85.28  26.2      0                    1                   0   \n",
       "\n",
       "      work_type__Self-employed  work_type__children  \n",
       "0                            0                    0  \n",
       "1                            1                    0  \n",
       "2                            0                    0  \n",
       "3                            0                    0  \n",
       "4                            1                    0  \n",
       "...                        ...                  ...  \n",
       "5105                         0                    0  \n",
       "5106                         1                    0  \n",
       "5107                         1                    0  \n",
       "5108                         0                    0  \n",
       "5109                         0                    0  \n",
       "\n",
       "[5087 rows x 13 columns]"
      ]
     },
     "execution_count": 64,
     "metadata": {},
     "output_type": "execute_result"
    }
   ],
   "source": [
    "dummies = pd.get_dummies(mldata['work_type'],prefix=\"work_type_\")\n",
    "mldata = pd.concat([mldata,dummies], axis=1).drop(['work_type'],axis=1)\n",
    "mldata"
   ]
  },
  {
   "cell_type": "code",
   "execution_count": null,
   "id": "4d802fdd",
   "metadata": {},
   "outputs": [],
   "source": []
  },
  {
   "cell_type": "code",
   "execution_count": 65,
   "id": "4df32802",
   "metadata": {},
   "outputs": [],
   "source": [
    "mldata.to_csv('mldata.csv',index=False)"
   ]
  }
 ],
 "metadata": {
  "kernelspec": {
   "display_name": "Python 3 (ipykernel)",
   "language": "python",
   "name": "python3"
  },
  "language_info": {
   "codemirror_mode": {
    "name": "ipython",
    "version": 3
   },
   "file_extension": ".py",
   "mimetype": "text/x-python",
   "name": "python",
   "nbconvert_exporter": "python",
   "pygments_lexer": "ipython3",
   "version": "3.9.7"
  }
 },
 "nbformat": 4,
 "nbformat_minor": 5
}
