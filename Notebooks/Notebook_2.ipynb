{
 "cells": [
  {
   "cell_type": "markdown",
   "id": "301e71d2",
   "metadata": {},
   "source": [
    "# SC1015 Project Notebook 2\n",
    "\n",
    "* [Importing Libraries and Dataset](#Importing-Libraries-and-Dataset)\n",
    "* [Anomaly Detection with Isolation Forest](#Anomaly-Detection-with-Isolation-Forest)\n",
    "    * [Running Isolation Forest on stroke alone](#if_alone)\n",
    "    * [Running Isolation Forest on the entire dataset](#Running-Isolation-Forest-on-the-entire-dataset)\n",
    "        * [1) Contamination 0.05](#c_05)\n",
    "        * [2) Contamination 0.10](#c_10)\n",
    "        * [3) Contamination 'auto'](#c_auto)\n",
    "    * [Analysing the Results](#Analysing-the-Results)\n",
    "        * [A) Looking at anomaly scores](#scores)\n",
    "        * [B) Testing various anomaly score cutoffs](#cutoffs)\n",
    "        * [C) Looking at the spread of anomaly scores](#spread)\n",
    "* [Conclusion](#Conclusion)"
   ]
  },
  {
   "cell_type": "markdown",
   "id": "c54cebe8",
   "metadata": {},
   "source": [
    "---\n",
    "#### Importing Libraries and Dataset"
   ]
  },
  {
   "cell_type": "code",
   "execution_count": 1,
   "id": "69ace31d",
   "metadata": {},
   "outputs": [],
   "source": [
    "import numpy as np\n",
    "import pandas as pd"
   ]
  },
  {
   "cell_type": "code",
   "execution_count": 2,
   "id": "ebd23e2d",
   "metadata": {},
   "outputs": [],
   "source": [
    "import seaborn as sb\n",
    "sb.set()\n",
    "import matplotlib.pyplot as plt "
   ]
  },
  {
   "cell_type": "code",
   "execution_count": 3,
   "id": "b3ccc912",
   "metadata": {},
   "outputs": [],
   "source": [
    "# helper function to print markdown from python\n",
    "from IPython.display import Markdown, display\n",
    "def printmd(string):\n",
    "    display(Markdown('&nbsp;' + string.replace('\\n','<br>')))"
   ]
  },
  {
   "cell_type": "code",
   "execution_count": 4,
   "id": "daf31a0c",
   "metadata": {},
   "outputs": [
    {
     "data": {
      "text/html": [
       "<div>\n",
       "<style scoped>\n",
       "    .dataframe tbody tr th:only-of-type {\n",
       "        vertical-align: middle;\n",
       "    }\n",
       "\n",
       "    .dataframe tbody tr th {\n",
       "        vertical-align: top;\n",
       "    }\n",
       "\n",
       "    .dataframe thead th {\n",
       "        text-align: right;\n",
       "    }\n",
       "</style>\n",
       "<table border=\"1\" class=\"dataframe\">\n",
       "  <thead>\n",
       "    <tr style=\"text-align: right;\">\n",
       "      <th></th>\n",
       "      <th>gender</th>\n",
       "      <th>age</th>\n",
       "      <th>hypertension</th>\n",
       "      <th>heart_disease</th>\n",
       "      <th>ever_married</th>\n",
       "      <th>Residence_type</th>\n",
       "      <th>avg_glucose_level</th>\n",
       "      <th>bmi</th>\n",
       "      <th>stroke</th>\n",
       "      <th>work_type__Govt_job</th>\n",
       "      <th>work_type__Private</th>\n",
       "      <th>work_type__Self-employed</th>\n",
       "      <th>work_type__children</th>\n",
       "    </tr>\n",
       "  </thead>\n",
       "  <tbody>\n",
       "    <tr>\n",
       "      <th>0</th>\n",
       "      <td>1</td>\n",
       "      <td>67.0</td>\n",
       "      <td>0</td>\n",
       "      <td>1</td>\n",
       "      <td>1</td>\n",
       "      <td>1</td>\n",
       "      <td>228.69</td>\n",
       "      <td>36.6</td>\n",
       "      <td>1</td>\n",
       "      <td>0</td>\n",
       "      <td>1</td>\n",
       "      <td>0</td>\n",
       "      <td>0</td>\n",
       "    </tr>\n",
       "    <tr>\n",
       "      <th>1</th>\n",
       "      <td>0</td>\n",
       "      <td>61.0</td>\n",
       "      <td>0</td>\n",
       "      <td>0</td>\n",
       "      <td>1</td>\n",
       "      <td>0</td>\n",
       "      <td>202.21</td>\n",
       "      <td>28.3</td>\n",
       "      <td>1</td>\n",
       "      <td>0</td>\n",
       "      <td>0</td>\n",
       "      <td>1</td>\n",
       "      <td>0</td>\n",
       "    </tr>\n",
       "    <tr>\n",
       "      <th>2</th>\n",
       "      <td>1</td>\n",
       "      <td>80.0</td>\n",
       "      <td>0</td>\n",
       "      <td>1</td>\n",
       "      <td>1</td>\n",
       "      <td>0</td>\n",
       "      <td>105.92</td>\n",
       "      <td>32.5</td>\n",
       "      <td>1</td>\n",
       "      <td>0</td>\n",
       "      <td>1</td>\n",
       "      <td>0</td>\n",
       "      <td>0</td>\n",
       "    </tr>\n",
       "    <tr>\n",
       "      <th>3</th>\n",
       "      <td>0</td>\n",
       "      <td>49.0</td>\n",
       "      <td>0</td>\n",
       "      <td>0</td>\n",
       "      <td>1</td>\n",
       "      <td>1</td>\n",
       "      <td>171.23</td>\n",
       "      <td>34.4</td>\n",
       "      <td>1</td>\n",
       "      <td>0</td>\n",
       "      <td>1</td>\n",
       "      <td>0</td>\n",
       "      <td>0</td>\n",
       "    </tr>\n",
       "    <tr>\n",
       "      <th>4</th>\n",
       "      <td>0</td>\n",
       "      <td>79.0</td>\n",
       "      <td>1</td>\n",
       "      <td>0</td>\n",
       "      <td>1</td>\n",
       "      <td>0</td>\n",
       "      <td>174.12</td>\n",
       "      <td>24.0</td>\n",
       "      <td>1</td>\n",
       "      <td>0</td>\n",
       "      <td>0</td>\n",
       "      <td>1</td>\n",
       "      <td>0</td>\n",
       "    </tr>\n",
       "    <tr>\n",
       "      <th>...</th>\n",
       "      <td>...</td>\n",
       "      <td>...</td>\n",
       "      <td>...</td>\n",
       "      <td>...</td>\n",
       "      <td>...</td>\n",
       "      <td>...</td>\n",
       "      <td>...</td>\n",
       "      <td>...</td>\n",
       "      <td>...</td>\n",
       "      <td>...</td>\n",
       "      <td>...</td>\n",
       "      <td>...</td>\n",
       "      <td>...</td>\n",
       "    </tr>\n",
       "    <tr>\n",
       "      <th>5082</th>\n",
       "      <td>0</td>\n",
       "      <td>80.0</td>\n",
       "      <td>1</td>\n",
       "      <td>0</td>\n",
       "      <td>1</td>\n",
       "      <td>1</td>\n",
       "      <td>83.75</td>\n",
       "      <td>28.3</td>\n",
       "      <td>0</td>\n",
       "      <td>0</td>\n",
       "      <td>1</td>\n",
       "      <td>0</td>\n",
       "      <td>0</td>\n",
       "    </tr>\n",
       "    <tr>\n",
       "      <th>5083</th>\n",
       "      <td>0</td>\n",
       "      <td>81.0</td>\n",
       "      <td>0</td>\n",
       "      <td>0</td>\n",
       "      <td>1</td>\n",
       "      <td>1</td>\n",
       "      <td>125.20</td>\n",
       "      <td>40.0</td>\n",
       "      <td>0</td>\n",
       "      <td>0</td>\n",
       "      <td>0</td>\n",
       "      <td>1</td>\n",
       "      <td>0</td>\n",
       "    </tr>\n",
       "    <tr>\n",
       "      <th>5084</th>\n",
       "      <td>0</td>\n",
       "      <td>35.0</td>\n",
       "      <td>0</td>\n",
       "      <td>0</td>\n",
       "      <td>1</td>\n",
       "      <td>0</td>\n",
       "      <td>82.99</td>\n",
       "      <td>30.6</td>\n",
       "      <td>0</td>\n",
       "      <td>0</td>\n",
       "      <td>0</td>\n",
       "      <td>1</td>\n",
       "      <td>0</td>\n",
       "    </tr>\n",
       "    <tr>\n",
       "      <th>5085</th>\n",
       "      <td>1</td>\n",
       "      <td>51.0</td>\n",
       "      <td>0</td>\n",
       "      <td>0</td>\n",
       "      <td>1</td>\n",
       "      <td>0</td>\n",
       "      <td>166.29</td>\n",
       "      <td>25.6</td>\n",
       "      <td>0</td>\n",
       "      <td>0</td>\n",
       "      <td>1</td>\n",
       "      <td>0</td>\n",
       "      <td>0</td>\n",
       "    </tr>\n",
       "    <tr>\n",
       "      <th>5086</th>\n",
       "      <td>0</td>\n",
       "      <td>44.0</td>\n",
       "      <td>0</td>\n",
       "      <td>0</td>\n",
       "      <td>1</td>\n",
       "      <td>1</td>\n",
       "      <td>85.28</td>\n",
       "      <td>26.2</td>\n",
       "      <td>0</td>\n",
       "      <td>1</td>\n",
       "      <td>0</td>\n",
       "      <td>0</td>\n",
       "      <td>0</td>\n",
       "    </tr>\n",
       "  </tbody>\n",
       "</table>\n",
       "<p>5087 rows × 13 columns</p>\n",
       "</div>"
      ],
      "text/plain": [
       "      gender   age  hypertension  heart_disease  ever_married  Residence_type  \\\n",
       "0          1  67.0             0              1             1               1   \n",
       "1          0  61.0             0              0             1               0   \n",
       "2          1  80.0             0              1             1               0   \n",
       "3          0  49.0             0              0             1               1   \n",
       "4          0  79.0             1              0             1               0   \n",
       "...      ...   ...           ...            ...           ...             ...   \n",
       "5082       0  80.0             1              0             1               1   \n",
       "5083       0  81.0             0              0             1               1   \n",
       "5084       0  35.0             0              0             1               0   \n",
       "5085       1  51.0             0              0             1               0   \n",
       "5086       0  44.0             0              0             1               1   \n",
       "\n",
       "      avg_glucose_level   bmi  stroke  work_type__Govt_job  \\\n",
       "0                228.69  36.6       1                    0   \n",
       "1                202.21  28.3       1                    0   \n",
       "2                105.92  32.5       1                    0   \n",
       "3                171.23  34.4       1                    0   \n",
       "4                174.12  24.0       1                    0   \n",
       "...                 ...   ...     ...                  ...   \n",
       "5082              83.75  28.3       0                    0   \n",
       "5083             125.20  40.0       0                    0   \n",
       "5084              82.99  30.6       0                    0   \n",
       "5085             166.29  25.6       0                    0   \n",
       "5086              85.28  26.2       0                    1   \n",
       "\n",
       "      work_type__Private  work_type__Self-employed  work_type__children  \n",
       "0                      1                         0                    0  \n",
       "1                      0                         1                    0  \n",
       "2                      1                         0                    0  \n",
       "3                      1                         0                    0  \n",
       "4                      0                         1                    0  \n",
       "...                  ...                       ...                  ...  \n",
       "5082                   1                         0                    0  \n",
       "5083                   0                         1                    0  \n",
       "5084                   0                         1                    0  \n",
       "5085                   1                         0                    0  \n",
       "5086                   0                         0                    0  \n",
       "\n",
       "[5087 rows x 13 columns]"
      ]
     },
     "execution_count": 4,
     "metadata": {},
     "output_type": "execute_result"
    }
   ],
   "source": [
    "mldata = pd.read_csv('mldata.csv')\n",
    "mldata"
   ]
  },
  {
   "cell_type": "markdown",
   "id": "247033be",
   "metadata": {},
   "source": [
    "---\n",
    "## Anomaly Detection with Isolation Forest \n",
    "\n",
    "The *unsupervised* **`Isolation Forest`** Machine Learning Model can be used to detect anomalies efficiently. It is based on the Random Forest Model, whereby a forest of random decision trees is generated and grown randomly. At each node, the model will select a feature to make a split, just like regular decision trees. The data continues to split until a lot of leaf nodes are generated. After this, the idea that anomalies are far away from other data points and can be isolated in fewer steps (shallow branches) is used to identify anomalies.\n",
    "\n",
    "---\n",
    "### Running Isolation Forest on `stroke` alone <a id='if_alone'></a>"
   ]
  },
  {
   "cell_type": "code",
   "execution_count": 5,
   "id": "70daf4b0",
   "metadata": {},
   "outputs": [],
   "source": [
    "from sklearn.ensemble import IsolationForest"
   ]
  },
  {
   "cell_type": "code",
   "execution_count": 6,
   "id": "1a886318",
   "metadata": {},
   "outputs": [
    {
     "name": "stdout",
     "output_type": "stream",
     "text": [
      "{'bootstrap': False, 'contamination': 'auto', 'max_features': 1.0, 'max_samples': 'auto', 'n_estimators': 100, 'n_jobs': None, 'random_state': 1, 'verbose': 0, 'warm_start': False}\n"
     ]
    }
   ],
   "source": [
    "# Fit Isolation Forest on stroke\n",
    "model=IsolationForest(random_state=1)\n",
    "model.fit(mldata[['stroke']])\n",
    "print(model.get_params())"
   ]
  },
  {
   "cell_type": "code",
   "execution_count": 7,
   "id": "646a7ea1",
   "metadata": {},
   "outputs": [
    {
     "data": {
      "text/html": [
       "<div>\n",
       "<style scoped>\n",
       "    .dataframe tbody tr th:only-of-type {\n",
       "        vertical-align: middle;\n",
       "    }\n",
       "\n",
       "    .dataframe tbody tr th {\n",
       "        vertical-align: top;\n",
       "    }\n",
       "\n",
       "    .dataframe thead th {\n",
       "        text-align: right;\n",
       "    }\n",
       "</style>\n",
       "<table border=\"1\" class=\"dataframe\">\n",
       "  <thead>\n",
       "    <tr style=\"text-align: right;\">\n",
       "      <th></th>\n",
       "      <th>gender</th>\n",
       "      <th>age</th>\n",
       "      <th>hypertension</th>\n",
       "      <th>heart_disease</th>\n",
       "      <th>ever_married</th>\n",
       "      <th>Residence_type</th>\n",
       "      <th>avg_glucose_level</th>\n",
       "      <th>bmi</th>\n",
       "      <th>stroke</th>\n",
       "      <th>work_type__Govt_job</th>\n",
       "      <th>work_type__Private</th>\n",
       "      <th>work_type__Self-employed</th>\n",
       "      <th>work_type__children</th>\n",
       "      <th>is_anomaly</th>\n",
       "    </tr>\n",
       "  </thead>\n",
       "  <tbody>\n",
       "    <tr>\n",
       "      <th>0</th>\n",
       "      <td>1</td>\n",
       "      <td>67.0</td>\n",
       "      <td>0</td>\n",
       "      <td>1</td>\n",
       "      <td>1</td>\n",
       "      <td>1</td>\n",
       "      <td>228.69</td>\n",
       "      <td>36.6</td>\n",
       "      <td>1</td>\n",
       "      <td>0</td>\n",
       "      <td>1</td>\n",
       "      <td>0</td>\n",
       "      <td>0</td>\n",
       "      <td>1</td>\n",
       "    </tr>\n",
       "    <tr>\n",
       "      <th>1</th>\n",
       "      <td>0</td>\n",
       "      <td>61.0</td>\n",
       "      <td>0</td>\n",
       "      <td>0</td>\n",
       "      <td>1</td>\n",
       "      <td>0</td>\n",
       "      <td>202.21</td>\n",
       "      <td>28.3</td>\n",
       "      <td>1</td>\n",
       "      <td>0</td>\n",
       "      <td>0</td>\n",
       "      <td>1</td>\n",
       "      <td>0</td>\n",
       "      <td>1</td>\n",
       "    </tr>\n",
       "    <tr>\n",
       "      <th>2</th>\n",
       "      <td>1</td>\n",
       "      <td>80.0</td>\n",
       "      <td>0</td>\n",
       "      <td>1</td>\n",
       "      <td>1</td>\n",
       "      <td>0</td>\n",
       "      <td>105.92</td>\n",
       "      <td>32.5</td>\n",
       "      <td>1</td>\n",
       "      <td>0</td>\n",
       "      <td>1</td>\n",
       "      <td>0</td>\n",
       "      <td>0</td>\n",
       "      <td>1</td>\n",
       "    </tr>\n",
       "    <tr>\n",
       "      <th>3</th>\n",
       "      <td>0</td>\n",
       "      <td>49.0</td>\n",
       "      <td>0</td>\n",
       "      <td>0</td>\n",
       "      <td>1</td>\n",
       "      <td>1</td>\n",
       "      <td>171.23</td>\n",
       "      <td>34.4</td>\n",
       "      <td>1</td>\n",
       "      <td>0</td>\n",
       "      <td>1</td>\n",
       "      <td>0</td>\n",
       "      <td>0</td>\n",
       "      <td>1</td>\n",
       "    </tr>\n",
       "    <tr>\n",
       "      <th>4</th>\n",
       "      <td>0</td>\n",
       "      <td>79.0</td>\n",
       "      <td>1</td>\n",
       "      <td>0</td>\n",
       "      <td>1</td>\n",
       "      <td>0</td>\n",
       "      <td>174.12</td>\n",
       "      <td>24.0</td>\n",
       "      <td>1</td>\n",
       "      <td>0</td>\n",
       "      <td>0</td>\n",
       "      <td>1</td>\n",
       "      <td>0</td>\n",
       "      <td>1</td>\n",
       "    </tr>\n",
       "  </tbody>\n",
       "</table>\n",
       "</div>"
      ],
      "text/plain": [
       "   gender   age  hypertension  heart_disease  ever_married  Residence_type  \\\n",
       "0       1  67.0             0              1             1               1   \n",
       "1       0  61.0             0              0             1               0   \n",
       "2       1  80.0             0              1             1               0   \n",
       "3       0  49.0             0              0             1               1   \n",
       "4       0  79.0             1              0             1               0   \n",
       "\n",
       "   avg_glucose_level   bmi  stroke  work_type__Govt_job  work_type__Private  \\\n",
       "0             228.69  36.6       1                    0                   1   \n",
       "1             202.21  28.3       1                    0                   0   \n",
       "2             105.92  32.5       1                    0                   1   \n",
       "3             171.23  34.4       1                    0                   1   \n",
       "4             174.12  24.0       1                    0                   0   \n",
       "\n",
       "   work_type__Self-employed  work_type__children  is_anomaly  \n",
       "0                         0                    0           1  \n",
       "1                         1                    0           1  \n",
       "2                         0                    0           1  \n",
       "3                         0                    0           1  \n",
       "4                         1                    0           1  "
      ]
     },
     "execution_count": 7,
     "metadata": {},
     "output_type": "execute_result"
    }
   ],
   "source": [
    "# Predict the model on stroke and make new DataFrame with the anomaly scores\n",
    "ifdata = mldata.copy()\n",
    "ifdata['is_anomaly'] = model.predict(mldata[['stroke']])\n",
    "ifdata.is_anomaly = ifdata.is_anomaly.map({1:0, -1:1}) # Isolation forest gives 1 for normal and -1 for anomaly. 0, 1 instead is more natural\n",
    "ifdata.head()"
   ]
  },
  {
   "cell_type": "code",
   "execution_count": 8,
   "id": "4811aada",
   "metadata": {},
   "outputs": [
    {
     "data": {
      "text/plain": [
       "0    4838\n",
       "1     249\n",
       "Name: is_anomaly, dtype: int64"
      ]
     },
     "execution_count": 8,
     "metadata": {},
     "output_type": "execute_result"
    }
   ],
   "source": [
    "ifdata.is_anomaly.value_counts()"
   ]
  },
  {
   "cell_type": "markdown",
   "id": "83a12c33",
   "metadata": {},
   "source": [
    "`stroke` has `249` anomalies. We know that there are `249` positive stroke events, but we can still check to confirm."
   ]
  },
  {
   "cell_type": "code",
   "execution_count": 9,
   "id": "db7e995b",
   "metadata": {},
   "outputs": [
    {
     "data": {
      "text/plain": [
       "249"
      ]
     },
     "execution_count": 9,
     "metadata": {},
     "output_type": "execute_result"
    }
   ],
   "source": [
    "len(mldata[(ifdata.is_anomaly == 1) & (ifdata.stroke == 1)])"
   ]
  },
  {
   "cell_type": "markdown",
   "id": "fdbaf377",
   "metadata": {},
   "source": [
    "Running `Isolation Forest` on `stroke` alone revealed that all positive stroke events are indeed anomalies, and this was expected because the percentage of positive `stroke` events is very less (`4.89%`). However, it is definitely not meaningful to run `Isolation Forest` on `stroke` alone since the model will only be using the `stroke` variable on  itself, which would mean all outliers are considered as anomalies. "
   ]
  },
  {
   "cell_type": "markdown",
   "id": "9ad507e5",
   "metadata": {},
   "source": [
    "---\n",
    "### Running Isolation Forest on the entire dataset\n",
    "Instead, we should be running `Isolation Forest` on the entire dataset to get a good model and more robust anomaly identification. `Isolation Forest` is very sensitive to the `contamination` parameter. This parameter tells the model how many `outliers` are there in the dataset. The higher the contamination the more likely it is to categorise data as anomalies.\n",
    "\n",
    "We are going to run this model and evaluate it with **3** different contamination values: <br>\n",
    "1) `0.05` : There are `4.89%` of positive stroke events, so assuming they are all anomalies, we are passing a safe value of `5.00%` <br>\n",
    "2) `0.10`: This was previously the default contamination value and it will be interesting to see how different the model behaves with this value. <br>\n",
    "3) `auto`: This is the current default contamination value."
   ]
  },
  {
   "cell_type": "code",
   "execution_count": 10,
   "id": "e37dda90",
   "metadata": {},
   "outputs": [],
   "source": [
    "def isolation_forest(contamination,random_state):\n",
    "    # Make new copy and run Iforest \n",
    "    ifdata = mldata.copy()\n",
    "    model = IsolationForest(random_state=random_state,contamination=contamination)\n",
    "    model.fit(mldata)\n",
    "    \n",
    "    # Add columns to copied DataFrame\n",
    "    ifdata[\"is_anomaly\"] = pd.Series(model.predict(mldata))\n",
    "    ifdata[\"anomaly_score\"] = pd.Series(abs(model.score_samples(mldata)))    \n",
    "    \n",
    "    # Change Anomaly Mapping (1 -> 0 -> Not An Anomaly, -1 -> 1 -> Is An Anomaly)\n",
    "    ifdata.is_anomaly = ifdata.is_anomaly.map({1: 0, -1: 1})\n",
    "    \n",
    "    # Print overall stats\n",
    "    counts = ifdata.is_anomaly.value_counts()\n",
    "    printmd('**is_anomaly Stats**')\n",
    "    print('Normal -', counts[0])\n",
    "    print('Anomalies -', counts[1])\n",
    "    print('Total Anomaly Percentage - {:.2f}%'.format((counts[1]/len(ifdata.is_anomaly) * 100)))\n",
    "    \n",
    "    printmd('**Barplots**')\n",
    "    fig, (normplot, anomplot, strokeplot) = plt.subplots(3,1,figsize=(6,18))\n",
    "    \n",
    "    # Prepare data for normal values\n",
    "    norm = ifdata[ifdata.is_anomaly==0].stroke.value_counts()\n",
    "    norm_total = norm[0] + norm[1]\n",
    "    norm_percents = [ 100 * norm[0]/norm_total, 100 * norm[1]/norm_total ]\n",
    "\n",
    "    # Draw barplot\n",
    "    sb.barplot(x=['No Stroke', 'Had Stroke'], y=norm_percents, ax=normplot)\n",
    "    normplot.set(ylim=(0, 100))\n",
    "    normplot.set(ylabel=\"Percentage of Total Normal values (%)\")\n",
    "\n",
    "    # Add percentage on top of bar\n",
    "    for x in range(0,2):\n",
    "        normplot.text(x,norm_percents[x] + 1, '{}'.format(norm[x]), color='black', ha=\"center\")\n",
    "\n",
    "    # Prepare data for abnormal values\n",
    "    anom = ifdata[ifdata.is_anomaly==1].stroke.value_counts()\n",
    "    anom_total = anom[0] + anom[1]\n",
    "    anom_percents = [ 100 * anom[0]/anom_total, 100 * anom[1]/anom_total ]\n",
    "\n",
    "    sb.barplot(x=['No Stroke', 'Had Stroke'], y=anom_percents, ax=anomplot)\n",
    "    anomplot.set(ylim=(0, 100))\n",
    "    anomplot.set(ylabel=\"Percentage of Total Anomalies (%)\")\n",
    "\n",
    "    # Add percentage on top of bar\n",
    "    for x in range(0,2):\n",
    "        anomplot.text(x,anom_percents[x] + 1, '{}'.format(anom[x]), color='black', ha=\"center\")\n",
    "    \n",
    "    # Prepare data for abnormal values in context of the stroke variable \n",
    "    stroke_totals = [ norm[0] + anom[0], norm[1] + anom[1] ]\n",
    "    stroke_anom_percents = [ 100 * anom[0]/stroke_totals[0], 100 * anom[1]/stroke_totals[1] ]\n",
    "\n",
    "    sb.barplot(x=['No Stroke', 'Had Stroke'], y=stroke_anom_percents, ax=strokeplot)\n",
    "    strokeplot.set(ylim=(0, 100))\n",
    "    strokeplot.set(ylabel=\"Percentage of Anomalies (%)\")\n",
    "\n",
    "    # Add percentage on top of bar\n",
    "    for x in range(0,2):\n",
    "        strokeplot.text(x,stroke_anom_percents[x] + 1, '{:.2f}%'.format(stroke_anom_percents[x]), color='black', ha=\"center\")\n",
    "    \n",
    "    plt.show()\n",
    "    \n",
    "    return ifdata"
   ]
  },
  {
   "cell_type": "code",
   "execution_count": null,
   "id": "052754e9",
   "metadata": {},
   "outputs": [],
   "source": []
  },
  {
   "cell_type": "code",
   "execution_count": null,
   "id": "a70a5c28",
   "metadata": {},
   "outputs": [],
   "source": []
  },
  {
   "cell_type": "markdown",
   "id": "d533630a",
   "metadata": {},
   "source": [
    "---\n",
    "<a class=\"anchor\" id=\"c_05\"></a>\n",
    "#### 1) Contamination 0.05"
   ]
  },
  {
   "cell_type": "code",
   "execution_count": 11,
   "id": "1a0299cf",
   "metadata": {},
   "outputs": [
    {
     "data": {
      "text/markdown": [
       "&nbsp;**is_anomaly Stats**"
      ],
      "text/plain": [
       "<IPython.core.display.Markdown object>"
      ]
     },
     "metadata": {},
     "output_type": "display_data"
    },
    {
     "name": "stdout",
     "output_type": "stream",
     "text": [
      "Normal - 4832\n",
      "Anomalies - 255\n",
      "Total Anomaly Percentage - 5.01%\n"
     ]
    },
    {
     "data": {
      "text/markdown": [
       "&nbsp;**Barplots**"
      ],
      "text/plain": [
       "<IPython.core.display.Markdown object>"
      ]
     },
     "metadata": {},
     "output_type": "display_data"
    },
    {
     "data": {
      "image/png": "[encoded data removed]",
      "text/plain": [
       "<Figure size 432x1296 with 3 Axes>"
      ]
     },
     "metadata": {},
     "output_type": "display_data"
    }
   ],
   "source": [
    "c_05 = isolation_forest(0.05,17);"
   ]
  },
  {
   "cell_type": "markdown",
   "id": "adfcdb7c",
   "metadata": {},
   "source": [
    "A `contamination` value of `0.05` led to `5.01%` of the data being identified as anomalies. Out of this, `No stroke` accounts for more than half of all anomalies whereas only `118` out of `249` positive stroke events have been identified as anomalies. `No stroke` represents more than `95%` of all normal values whereas the remaining `131` positive stroke events are considered to be normal. In regards to `stroke` however, `2.83%` of all `No Stroke` values are anomalies in comparison to `47.38%` of all stroke events being anomalies.  \n",
    "\n",
    "---\n",
    "<a class=\"anchor\" id=\"c_10\"></a>\n",
    "#### 2) Contamination 0.10"
   ]
  },
  {
   "cell_type": "code",
   "execution_count": 12,
   "id": "a3f378c6",
   "metadata": {},
   "outputs": [
    {
     "data": {
      "text/markdown": [
       "&nbsp;**is_anomaly Stats**"
      ],
      "text/plain": [
       "<IPython.core.display.Markdown object>"
      ]
     },
     "metadata": {},
     "output_type": "display_data"
    },
    {
     "name": "stdout",
     "output_type": "stream",
     "text": [
      "Normal - 4578\n",
      "Anomalies - 509\n",
      "Total Anomaly Percentage - 10.01%\n"
     ]
    },
    {
     "data": {
      "text/markdown": [
       "&nbsp;**Barplots**"
      ],
      "text/plain": [
       "<IPython.core.display.Markdown object>"
      ]
     },
     "metadata": {},
     "output_type": "display_data"
    },
    {
     "data": {
      "image/png": "[encoded data removed]",
      "text/plain": [
       "<Figure size 432x1296 with 3 Axes>"
      ]
     },
     "metadata": {},
     "output_type": "display_data"
    }
   ],
   "source": [
    "c_10 = isolation_forest(0.1,18);"
   ]
  },
  {
   "cell_type": "markdown",
   "id": "5bd724c6",
   "metadata": {},
   "source": [
    "A `contamination` value of `0.10` led to `10.01%` of the data being identified as anomalies. Out of this, `No stroke` accounts for around `70%` of all anomalies whereas only `145` out of `249` positive stroke events have been identified as anomalies. `No stroke` represents a slightly higher amount of all normal values than before whereas the number of positive stroke events considered to be normal has gone down to `104`. In regards to `stroke` however, `7.83%` of all `No Stroke` values are anomalies in comparison to `58.23%` of all stroke events being considered anomalies.  \n",
    "\n",
    "---\n",
    "<a class=\"anchor\" id=\"c_auto\"></a>\n",
    "#### 3) Contamination 'auto'"
   ]
  },
  {
   "cell_type": "code",
   "execution_count": 13,
   "id": "be153b9a",
   "metadata": {},
   "outputs": [
    {
     "data": {
      "text/markdown": [
       "&nbsp;**is_anomaly Stats**"
      ],
      "text/plain": [
       "<IPython.core.display.Markdown object>"
      ]
     },
     "metadata": {},
     "output_type": "display_data"
    },
    {
     "name": "stdout",
     "output_type": "stream",
     "text": [
      "Normal - 2913\n",
      "Anomalies - 2174\n",
      "Total Anomaly Percentage - 42.74%\n"
     ]
    },
    {
     "data": {
      "text/markdown": [
       "&nbsp;**Barplots**"
      ],
      "text/plain": [
       "<IPython.core.display.Markdown object>"
      ]
     },
     "metadata": {},
     "output_type": "display_data"
    },
    {
     "data": {
      "image/png": "[encoded data removed]",
      "text/plain": [
       "<Figure size 432x1296 with 3 Axes>"
      ]
     },
     "metadata": {},
     "output_type": "display_data"
    }
   ],
   "source": [
    "c_auto = isolation_forest('auto',19);"
   ]
  },
  {
   "cell_type": "markdown",
   "id": "224a90ef",
   "metadata": {},
   "source": [
    "A `contamination` value of `auto` led to `42.74%` of the data being identified as anomalies. Out of this, `No stroke` accounts for more than `85%` of all anomalies whereas most of the positive stroke events have now been identified as anomalies. `No stroke` represents a slightly higher amount of all normal values than before whereas the number of positive stroke events considered to be normal has gone down to only `2`. In regards to `stroke` however, `39.83%` of all `No Stroke` values are anomalies in comparison to `99.20%` of all stroke events being considered anomalies.\n",
    "\n",
    "---\n",
    "### Analysing the Results\n",
    "\n",
    "The `contamination` value of `Isolation Forest` helps the model decide how much of the data should be identified as anomalous. As the `contamination` value increased, the total amount of anomalies increased as well, and we saw the percentage of `No stroke` values accounting for total anomalies, as well as the percentage of anomalous `No stroke` values both increase. Similarly, the number of positive stroke values identified as outliers increased too with an increase in contamination. We saw it go from just `118` to more than a double of `247`, accounting for `99.20%` of all positive stroke values being anomalies. \n",
    "\n",
    "But what does it mean for us? Which contamination value is more reliable? To answer that, we must first look at the anomaly scores given to each positive stroke event by `Isolation Forest`\n",
    "\n",
    "-----\n",
    "<a class=\"anchor\" id=\"scores\"></a>\n",
    "#### A) Looking at anomaly scores"
   ]
  },
  {
   "cell_type": "code",
   "execution_count": 14,
   "id": "857a3270",
   "metadata": {},
   "outputs": [],
   "source": [
    "def get_score_list(ifdata):\n",
    "    scorelist = list(ifdata[(ifdata.stroke==1)].anomaly_score)\n",
    "    scorelist = [round(x,2) for x in scorelist] \n",
    "    return sorted(set(scorelist))"
   ]
  },
  {
   "cell_type": "code",
   "execution_count": 15,
   "id": "10b4632e",
   "metadata": {},
   "outputs": [
    {
     "data": {
      "text/markdown": [
       "&nbsp;**Contamination Value 0.05**"
      ],
      "text/plain": [
       "<IPython.core.display.Markdown object>"
      ]
     },
     "metadata": {},
     "output_type": "display_data"
    },
    {
     "name": "stdout",
     "output_type": "stream",
     "text": [
      "[0.51, 0.52, 0.53, 0.54, 0.55, 0.56, 0.57, 0.58, 0.59, 0.6, 0.61, 0.62, 0.63, 0.64, 0.65, 0.66, 0.67, 0.68, 0.7, 0.71, 0.72]\n"
     ]
    }
   ],
   "source": [
    "printmd('**Contamination Value 0.05**')\n",
    "print(get_score_list(c_05))"
   ]
  },
  {
   "cell_type": "code",
   "execution_count": 16,
   "id": "a3e750e6",
   "metadata": {},
   "outputs": [
    {
     "data": {
      "text/markdown": [
       "&nbsp;**Contamination Value 0.10**"
      ],
      "text/plain": [
       "<IPython.core.display.Markdown object>"
      ]
     },
     "metadata": {},
     "output_type": "display_data"
    },
    {
     "name": "stdout",
     "output_type": "stream",
     "text": [
      "[0.5, 0.51, 0.52, 0.53, 0.54, 0.55, 0.56, 0.57, 0.58, 0.59, 0.6, 0.61, 0.62, 0.63, 0.64, 0.65, 0.66, 0.67, 0.68, 0.69, 0.7, 0.71]\n"
     ]
    }
   ],
   "source": [
    "printmd('**Contamination Value 0.10**')\n",
    "print(get_score_list(c_10))"
   ]
  },
  {
   "cell_type": "code",
   "execution_count": 17,
   "id": "5e01ab88",
   "metadata": {},
   "outputs": [
    {
     "data": {
      "text/markdown": [
       "&nbsp;**Contamination Value 'auto'**"
      ],
      "text/plain": [
       "<IPython.core.display.Markdown object>"
      ]
     },
     "metadata": {},
     "output_type": "display_data"
    },
    {
     "name": "stdout",
     "output_type": "stream",
     "text": [
      "[0.5, 0.51, 0.52, 0.53, 0.54, 0.55, 0.56, 0.57, 0.58, 0.59, 0.6, 0.61, 0.62, 0.63, 0.64, 0.65, 0.66, 0.67, 0.68, 0.69, 0.71]\n"
     ]
    }
   ],
   "source": [
    "printmd(\"**Contamination Value 'auto'**\")\n",
    "print(get_score_list(c_auto))"
   ]
  },
  {
   "cell_type": "markdown",
   "id": "ec685999",
   "metadata": {},
   "source": [
    "The set of unique `anomaly` scores is very similar for all `3` contamination values. Most of them lie within the range of `0.5` to `0.7`. The closer a score is to `1`, the more likely it is an anomaly. Scores less than `0.5` are generally considered as normal data values. So it isn't a matter of tuning the `contamination` value, but rather deciding the `score` cutoff. \n",
    "\n",
    "---\n",
    "<a class=\"anchor\" id=\"cutoffs\"></a>\n",
    "#### B) Testing various anomaly score cutoffs\n",
    "Let's take the `ifdata` DataFrame for the first model with `contamination 0.05` last model with `contamination 'auto'` and see how many positive stroke events are considered as anomalies with different `score` cutoffs. "
   ]
  },
  {
   "cell_type": "code",
   "execution_count": 18,
   "id": "e2cc00c4",
   "metadata": {},
   "outputs": [
    {
     "data": {
      "text/markdown": [
       "&nbsp;**Contamination 0.05**"
      ],
      "text/plain": [
       "<IPython.core.display.Markdown object>"
      ]
     },
     "metadata": {},
     "output_type": "display_data"
    },
    {
     "name": "stdout",
     "output_type": "stream",
     "text": [
      "Cutoff 0.5:\t249\n",
      "Cutoff 0.6:\t122\n",
      "Cutoff 0.7:\t4\n"
     ]
    },
    {
     "data": {
      "text/markdown": [
       "&nbsp;**Contamination 'auto'**"
      ],
      "text/plain": [
       "<IPython.core.display.Markdown object>"
      ]
     },
     "metadata": {},
     "output_type": "display_data"
    },
    {
     "name": "stdout",
     "output_type": "stream",
     "text": [
      "Cutoff 0.5:\t247\n",
      "Cutoff 0.6:\t109\n",
      "Cutoff 0.7:\t2\n"
     ]
    }
   ],
   "source": [
    "printmd('**Contamination 0.05**')\n",
    "for cutoff in [ 0.5, 0.6, 0.7 ]:\n",
    "    print(\"Cutoff {}:\\t{}\".format(cutoff,len(c_05[(c_05.stroke==1) & (c_05.anomaly_score > cutoff)])))\n",
    "    \n",
    "printmd(\"**Contamination 'auto'**\")\n",
    "for cutoff in [ 0.5, 0.6, 0.7 ]:\n",
    "    print(\"Cutoff {}:\\t{}\".format(cutoff,len(c_auto[(c_auto.stroke==1) & (c_auto.anomaly_score > cutoff)])))"
   ]
  },
  {
   "cell_type": "markdown",
   "id": "46ba1543",
   "metadata": {},
   "source": [
    "This clearly shows us that the `anomaly scores` aren't affected much by the `contamination` value. It is likely that the cutoff for `contamination 0.05` was more than `0.6`, which is why only `118` stroke events were considered an anomaly in comparison to `contamination 'auto'` which most likely had a cutoff at `0.5`. \n",
    "\n",
    "---\n",
    "<a class=\"anchor\" id=\"spread\"></a>\n",
    "#### C) Looking at the spread of anomaly scores"
   ]
  },
  {
   "cell_type": "code",
   "execution_count": 19,
   "id": "ff854ca6",
   "metadata": {},
   "outputs": [
    {
     "data": {
      "image/png": "[encoded data removed]",
      "text/plain": [
       "<Figure size 432x1296 with 3 Axes>"
      ]
     },
     "metadata": {},
     "output_type": "display_data"
    }
   ],
   "source": [
    "fig, ax = plt.subplots(3,1,figsize=(6,18))\n",
    "sb.histplot(data=pd.DataFrame(c_05[c_05.stroke == 1].anomaly_score),kde=True,ax=ax[0])\n",
    "sb.histplot(data=pd.DataFrame(c_10[c_10.stroke == 1].anomaly_score),kde=True,ax=ax[1])\n",
    "sb.histplot(data=pd.DataFrame(c_auto[c_auto.stroke == 1].anomaly_score),kde=True,ax=ax[2]);"
   ]
  },
  {
   "cell_type": "markdown",
   "id": "fe053e51",
   "metadata": {},
   "source": [
    "These `3` histplots with kde show that even the distribution of `anomaly_score` is very similar across different `contamination` values. "
   ]
  },
  {
   "cell_type": "markdown",
   "id": "fe629105",
   "metadata": {},
   "source": [
    "---\n",
    "### Conclusion"
   ]
  },
  {
   "cell_type": "code",
   "execution_count": 20,
   "id": "4c9995b8",
   "metadata": {},
   "outputs": [
    {
     "data": {
      "text/html": [
       "<div>\n",
       "<style scoped>\n",
       "    .dataframe tbody tr th:only-of-type {\n",
       "        vertical-align: middle;\n",
       "    }\n",
       "\n",
       "    .dataframe tbody tr th {\n",
       "        vertical-align: top;\n",
       "    }\n",
       "\n",
       "    .dataframe thead th {\n",
       "        text-align: right;\n",
       "    }\n",
       "</style>\n",
       "<table border=\"1\" class=\"dataframe\">\n",
       "  <thead>\n",
       "    <tr style=\"text-align: right;\">\n",
       "      <th></th>\n",
       "      <th>anomaly_score</th>\n",
       "    </tr>\n",
       "  </thead>\n",
       "  <tbody>\n",
       "    <tr>\n",
       "      <th>count</th>\n",
       "      <td>249.000000</td>\n",
       "    </tr>\n",
       "    <tr>\n",
       "      <th>mean</th>\n",
       "      <td>0.591057</td>\n",
       "    </tr>\n",
       "    <tr>\n",
       "      <th>std</th>\n",
       "      <td>0.047588</td>\n",
       "    </tr>\n",
       "    <tr>\n",
       "      <th>min</th>\n",
       "      <td>0.497757</td>\n",
       "    </tr>\n",
       "    <tr>\n",
       "      <th>25%</th>\n",
       "      <td>0.551904</td>\n",
       "    </tr>\n",
       "    <tr>\n",
       "      <th>50%</th>\n",
       "      <td>0.589451</td>\n",
       "    </tr>\n",
       "    <tr>\n",
       "      <th>75%</th>\n",
       "      <td>0.631925</td>\n",
       "    </tr>\n",
       "    <tr>\n",
       "      <th>max</th>\n",
       "      <td>0.709460</td>\n",
       "    </tr>\n",
       "  </tbody>\n",
       "</table>\n",
       "</div>"
      ],
      "text/plain": [
       "       anomaly_score\n",
       "count     249.000000\n",
       "mean        0.591057\n",
       "std         0.047588\n",
       "min         0.497757\n",
       "25%         0.551904\n",
       "50%         0.589451\n",
       "75%         0.631925\n",
       "max         0.709460"
      ]
     },
     "metadata": {},
     "output_type": "display_data"
    },
    {
     "data": {
      "text/markdown": [
       "&nbsp;**Median** - 0.5895"
      ],
      "text/plain": [
       "<IPython.core.display.Markdown object>"
      ]
     },
     "metadata": {},
     "output_type": "display_data"
    }
   ],
   "source": [
    "display(pd.DataFrame(c_auto[c_auto.stroke == 1].anomaly_score).describe())\n",
    "printmd('**Median** - {:.4f}'.format(pd.DataFrame(c_auto[c_auto.stroke == 1].anomaly_score).median().values[0]))"
   ]
  },
  {
   "cell_type": "markdown",
   "id": "2bf82ef2",
   "metadata": {},
   "source": [
    "---\n",
    "Along with the previous analysis and a mean and median of around `0.59` and a standard deviation of `0.05`, it is safe to say that having a `stroke` is highly likely to always be an anomaly. However, since most of the data points lie within this range, around an anomaly score of `0.60`, we can still try to run some prediction models to gain more insight into positive `stroke` events. "
   ]
  },
  {
   "cell_type": "code",
   "execution_count": null,
   "id": "801a8ecb",
   "metadata": {},
   "outputs": [],
   "source": []
  }
 ],
 "metadata": {
  "kernelspec": {
   "display_name": "Python 3 (ipykernel)",
   "language": "python",
   "name": "python3"
  },
  "language_info": {
   "codemirror_mode": {
    "name": "ipython",
    "version": 3
   },
   "file_extension": ".py",
   "mimetype": "text/x-python",
   "name": "python",
   "nbconvert_exporter": "python",
   "pygments_lexer": "ipython3",
   "version": "3.9.7"
  }
 },
 "nbformat": 4,
 "nbformat_minor": 5
}
