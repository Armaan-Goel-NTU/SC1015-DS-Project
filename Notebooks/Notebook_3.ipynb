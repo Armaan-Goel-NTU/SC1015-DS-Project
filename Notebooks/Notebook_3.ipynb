{
 "cells": [
  {
   "cell_type": "markdown",
   "id": "ae1bc154",
   "metadata": {},
   "source": [
    "# SC1015 Project Notebook 3\n",
    "\n",
    "* [Importing Libraries and Dataset](#Importing-Libraries-and-Dataset)\n",
    "* [Random Forest](#Random-Forest)\n",
    "    * [Running Simple RandomForest](#Running-Simple-RandomForest)\n",
    "        * [Predicting on Train Data](#simple_train)\n",
    "        * [Predicting on Test Data](#simple_test)\n",
    "    * [Running RandomForest with Larger Hyperparameters](#Running-RandomForest-with-Larger-Hyperparameters)\n",
    "        * [Predicting on Train Data](#larger_train)\n",
    "        * [Predicting on Test Data](#larger_test)\n",
    "    * [Fighting Class Imbalance and Cross-Validating](#Fighting-Class-Imbalance-and-Cross-Validating)\n",
    "        * [Downsampling Negative Stroke Events](#Downsampling-Negative-Stroke-Events)\n",
    "        * [Using RandomizedSearchCV](#Using-RandomizedSearchCV)\n",
    "        * [Predicting with RandomizedSearchCV on Downsampled Test Data](#Predicting-with-RandomizedSearchCV-on-Downsampled-Test-Data)\n",
    "        * [Using GridSearchCV](#Using-GridSearchCV)\n",
    "        * [Predicting with GridSearchCV on Downsampled Test Data](#Predicting-with-GridSearchCV-on-Downsampled-Test-Data)\n",
    "    * [Looking at Feature Importance](#Looking-at-Feature-Importance)\n",
    "* [Logistic Regression](#Logistic-Regression)\n",
    "    * [Simple Logistic Regression](#Simple-Logistic-Regression)\n",
    "    * [Logistic Regression with Cross-Validation on Downsampled Data](#Logistic-Regression-with-Cross-Validation-on-Downsampled-Data)\n",
    "* [Conclusion](#Conclusion)"
   ]
  },
  {
   "cell_type": "markdown",
   "id": "0d238ece",
   "metadata": {},
   "source": [
    "---\n",
    "#### Importing Libraries and Dataset"
   ]
  },
  {
   "cell_type": "code",
   "execution_count": 1,
   "id": "58fd0669",
   "metadata": {},
   "outputs": [],
   "source": [
    "import numpy as np\n",
    "import pandas as pd\n",
    "import scipy.stats as stats"
   ]
  },
  {
   "cell_type": "code",
   "execution_count": 2,
   "id": "37de4536",
   "metadata": {},
   "outputs": [],
   "source": [
    "import seaborn as sb\n",
    "sb.set()\n",
    "\n",
    "import matplotlib.pyplot as plt "
   ]
  },
  {
   "cell_type": "code",
   "execution_count": 3,
   "id": "6820f8af",
   "metadata": {},
   "outputs": [],
   "source": [
    "# helper function to print markdown from python\n",
    "from IPython.display import Markdown, display\n",
    "def printmd(string):\n",
    "    display(Markdown('&nbsp;' + string.replace('\\n','<br>')))"
   ]
  },
  {
   "cell_type": "code",
   "execution_count": 4,
   "id": "7b81a964",
   "metadata": {},
   "outputs": [
    {
     "data": {
      "text/html": [
       "<div>\n",
       "<style scoped>\n",
       "    .dataframe tbody tr th:only-of-type {\n",
       "        vertical-align: middle;\n",
       "    }\n",
       "\n",
       "    .dataframe tbody tr th {\n",
       "        vertical-align: top;\n",
       "    }\n",
       "\n",
       "    .dataframe thead th {\n",
       "        text-align: right;\n",
       "    }\n",
       "</style>\n",
       "<table border=\"1\" class=\"dataframe\">\n",
       "  <thead>\n",
       "    <tr style=\"text-align: right;\">\n",
       "      <th></th>\n",
       "      <th>gender</th>\n",
       "      <th>age</th>\n",
       "      <th>hypertension</th>\n",
       "      <th>heart_disease</th>\n",
       "      <th>ever_married</th>\n",
       "      <th>Residence_type</th>\n",
       "      <th>avg_glucose_level</th>\n",
       "      <th>bmi</th>\n",
       "      <th>stroke</th>\n",
       "      <th>work_type__Govt_job</th>\n",
       "      <th>work_type__Private</th>\n",
       "      <th>work_type__Self-employed</th>\n",
       "      <th>work_type__children</th>\n",
       "    </tr>\n",
       "  </thead>\n",
       "  <tbody>\n",
       "    <tr>\n",
       "      <th>0</th>\n",
       "      <td>1</td>\n",
       "      <td>67.0</td>\n",
       "      <td>0</td>\n",
       "      <td>1</td>\n",
       "      <td>1</td>\n",
       "      <td>1</td>\n",
       "      <td>228.69</td>\n",
       "      <td>36.6</td>\n",
       "      <td>1</td>\n",
       "      <td>0</td>\n",
       "      <td>1</td>\n",
       "      <td>0</td>\n",
       "      <td>0</td>\n",
       "    </tr>\n",
       "    <tr>\n",
       "      <th>1</th>\n",
       "      <td>0</td>\n",
       "      <td>61.0</td>\n",
       "      <td>0</td>\n",
       "      <td>0</td>\n",
       "      <td>1</td>\n",
       "      <td>0</td>\n",
       "      <td>202.21</td>\n",
       "      <td>28.3</td>\n",
       "      <td>1</td>\n",
       "      <td>0</td>\n",
       "      <td>0</td>\n",
       "      <td>1</td>\n",
       "      <td>0</td>\n",
       "    </tr>\n",
       "    <tr>\n",
       "      <th>2</th>\n",
       "      <td>1</td>\n",
       "      <td>80.0</td>\n",
       "      <td>0</td>\n",
       "      <td>1</td>\n",
       "      <td>1</td>\n",
       "      <td>0</td>\n",
       "      <td>105.92</td>\n",
       "      <td>32.5</td>\n",
       "      <td>1</td>\n",
       "      <td>0</td>\n",
       "      <td>1</td>\n",
       "      <td>0</td>\n",
       "      <td>0</td>\n",
       "    </tr>\n",
       "    <tr>\n",
       "      <th>3</th>\n",
       "      <td>0</td>\n",
       "      <td>49.0</td>\n",
       "      <td>0</td>\n",
       "      <td>0</td>\n",
       "      <td>1</td>\n",
       "      <td>1</td>\n",
       "      <td>171.23</td>\n",
       "      <td>34.4</td>\n",
       "      <td>1</td>\n",
       "      <td>0</td>\n",
       "      <td>1</td>\n",
       "      <td>0</td>\n",
       "      <td>0</td>\n",
       "    </tr>\n",
       "    <tr>\n",
       "      <th>4</th>\n",
       "      <td>0</td>\n",
       "      <td>79.0</td>\n",
       "      <td>1</td>\n",
       "      <td>0</td>\n",
       "      <td>1</td>\n",
       "      <td>0</td>\n",
       "      <td>174.12</td>\n",
       "      <td>24.0</td>\n",
       "      <td>1</td>\n",
       "      <td>0</td>\n",
       "      <td>0</td>\n",
       "      <td>1</td>\n",
       "      <td>0</td>\n",
       "    </tr>\n",
       "    <tr>\n",
       "      <th>...</th>\n",
       "      <td>...</td>\n",
       "      <td>...</td>\n",
       "      <td>...</td>\n",
       "      <td>...</td>\n",
       "      <td>...</td>\n",
       "      <td>...</td>\n",
       "      <td>...</td>\n",
       "      <td>...</td>\n",
       "      <td>...</td>\n",
       "      <td>...</td>\n",
       "      <td>...</td>\n",
       "      <td>...</td>\n",
       "      <td>...</td>\n",
       "    </tr>\n",
       "    <tr>\n",
       "      <th>5082</th>\n",
       "      <td>0</td>\n",
       "      <td>80.0</td>\n",
       "      <td>1</td>\n",
       "      <td>0</td>\n",
       "      <td>1</td>\n",
       "      <td>1</td>\n",
       "      <td>83.75</td>\n",
       "      <td>28.3</td>\n",
       "      <td>0</td>\n",
       "      <td>0</td>\n",
       "      <td>1</td>\n",
       "      <td>0</td>\n",
       "      <td>0</td>\n",
       "    </tr>\n",
       "    <tr>\n",
       "      <th>5083</th>\n",
       "      <td>0</td>\n",
       "      <td>81.0</td>\n",
       "      <td>0</td>\n",
       "      <td>0</td>\n",
       "      <td>1</td>\n",
       "      <td>1</td>\n",
       "      <td>125.20</td>\n",
       "      <td>40.0</td>\n",
       "      <td>0</td>\n",
       "      <td>0</td>\n",
       "      <td>0</td>\n",
       "      <td>1</td>\n",
       "      <td>0</td>\n",
       "    </tr>\n",
       "    <tr>\n",
       "      <th>5084</th>\n",
       "      <td>0</td>\n",
       "      <td>35.0</td>\n",
       "      <td>0</td>\n",
       "      <td>0</td>\n",
       "      <td>1</td>\n",
       "      <td>0</td>\n",
       "      <td>82.99</td>\n",
       "      <td>30.6</td>\n",
       "      <td>0</td>\n",
       "      <td>0</td>\n",
       "      <td>0</td>\n",
       "      <td>1</td>\n",
       "      <td>0</td>\n",
       "    </tr>\n",
       "    <tr>\n",
       "      <th>5085</th>\n",
       "      <td>1</td>\n",
       "      <td>51.0</td>\n",
       "      <td>0</td>\n",
       "      <td>0</td>\n",
       "      <td>1</td>\n",
       "      <td>0</td>\n",
       "      <td>166.29</td>\n",
       "      <td>25.6</td>\n",
       "      <td>0</td>\n",
       "      <td>0</td>\n",
       "      <td>1</td>\n",
       "      <td>0</td>\n",
       "      <td>0</td>\n",
       "    </tr>\n",
       "    <tr>\n",
       "      <th>5086</th>\n",
       "      <td>0</td>\n",
       "      <td>44.0</td>\n",
       "      <td>0</td>\n",
       "      <td>0</td>\n",
       "      <td>1</td>\n",
       "      <td>1</td>\n",
       "      <td>85.28</td>\n",
       "      <td>26.2</td>\n",
       "      <td>0</td>\n",
       "      <td>1</td>\n",
       "      <td>0</td>\n",
       "      <td>0</td>\n",
       "      <td>0</td>\n",
       "    </tr>\n",
       "  </tbody>\n",
       "</table>\n",
       "<p>5087 rows × 13 columns</p>\n",
       "</div>"
      ],
      "text/plain": [
       "      gender   age  hypertension  heart_disease  ever_married  Residence_type  \\\n",
       "0          1  67.0             0              1             1               1   \n",
       "1          0  61.0             0              0             1               0   \n",
       "2          1  80.0             0              1             1               0   \n",
       "3          0  49.0             0              0             1               1   \n",
       "4          0  79.0             1              0             1               0   \n",
       "...      ...   ...           ...            ...           ...             ...   \n",
       "5082       0  80.0             1              0             1               1   \n",
       "5083       0  81.0             0              0             1               1   \n",
       "5084       0  35.0             0              0             1               0   \n",
       "5085       1  51.0             0              0             1               0   \n",
       "5086       0  44.0             0              0             1               1   \n",
       "\n",
       "      avg_glucose_level   bmi  stroke  work_type__Govt_job  \\\n",
       "0                228.69  36.6       1                    0   \n",
       "1                202.21  28.3       1                    0   \n",
       "2                105.92  32.5       1                    0   \n",
       "3                171.23  34.4       1                    0   \n",
       "4                174.12  24.0       1                    0   \n",
       "...                 ...   ...     ...                  ...   \n",
       "5082              83.75  28.3       0                    0   \n",
       "5083             125.20  40.0       0                    0   \n",
       "5084              82.99  30.6       0                    0   \n",
       "5085             166.29  25.6       0                    0   \n",
       "5086              85.28  26.2       0                    1   \n",
       "\n",
       "      work_type__Private  work_type__Self-employed  work_type__children  \n",
       "0                      1                         0                    0  \n",
       "1                      0                         1                    0  \n",
       "2                      1                         0                    0  \n",
       "3                      1                         0                    0  \n",
       "4                      0                         1                    0  \n",
       "...                  ...                       ...                  ...  \n",
       "5082                   1                         0                    0  \n",
       "5083                   0                         1                    0  \n",
       "5084                   0                         1                    0  \n",
       "5085                   1                         0                    0  \n",
       "5086                   0                         0                    0  \n",
       "\n",
       "[5087 rows x 13 columns]"
      ]
     },
     "execution_count": 4,
     "metadata": {},
     "output_type": "execute_result"
    }
   ],
   "source": [
    "mldata = pd.read_csv('mldata.csv')\n",
    "mldata"
   ]
  },
  {
   "cell_type": "markdown",
   "id": "2853f5ca",
   "metadata": {},
   "source": [
    "---\n",
    "## Random Forest\n",
    "`Random Forest` is a *Supervised* Machine Learning Algorithm. It builds on decision trees on different samples and takes the majority vote through collaborating learning between multiple trees. We use a classifier because we ultimately want to predict `stroke` which is discrete. The `Isolation Forest` that we saw in the previous notebook was based on this, so let's see what it can tell us about predicting `stroke`. "
   ]
  },
  {
   "cell_type": "code",
   "execution_count": 5,
   "id": "00adb72b",
   "metadata": {},
   "outputs": [],
   "source": [
    "# Import essential models and functions from sklearn\n",
    "from sklearn.model_selection import train_test_split\n",
    "from sklearn.metrics import classification_report\n",
    "from sklearn.ensemble import RandomForestClassifier\n",
    "from sklearn.metrics import confusion_matrix\n",
    "from sklearn.metrics import roc_curve\n",
    "from sklearn.metrics import roc_auc_score"
   ]
  },
  {
   "cell_type": "code",
   "execution_count": 6,
   "id": "a51e51e5",
   "metadata": {},
   "outputs": [],
   "source": [
    "# Utility Function to predict and display accuracy measures\n",
    "def random_forest(rforest,X,y,data_type):\n",
    "    # Predict the Response corresponding to Predictors\n",
    "    y_pred = rforest.predict(X)\n",
    "\n",
    "    # Print the Classification Accuracy\n",
    "    printmd(\"**{} Data**\".format(data_type))\n",
    "    print(\"Accuracy  :\\t\", rforest.score(X, y))\n",
    "    print()\n",
    "\n",
    "    # Print the Accuracy Measures from the Confusion Matrix\n",
    "    cm = confusion_matrix(y, y_pred)\n",
    "    tp = cm[1][1] # True Positives : Good (1) predicted Good (1)\n",
    "    fp = cm[0][1] # False Positives : Bad (0) predicted Good (1)\n",
    "    tn = cm[0][0] # True Negatives : Bad (0) predicted Bad (0)\n",
    "    fn = cm[1][0] # False Negatives : Good (1) predicted Bad (0)\n",
    "\n",
    "    print(\"TPR {} :\\t\".format(data_type), (tp/(tp + fn)))\n",
    "    print(\"TNR {} :\\t\".format(data_type), (tn/(tn + fp)))\n",
    "    print()\n",
    "\n",
    "    print(\"FPR {} :\\t\".format(data_type), (fp/(tn + fp)))\n",
    "    print(\"FNR {} :\\t\".format(data_type), (fn/(tp + fn)))\n",
    "    \n",
    "    # Plot the two-way Confusion Matrix\n",
    "    printmd(\"**Confusion Matrix**\")\n",
    "    sb.heatmap(confusion_matrix(y, y_pred), \n",
    "               annot = True, fmt=\".0f\", annot_kws={\"size\": 18})\n",
    "    plt.show()\n",
    "    \n",
    "    # View the classification report for train data and predictions\n",
    "    printmd(\"**Classification Report**\")\n",
    "    print(classification_report(y, y_pred, zero_division=1))\n",
    "    \n",
    "    if data_type == 'Test':\n",
    "        printmd(\"**AUC-ROC Curve**\")\n",
    "        y_pred_proba = rforest.predict_proba(X)[::,1]\n",
    "        fpr, tpr, _ = roc_curve(y,  y_pred_proba)\n",
    "        auc = roc_auc_score(y, y_pred_proba)\n",
    "        plt.plot(fpr,tpr,label=\"data 1, auc=\"+str(auc))\n",
    "        plt.legend(loc=5)\n",
    "        plt.show()"
   ]
  },
  {
   "cell_type": "code",
   "execution_count": null,
   "id": "0471cf24",
   "metadata": {},
   "outputs": [],
   "source": []
  },
  {
   "cell_type": "markdown",
   "id": "79094c2b",
   "metadata": {},
   "source": [
    "---\n",
    "### Running Simple RandomForest\n",
    "Let's begin by splitting the dataset into train and test"
   ]
  },
  {
   "cell_type": "code",
   "execution_count": 7,
   "id": "cda94927",
   "metadata": {},
   "outputs": [],
   "source": [
    "# Extract Response and Predictors\n",
    "y = pd.DataFrame(mldata['stroke'])\n",
    "X = pd.DataFrame(mldata.drop('stroke', axis = 1))\n",
    "\n",
    "# Split the Dataset into Train and Test\n",
    "X_train, X_test, y_train, y_test = train_test_split(X, y, test_size = 0.25, random_state=1)"
   ]
  },
  {
   "cell_type": "code",
   "execution_count": 8,
   "id": "4c69d77a",
   "metadata": {},
   "outputs": [],
   "source": [
    "# Create the Random Forest object\n",
    "rforest = RandomForestClassifier(max_depth = 4, random_state = 1) # set the maximum depth of each tree\n",
    "\n",
    "# Fit Random Forest on Train Data\n",
    "rforest.fit(X_train, y_train.stroke.values.ravel());"
   ]
  },
  {
   "cell_type": "markdown",
   "id": "20178b0f",
   "metadata": {},
   "source": [
    "---\n",
    "<a id=\"simple_train\"></a>\n",
    "#### Predicting on Train Data"
   ]
  },
  {
   "cell_type": "code",
   "execution_count": 9,
   "id": "a21da5a8",
   "metadata": {},
   "outputs": [
    {
     "data": {
      "text/markdown": [
       "&nbsp;**Train Data**"
      ],
      "text/plain": [
       "<IPython.core.display.Markdown object>"
      ]
     },
     "metadata": {},
     "output_type": "display_data"
    },
    {
     "name": "stdout",
     "output_type": "stream",
     "text": [
      "Accuracy  :\t 0.9536041939711665\n",
      "\n",
      "TPR Train :\t 0.0\n",
      "TNR Train :\t 1.0\n",
      "\n",
      "FPR Train :\t 0.0\n",
      "FNR Train :\t 1.0\n"
     ]
    },
    {
     "data": {
      "text/markdown": [
       "&nbsp;**Confusion Matrix**"
      ],
      "text/plain": [
       "<IPython.core.display.Markdown object>"
      ]
     },
     "metadata": {},
     "output_type": "display_data"
    },
    {
     "data": {
      "image/png": "[encoded data removed]",
      "text/plain": [
       "<Figure size 432x288 with 2 Axes>"
      ]
     },
     "metadata": {},
     "output_type": "display_data"
    },
    {
     "data": {
      "text/markdown": [
       "&nbsp;**Classification Report**"
      ],
      "text/plain": [
       "<IPython.core.display.Markdown object>"
      ]
     },
     "metadata": {},
     "output_type": "display_data"
    },
    {
     "name": "stdout",
     "output_type": "stream",
     "text": [
      "              precision    recall  f1-score   support\n",
      "\n",
      "           0       0.95      1.00      0.98      3638\n",
      "           1       1.00      0.00      0.00       177\n",
      "\n",
      "    accuracy                           0.95      3815\n",
      "   macro avg       0.98      0.50      0.49      3815\n",
      "weighted avg       0.96      0.95      0.93      3815\n",
      "\n"
     ]
    }
   ],
   "source": [
    "random_forest(rforest,X_train,y_train,'Train')"
   ]
  },
  {
   "cell_type": "markdown",
   "id": "1d890031",
   "metadata": {},
   "source": [
    "Running a default `Random Forest Classifier` with `max_depth` `4` gives us a very poor model on the `train` data even though the overall classification accuracy is `0.95`. The `f1-score` for positive is `0` and everything is predicted as `negative` by the model, with the `TPR` being `0`. \n",
    "\n",
    "---\n",
    "<a id=\"simple_test\"></a>\n",
    "#### Predicting on Test Data\n",
    "Let's see how it performs on the `test` data."
   ]
  },
  {
   "cell_type": "code",
   "execution_count": 10,
   "id": "b0125e21",
   "metadata": {},
   "outputs": [
    {
     "data": {
      "text/markdown": [
       "&nbsp;**Test Data**"
      ],
      "text/plain": [
       "<IPython.core.display.Markdown object>"
      ]
     },
     "metadata": {},
     "output_type": "display_data"
    },
    {
     "name": "stdout",
     "output_type": "stream",
     "text": [
      "Accuracy  :\t 0.9433962264150944\n",
      "\n",
      "TPR Test :\t 0.0\n",
      "TNR Test :\t 1.0\n",
      "\n",
      "FPR Test :\t 0.0\n",
      "FNR Test :\t 1.0\n"
     ]
    },
    {
     "data": {
      "text/markdown": [
       "&nbsp;**Confusion Matrix**"
      ],
      "text/plain": [
       "<IPython.core.display.Markdown object>"
      ]
     },
     "metadata": {},
     "output_type": "display_data"
    },
    {
     "data": {
      "image/png": "[encoded data removed]",
      "text/plain": [
       "<Figure size 432x288 with 2 Axes>"
      ]
     },
     "metadata": {},
     "output_type": "display_data"
    },
    {
     "data": {
      "text/markdown": [
       "&nbsp;**Classification Report**"
      ],
      "text/plain": [
       "<IPython.core.display.Markdown object>"
      ]
     },
     "metadata": {},
     "output_type": "display_data"
    },
    {
     "name": "stdout",
     "output_type": "stream",
     "text": [
      "              precision    recall  f1-score   support\n",
      "\n",
      "           0       0.94      1.00      0.97      1200\n",
      "           1       1.00      0.00      0.00        72\n",
      "\n",
      "    accuracy                           0.94      1272\n",
      "   macro avg       0.97      0.50      0.49      1272\n",
      "weighted avg       0.95      0.94      0.92      1272\n",
      "\n"
     ]
    },
    {
     "data": {
      "text/markdown": [
       "&nbsp;**AUC-ROC Curve**"
      ],
      "text/plain": [
       "<IPython.core.display.Markdown object>"
      ]
     },
     "metadata": {},
     "output_type": "display_data"
    },
    {
     "data": {
      "image/png": "[encoded data removed]",
      "text/plain": [
       "<Figure size 432x288 with 1 Axes>"
      ]
     },
     "metadata": {},
     "output_type": "display_data"
    }
   ],
   "source": [
    "random_forest(rforest,X_test,y_test,'Test')"
   ]
  },
  {
   "cell_type": "markdown",
   "id": "e6f3b8d8",
   "metadata": {},
   "source": [
    "The performance on the `test` data is equally as bad as the performance on the `train` data <br>\n",
    "The `AUC-ROC Score` currently stands at `0.85` which is supposed to indicate a good prediction model. However, we know that this is due to the heavy bias towards the majority class of `negative stroke`"
   ]
  },
  {
   "cell_type": "markdown",
   "id": "19aea41a",
   "metadata": {},
   "source": [
    "---\n",
    "### Running RandomForest with Larger Hyperparameters\n",
    "Let's increase some of the basic hyperparameters and see what happens."
   ]
  },
  {
   "cell_type": "code",
   "execution_count": 11,
   "id": "7675bd35",
   "metadata": {},
   "outputs": [],
   "source": [
    "# Create the Random Forest object\n",
    "rforest_new = RandomForestClassifier(n_estimators = 5000, max_depth = 17, random_state = 2) # set the maximum depth of each tree\n",
    "\n",
    "# Fit Random Forest on Train Data\n",
    "rforest_new.fit(X_train, y_train.stroke.values.ravel());"
   ]
  },
  {
   "cell_type": "markdown",
   "id": "e4ba1d1d",
   "metadata": {},
   "source": [
    "---\n",
    "<a id=\"larger_train\"></a>\n",
    "#### Predicting on Train Data"
   ]
  },
  {
   "cell_type": "code",
   "execution_count": 12,
   "id": "8cf20dda",
   "metadata": {},
   "outputs": [
    {
     "data": {
      "text/markdown": [
       "&nbsp;**Train Data**"
      ],
      "text/plain": [
       "<IPython.core.display.Markdown object>"
      ]
     },
     "metadata": {},
     "output_type": "display_data"
    },
    {
     "name": "stdout",
     "output_type": "stream",
     "text": [
      "Accuracy  :\t 1.0\n",
      "\n",
      "TPR Train :\t 1.0\n",
      "TNR Train :\t 1.0\n",
      "\n",
      "FPR Train :\t 0.0\n",
      "FNR Train :\t 0.0\n"
     ]
    },
    {
     "data": {
      "text/markdown": [
       "&nbsp;**Confusion Matrix**"
      ],
      "text/plain": [
       "<IPython.core.display.Markdown object>"
      ]
     },
     "metadata": {},
     "output_type": "display_data"
    },
    {
     "data": {
      "image/png": "[encoded data removed]",
      "text/plain": [
       "<Figure size 432x288 with 2 Axes>"
      ]
     },
     "metadata": {},
     "output_type": "display_data"
    },
    {
     "data": {
      "text/markdown": [
       "&nbsp;**Classification Report**"
      ],
      "text/plain": [
       "<IPython.core.display.Markdown object>"
      ]
     },
     "metadata": {},
     "output_type": "display_data"
    },
    {
     "name": "stdout",
     "output_type": "stream",
     "text": [
      "              precision    recall  f1-score   support\n",
      "\n",
      "           0       1.00      1.00      1.00      3638\n",
      "           1       1.00      1.00      1.00       177\n",
      "\n",
      "    accuracy                           1.00      3815\n",
      "   macro avg       1.00      1.00      1.00      3815\n",
      "weighted avg       1.00      1.00      1.00      3815\n",
      "\n"
     ]
    }
   ],
   "source": [
    "random_forest(rforest_new,X_train,y_train,'Train')"
   ]
  },
  {
   "cell_type": "markdown",
   "id": "ebc310b3",
   "metadata": {},
   "source": [
    "Tuning the parameters seemed to have achieved a perfect prediction of the `train` data. However, it is very likely just overfitting the train data. \n",
    "\n",
    "---\n",
    "<a id=\"larger_test\"></a>\n",
    "#### Predicting on Test Data\n",
    "Let's see how it performs on the `test` data. "
   ]
  },
  {
   "cell_type": "code",
   "execution_count": 13,
   "id": "248fb159",
   "metadata": {},
   "outputs": [
    {
     "data": {
      "text/markdown": [
       "&nbsp;**Test Data**"
      ],
      "text/plain": [
       "<IPython.core.display.Markdown object>"
      ]
     },
     "metadata": {},
     "output_type": "display_data"
    },
    {
     "name": "stdout",
     "output_type": "stream",
     "text": [
      "Accuracy  :\t 0.9426100628930818\n",
      "\n",
      "TPR Test :\t 0.013888888888888888\n",
      "TNR Test :\t 0.9983333333333333\n",
      "\n",
      "FPR Test :\t 0.0016666666666666668\n",
      "FNR Test :\t 0.9861111111111112\n"
     ]
    },
    {
     "data": {
      "text/markdown": [
       "&nbsp;**Confusion Matrix**"
      ],
      "text/plain": [
       "<IPython.core.display.Markdown object>"
      ]
     },
     "metadata": {},
     "output_type": "display_data"
    },
    {
     "data": {
      "image/png": "[encoded data removed]",
      "text/plain": [
       "<Figure size 432x288 with 2 Axes>"
      ]
     },
     "metadata": {},
     "output_type": "display_data"
    },
    {
     "data": {
      "text/markdown": [
       "&nbsp;**Classification Report**"
      ],
      "text/plain": [
       "<IPython.core.display.Markdown object>"
      ]
     },
     "metadata": {},
     "output_type": "display_data"
    },
    {
     "name": "stdout",
     "output_type": "stream",
     "text": [
      "              precision    recall  f1-score   support\n",
      "\n",
      "           0       0.94      1.00      0.97      1200\n",
      "           1       0.33      0.01      0.03        72\n",
      "\n",
      "    accuracy                           0.94      1272\n",
      "   macro avg       0.64      0.51      0.50      1272\n",
      "weighted avg       0.91      0.94      0.92      1272\n",
      "\n"
     ]
    },
    {
     "data": {
      "text/markdown": [
       "&nbsp;**AUC-ROC Curve**"
      ],
      "text/plain": [
       "<IPython.core.display.Markdown object>"
      ]
     },
     "metadata": {},
     "output_type": "display_data"
    },
    {
     "data": {
      "image/png": "[encoded data removed]",
      "text/plain": [
       "<Figure size 432x288 with 1 Axes>"
      ]
     },
     "metadata": {},
     "output_type": "display_data"
    }
   ],
   "source": [
    "random_forest(rforest_new,X_test,y_test,'Test')"
   ]
  },
  {
   "cell_type": "markdown",
   "id": "2f748a89",
   "metadata": {},
   "source": [
    "As expected, the model overfits the `train` data due to larger hyperparameters. It performs poorly on the `test` data. It only gets `1` true positive which is an improvement from before, and the `f1-score` for positive has gone up to a mere `0.03`. It also manages to get `2` false positives, bringing down the `f1-score` for negative to `0.97`. The heavy bias towards `stroke = 0` is still present. \n",
    "\n",
    "Overall, the `AUC-ROC` score has decreased to `0.80` (from `0.85`).\n",
    "\n",
    "Given how skewed the `stroke` category is, even `cross-validation` is unlikely to produce a good result. We know from `IsolationForest` that `positive` stroke events are always split early on by a `RandomForest`. So tuning `max_depth` and other hyperparameters is unlikely to help. "
   ]
  },
  {
   "cell_type": "markdown",
   "id": "025ddf15",
   "metadata": {},
   "source": [
    "---\n",
    "### Fighting Class Imbalance and Cross-Validating\n",
    "The heavy bias in the `RandomForest` can be reduced by scaling either `stroke` class to make them equal. We could then run `RandomForest` on the new scaled dataset and see how it differs. To save time, we will be directly running `Cross-Validation` on this scaled dataset. \n",
    "\n",
    "#### Downsampling Negative Stroke Events\n",
    "Let's make the number of positive and negative stroke events equal by doing some simple downsampling on negative `stroke` events. The reason we have chosen to do so is that if we were to upsample the positive `stroke` values, we would be multiplying the entire set of positive values by almost `18` times, which would significantly increase the number of unique rows repeated. If we were to then train a RandomForest on it, it would be difficult to create a disjoint `train` and `test` set. "
   ]
  },
  {
   "cell_type": "code",
   "execution_count": 14,
   "id": "11d93d0c",
   "metadata": {},
   "outputs": [
    {
     "data": {
      "text/plain": [
       "1    249\n",
       "0    249\n",
       "Name: stroke, dtype: int64"
      ]
     },
     "execution_count": 14,
     "metadata": {},
     "output_type": "execute_result"
    }
   ],
   "source": [
    "from sklearn.utils import resample\n",
    "\n",
    "strokeyes = mldata[mldata.stroke == 1]\n",
    "strokeno = mldata[mldata.stroke == 0]\n",
    "\n",
    "# Downsample the 0s\n",
    "strokeno_down = resample(strokeno, random_state=11,\n",
    "                        replace=False,                     # sample without replacement\n",
    "                        n_samples=strokeyes.shape[0])      # to match number of 1s\n",
    " \n",
    "# Combine the two classes back after downsample\n",
    "balanced_data = pd.concat([strokeyes, strokeno_down])\n",
    " \n",
    "# Check the ratio of the classes\n",
    "balanced_data['stroke'].value_counts()"
   ]
  },
  {
   "cell_type": "markdown",
   "id": "964d73e5",
   "metadata": {},
   "source": [
    "---\n",
    "#### Using RandomizedSearchCV\n",
    "Instead of directly jumping into `GridSearchCV`, we can first run `RandomizedSearchCV` with a much larger parameter grid to identify where the best parameters could potentially lie. "
   ]
  },
  {
   "cell_type": "code",
   "execution_count": 15,
   "id": "0f70ddec",
   "metadata": {},
   "outputs": [],
   "source": [
    "from sklearn.model_selection import RandomizedSearchCV\n",
    "from sklearn.model_selection import GridSearchCV"
   ]
  },
  {
   "cell_type": "code",
   "execution_count": 16,
   "id": "2273b1b2",
   "metadata": {},
   "outputs": [],
   "source": [
    "# Extract Response and Predictors\n",
    "by = pd.DataFrame(balanced_data['stroke'])\n",
    "bX = pd.DataFrame(balanced_data.drop('stroke', axis = 1))\n",
    "\n",
    "# Split the Dataset into Train and Test\n",
    "bX_train, bX_test, by_train, by_test = train_test_split(bX, by, test_size = 0.25, random_state=6)"
   ]
  },
  {
   "cell_type": "code",
   "execution_count": 17,
   "id": "f57f34e1",
   "metadata": {},
   "outputs": [],
   "source": [
    "random_grid = {'n_estimators': np.arange(100,1001,100),\n",
    "               'max_features': ['auto', 'sqrt'],\n",
    "               'max_depth': np.arange(2, 12),\n",
    "               'min_samples_split': [2, 5, 10],\n",
    "               'min_samples_leaf': [1, 2, 4],\n",
    "               'bootstrap': [True, False]}\n",
    "\n",
    "randomCV = RandomizedSearchCV(estimator = RandomForestClassifier(random_state=9), \n",
    "                               param_distributions = random_grid, \n",
    "                               n_iter = 100, \n",
    "                               cv = 3,\n",
    "                               scoring = 'balanced_accuracy',\n",
    "                               random_state=4, \n",
    "                               n_jobs = -1)\n",
    "\n",
    "randomCV.fit(bX_train, by_train.stroke.values.ravel());"
   ]
  },
  {
   "cell_type": "code",
   "execution_count": 18,
   "id": "3f6d1bfd",
   "metadata": {},
   "outputs": [
    {
     "data": {
      "text/plain": [
       "{'n_estimators': 900,\n",
       " 'min_samples_split': 5,\n",
       " 'min_samples_leaf': 1,\n",
       " 'max_features': 'auto',\n",
       " 'max_depth': 7,\n",
       " 'bootstrap': True}"
      ]
     },
     "execution_count": 18,
     "metadata": {},
     "output_type": "execute_result"
    }
   ],
   "source": [
    "randomCV.best_params_"
   ]
  },
  {
   "cell_type": "markdown",
   "id": "08703a51",
   "metadata": {},
   "source": [
    "These are the best parameters. We can build our grid for `GridSearchCV` around this.\n",
    "___\n",
    "\n",
    "#### Predicting with RandomizedSearchCV on Downsampled Test Data"
   ]
  },
  {
   "cell_type": "code",
   "execution_count": 19,
   "id": "126e166d",
   "metadata": {},
   "outputs": [
    {
     "data": {
      "text/markdown": [
       "&nbsp;**Test Data**"
      ],
      "text/plain": [
       "<IPython.core.display.Markdown object>"
      ]
     },
     "metadata": {},
     "output_type": "display_data"
    },
    {
     "name": "stdout",
     "output_type": "stream",
     "text": [
      "Accuracy  :\t 0.752\n",
      "\n",
      "TPR Test :\t 0.7575757575757576\n",
      "TNR Test :\t 0.7457627118644068\n",
      "\n",
      "FPR Test :\t 0.2542372881355932\n",
      "FNR Test :\t 0.24242424242424243\n"
     ]
    },
    {
     "data": {
      "text/markdown": [
       "&nbsp;**Confusion Matrix**"
      ],
      "text/plain": [
       "<IPython.core.display.Markdown object>"
      ]
     },
     "metadata": {},
     "output_type": "display_data"
    },
    {
     "data": {
      "image/png": "[encoded data removed]",
      "text/plain": [
       "<Figure size 432x288 with 2 Axes>"
      ]
     },
     "metadata": {},
     "output_type": "display_data"
    },
    {
     "data": {
      "text/markdown": [
       "&nbsp;**Classification Report**"
      ],
      "text/plain": [
       "<IPython.core.display.Markdown object>"
      ]
     },
     "metadata": {},
     "output_type": "display_data"
    },
    {
     "name": "stdout",
     "output_type": "stream",
     "text": [
      "              precision    recall  f1-score   support\n",
      "\n",
      "           0       0.73      0.75      0.74        59\n",
      "           1       0.77      0.76      0.76        66\n",
      "\n",
      "    accuracy                           0.75       125\n",
      "   macro avg       0.75      0.75      0.75       125\n",
      "weighted avg       0.75      0.75      0.75       125\n",
      "\n"
     ]
    },
    {
     "data": {
      "text/markdown": [
       "&nbsp;**AUC-ROC Curve**"
      ],
      "text/plain": [
       "<IPython.core.display.Markdown object>"
      ]
     },
     "metadata": {},
     "output_type": "display_data"
    },
    {
     "data": {
      "image/png": "[encoded data removed]",
      "text/plain": [
       "<Figure size 432x288 with 1 Axes>"
      ]
     },
     "metadata": {},
     "output_type": "display_data"
    }
   ],
   "source": [
    "random_forest(randomCV.best_estimator_,bX_test,by_test,'Test')"
   ]
  },
  {
   "cell_type": "markdown",
   "id": "dc584143",
   "metadata": {},
   "source": [
    "Even though the `f1-score` is lower, reducing the bias has created a much better model. Both `TPR` and `TNR` are around `0.75` which is more meaningful than one being a perfect `1` while the other being an equally useless `0`. The `AUC-ROC` score is `0.83`. \n",
    "\n",
    "---\n",
    "#### Using GridSearchCV\n",
    "This model may further improve if we now use `GridSearchCV` with the best parameters obtained from `RandomizedSearchCV`"
   ]
  },
  {
   "cell_type": "code",
   "execution_count": 20,
   "id": "a1698b20",
   "metadata": {},
   "outputs": [],
   "source": [
    "# Define the Hyper-parameter Grid to search on\n",
    "param_grid = { 'n_estimators': [800, 900, 1300],  \n",
    "                'max_depth': [5, 7, 9],             \n",
    "                'max_features': ['auto'],              \n",
    "                'min_samples_split': [4, 5, 6],           \n",
    "                'min_samples_leaf': [1, 2],             \n",
    "                'bootstrap': [True]                \n",
    "              } \n",
    "\n",
    "# Create the Hyper-parameter Grid\n",
    "grid_CV = GridSearchCV(RandomForestClassifier(random_state=7),   # the model family\n",
    "                      param_grid,                 # the search grid\n",
    "                      cv = 5,                     # 5-fold cross-validation\n",
    "                      scoring = 'balanced_accuracy', # score to evaluate\n",
    "                      n_jobs = -1)       \n",
    "\n",
    "# Train the models using Cross-Validation\n",
    "grid_CV.fit(bX_train, by_train.stroke.values.ravel());"
   ]
  },
  {
   "cell_type": "code",
   "execution_count": 21,
   "id": "a0d36643",
   "metadata": {},
   "outputs": [
    {
     "data": {
      "text/plain": [
       "{'bootstrap': True,\n",
       " 'max_depth': 7,\n",
       " 'max_features': 'auto',\n",
       " 'min_samples_leaf': 1,\n",
       " 'min_samples_split': 6,\n",
       " 'n_estimators': 1300}"
      ]
     },
     "execution_count": 21,
     "metadata": {},
     "output_type": "execute_result"
    }
   ],
   "source": [
    "# Fetch the best Model or the best set of Hyper-parameters\n",
    "grid_CV.best_params_"
   ]
  },
  {
   "cell_type": "markdown",
   "id": "f22232a4",
   "metadata": {},
   "source": [
    "---\n",
    "#### Predicting with GridSearchCV on Downsampled Test Data "
   ]
  },
  {
   "cell_type": "code",
   "execution_count": 22,
   "id": "b392b386",
   "metadata": {},
   "outputs": [
    {
     "data": {
      "text/markdown": [
       "&nbsp;**Test Data**"
      ],
      "text/plain": [
       "<IPython.core.display.Markdown object>"
      ]
     },
     "metadata": {},
     "output_type": "display_data"
    },
    {
     "name": "stdout",
     "output_type": "stream",
     "text": [
      "Accuracy  :\t 0.76\n",
      "\n",
      "TPR Test :\t 0.7727272727272727\n",
      "TNR Test :\t 0.7457627118644068\n",
      "\n",
      "FPR Test :\t 0.2542372881355932\n",
      "FNR Test :\t 0.22727272727272727\n"
     ]
    },
    {
     "data": {
      "text/markdown": [
       "&nbsp;**Confusion Matrix**"
      ],
      "text/plain": [
       "<IPython.core.display.Markdown object>"
      ]
     },
     "metadata": {},
     "output_type": "display_data"
    },
    {
     "data": {
      "image/png": "[encoded data removed]",
      "text/plain": [
       "<Figure size 432x288 with 2 Axes>"
      ]
     },
     "metadata": {},
     "output_type": "display_data"
    },
    {
     "data": {
      "text/markdown": [
       "&nbsp;**Classification Report**"
      ],
      "text/plain": [
       "<IPython.core.display.Markdown object>"
      ]
     },
     "metadata": {},
     "output_type": "display_data"
    },
    {
     "name": "stdout",
     "output_type": "stream",
     "text": [
      "              precision    recall  f1-score   support\n",
      "\n",
      "           0       0.75      0.75      0.75        59\n",
      "           1       0.77      0.77      0.77        66\n",
      "\n",
      "    accuracy                           0.76       125\n",
      "   macro avg       0.76      0.76      0.76       125\n",
      "weighted avg       0.76      0.76      0.76       125\n",
      "\n"
     ]
    },
    {
     "data": {
      "text/markdown": [
       "&nbsp;**AUC-ROC Curve**"
      ],
      "text/plain": [
       "<IPython.core.display.Markdown object>"
      ]
     },
     "metadata": {},
     "output_type": "display_data"
    },
    {
     "data": {
      "image/png": "[encoded data removed]",
      "text/plain": [
       "<Figure size 432x288 with 1 Axes>"
      ]
     },
     "metadata": {},
     "output_type": "display_data"
    }
   ],
   "source": [
    "random_forest(grid_CV.best_estimator_,bX_test,by_test,'Test')"
   ]
  },
  {
   "cell_type": "markdown",
   "id": "ebad64ac",
   "metadata": {},
   "source": [
    "The model has improved very slightly in comparison to `RandomizedSearchCV`. The`f1-score` and `AUC-ROC` scores are about the same and the only difference is `1` more `True Positive` and `1` less `False Negative`. "
   ]
  },
  {
   "cell_type": "markdown",
   "id": "10ef384b",
   "metadata": {},
   "source": [
    "---\n",
    "### Looking at Feature Importance\n",
    "The objective of using `RandomForest` wasn't exactly to get the best prediction model, but rather a decent model and to then see which features are most important in predicting it. "
   ]
  },
  {
   "cell_type": "code",
   "execution_count": 23,
   "id": "e82e2ee9",
   "metadata": {},
   "outputs": [
    {
     "data": {
      "image/png": "[encoded data removed]",
      "text/plain": [
       "<Figure size 432x288 with 1 Axes>"
      ]
     },
     "metadata": {},
     "output_type": "display_data"
    }
   ],
   "source": [
    "sorted_ids = grid_CV.best_estimator_.feature_importances_.argsort()\n",
    "plt.barh(mldata.columns[sorted_ids], grid_CV.best_estimator_.feature_importances_[sorted_ids])\n",
    "plt.xlabel(\"Random Forest Feature Importance\");"
   ]
  },
  {
   "cell_type": "markdown",
   "id": "2a8d0bcb",
   "metadata": {},
   "source": [
    "The raw feature importances show `age`, `avg_glucose` and `bmi` having the highest importance and this is due to `RandomForest` using variables with higher cardinality to make decisions more often. `Permutation Importance` would be a better measure of feature importance. Permutation feature importance looks at how the model score changes after randomly shuffling a single feature to see what impact that feature has on the model."
   ]
  },
  {
   "cell_type": "code",
   "execution_count": 24,
   "id": "3a2f1f3e",
   "metadata": {},
   "outputs": [
    {
     "data": {
      "image/png": "[encoded data removed]",
      "text/plain": [
       "<Figure size 432x288 with 1 Axes>"
      ]
     },
     "metadata": {},
     "output_type": "display_data"
    }
   ],
   "source": [
    "from sklearn.inspection import permutation_importance\n",
    "perm_importance = permutation_importance(grid_CV.best_estimator_,bX_test,by_test,n_repeats=10,random_state=13,n_jobs=-1,scoring='balanced_accuracy')\n",
    "plt.barh(mldata.columns[sorted_ids], perm_importance.importances_mean[sorted_ids])\n",
    "plt.xlabel(\"Permutation Importance\");"
   ]
  },
  {
   "cell_type": "markdown",
   "id": "008de228",
   "metadata": {},
   "source": [
    "Permutation Importance says that `age` is the most useful feature when it comes to predicting `stroke`. It is also the only feature with a decent importance value. Other variables have very low importance values in comparison."
   ]
  },
  {
   "cell_type": "markdown",
   "id": "e027f5a1",
   "metadata": {},
   "source": [
    "---\n",
    "## Logistic Regression\n",
    "It would be a good idea to have a quick look at how other families of models perform at stroke prediction. Both `IsolationForest` and `RandomForest` are tree-based models unlike `Logistic Regression`, which is a linear regression model. We can use `Logistic Regression` since it is meant for predicting discrete variables.\n",
    "\n",
    "---\n",
    "#### Simple Logistic Regression"
   ]
  },
  {
   "cell_type": "code",
   "execution_count": 25,
   "id": "0c0ad0ef",
   "metadata": {},
   "outputs": [],
   "source": [
    "from sklearn.linear_model import LogisticRegression"
   ]
  },
  {
   "cell_type": "code",
   "execution_count": 26,
   "id": "8a9733db",
   "metadata": {},
   "outputs": [],
   "source": [
    "logistic_regression = random_forest # both models can be evaluated in the same manner"
   ]
  },
  {
   "cell_type": "code",
   "execution_count": 27,
   "id": "dc2c8288",
   "metadata": {},
   "outputs": [],
   "source": [
    "# logistic regression object\n",
    "lr = LogisticRegression(max_iter = 1000, random_state = 19, n_jobs = -1)\n",
    "\n",
    "# Make new test-train splits\n",
    "X_train, X_test, y_train, y_test = train_test_split(X, y, test_size = 0.25, random_state=133)\n",
    "\n",
    "# train the model on train set\n",
    "lr.fit(X_train, y_train.values.ravel());"
   ]
  },
  {
   "cell_type": "code",
   "execution_count": 28,
   "id": "d42646b7",
   "metadata": {},
   "outputs": [
    {
     "data": {
      "text/markdown": [
       "&nbsp;**Train Data**"
      ],
      "text/plain": [
       "<IPython.core.display.Markdown object>"
      ]
     },
     "metadata": {},
     "output_type": "display_data"
    },
    {
     "name": "stdout",
     "output_type": "stream",
     "text": [
      "Accuracy  :\t 0.9536041939711665\n",
      "\n",
      "TPR Train :\t 0.0\n",
      "TNR Train :\t 1.0\n",
      "\n",
      "FPR Train :\t 0.0\n",
      "FNR Train :\t 1.0\n"
     ]
    },
    {
     "data": {
      "text/markdown": [
       "&nbsp;**Confusion Matrix**"
      ],
      "text/plain": [
       "<IPython.core.display.Markdown object>"
      ]
     },
     "metadata": {},
     "output_type": "display_data"
    },
    {
     "data": {
      "image/png": "[encoded data removed]",
      "text/plain": [
       "<Figure size 432x288 with 2 Axes>"
      ]
     },
     "metadata": {},
     "output_type": "display_data"
    },
    {
     "data": {
      "text/markdown": [
       "&nbsp;**Classification Report**"
      ],
      "text/plain": [
       "<IPython.core.display.Markdown object>"
      ]
     },
     "metadata": {},
     "output_type": "display_data"
    },
    {
     "name": "stdout",
     "output_type": "stream",
     "text": [
      "              precision    recall  f1-score   support\n",
      "\n",
      "           0       0.95      1.00      0.98      3638\n",
      "           1       1.00      0.00      0.00       177\n",
      "\n",
      "    accuracy                           0.95      3815\n",
      "   macro avg       0.98      0.50      0.49      3815\n",
      "weighted avg       0.96      0.95      0.93      3815\n",
      "\n"
     ]
    }
   ],
   "source": [
    "logistic_regression(lr,X_train,y_train,'Train')"
   ]
  },
  {
   "cell_type": "code",
   "execution_count": 29,
   "id": "2be34051",
   "metadata": {},
   "outputs": [
    {
     "data": {
      "text/markdown": [
       "&nbsp;**Test Data**"
      ],
      "text/plain": [
       "<IPython.core.display.Markdown object>"
      ]
     },
     "metadata": {},
     "output_type": "display_data"
    },
    {
     "name": "stdout",
     "output_type": "stream",
     "text": [
      "Accuracy  :\t 0.9433962264150944\n",
      "\n",
      "TPR Test :\t 0.0\n",
      "TNR Test :\t 1.0\n",
      "\n",
      "FPR Test :\t 0.0\n",
      "FNR Test :\t 1.0\n"
     ]
    },
    {
     "data": {
      "text/markdown": [
       "&nbsp;**Confusion Matrix**"
      ],
      "text/plain": [
       "<IPython.core.display.Markdown object>"
      ]
     },
     "metadata": {},
     "output_type": "display_data"
    },
    {
     "data": {
      "image/png": "[encoded data removed]",
      "text/plain": [
       "<Figure size 432x288 with 2 Axes>"
      ]
     },
     "metadata": {},
     "output_type": "display_data"
    },
    {
     "data": {
      "text/markdown": [
       "&nbsp;**Classification Report**"
      ],
      "text/plain": [
       "<IPython.core.display.Markdown object>"
      ]
     },
     "metadata": {},
     "output_type": "display_data"
    },
    {
     "name": "stdout",
     "output_type": "stream",
     "text": [
      "              precision    recall  f1-score   support\n",
      "\n",
      "           0       0.94      1.00      0.97      1200\n",
      "           1       1.00      0.00      0.00        72\n",
      "\n",
      "    accuracy                           0.94      1272\n",
      "   macro avg       0.97      0.50      0.49      1272\n",
      "weighted avg       0.95      0.94      0.92      1272\n",
      "\n"
     ]
    },
    {
     "data": {
      "text/markdown": [
       "&nbsp;**AUC-ROC Curve**"
      ],
      "text/plain": [
       "<IPython.core.display.Markdown object>"
      ]
     },
     "metadata": {},
     "output_type": "display_data"
    },
    {
     "data": {
      "image/png": "[encoded data removed]",
      "text/plain": [
       "<Figure size 432x288 with 1 Axes>"
      ]
     },
     "metadata": {},
     "output_type": "display_data"
    }
   ],
   "source": [
    "logistic_regression(lr,X_test,y_test,'Test')"
   ]
  },
  {
   "cell_type": "markdown",
   "id": "6d0817b3",
   "metadata": {},
   "source": [
    "We can see that `LogisticRegression` performs just as poorly as `RandomForest` on the original `mldata` dataset without any upsampling. \n",
    "\n",
    "---\n",
    "#### Logistic Regression with Cross-Validation on Downsampled Data"
   ]
  },
  {
   "cell_type": "code",
   "execution_count": 30,
   "id": "5c19f588",
   "metadata": {},
   "outputs": [],
   "source": [
    "random_grid_lr = {\n",
    "    'max_iter': [10000],                      \n",
    "    'solver': ['newton-cg', 'liblinear', 'saga' ], \n",
    "    'class_weight': ['balanced'],\n",
    "    'C': [0.1, 0.5, 1,10,15,20], \n",
    "    'penalty': ['l2']\n",
    "}\n",
    "\n",
    "random_lr_CV = RandomizedSearchCV(estimator = LogisticRegression(random_state=90), \n",
    "                               param_distributions = random_grid_lr, \n",
    "                               n_iter = 18, \n",
    "                               cv = 3,\n",
    "                               scoring = 'balanced_accuracy',\n",
    "                               random_state=40, \n",
    "                               n_jobs = -1)\n",
    "\n",
    "random_lr_CV.fit(bX_train, by_train.stroke.values.ravel());"
   ]
  },
  {
   "cell_type": "code",
   "execution_count": 31,
   "id": "fa9534fa",
   "metadata": {},
   "outputs": [
    {
     "data": {
      "text/plain": [
       "{'solver': 'liblinear',\n",
       " 'penalty': 'l2',\n",
       " 'max_iter': 10000,\n",
       " 'class_weight': 'balanced',\n",
       " 'C': 10}"
      ]
     },
     "execution_count": 31,
     "metadata": {},
     "output_type": "execute_result"
    }
   ],
   "source": [
    "random_lr_CV.best_params_"
   ]
  },
  {
   "cell_type": "code",
   "execution_count": 32,
   "id": "982790bd",
   "metadata": {},
   "outputs": [
    {
     "data": {
      "text/markdown": [
       "&nbsp;**Test Data**"
      ],
      "text/plain": [
       "<IPython.core.display.Markdown object>"
      ]
     },
     "metadata": {},
     "output_type": "display_data"
    },
    {
     "name": "stdout",
     "output_type": "stream",
     "text": [
      "Accuracy  :\t 0.768\n",
      "\n",
      "TPR Test :\t 0.7878787878787878\n",
      "TNR Test :\t 0.7457627118644068\n",
      "\n",
      "FPR Test :\t 0.2542372881355932\n",
      "FNR Test :\t 0.21212121212121213\n"
     ]
    },
    {
     "data": {
      "text/markdown": [
       "&nbsp;**Confusion Matrix**"
      ],
      "text/plain": [
       "<IPython.core.display.Markdown object>"
      ]
     },
     "metadata": {},
     "output_type": "display_data"
    },
    {
     "data": {
      "image/png": "[encoded data removed]",
      "text/plain": [
       "<Figure size 432x288 with 2 Axes>"
      ]
     },
     "metadata": {},
     "output_type": "display_data"
    },
    {
     "data": {
      "text/markdown": [
       "&nbsp;**Classification Report**"
      ],
      "text/plain": [
       "<IPython.core.display.Markdown object>"
      ]
     },
     "metadata": {},
     "output_type": "display_data"
    },
    {
     "name": "stdout",
     "output_type": "stream",
     "text": [
      "              precision    recall  f1-score   support\n",
      "\n",
      "           0       0.76      0.75      0.75        59\n",
      "           1       0.78      0.79      0.78        66\n",
      "\n",
      "    accuracy                           0.77       125\n",
      "   macro avg       0.77      0.77      0.77       125\n",
      "weighted avg       0.77      0.77      0.77       125\n",
      "\n"
     ]
    },
    {
     "data": {
      "text/markdown": [
       "&nbsp;**AUC-ROC Curve**"
      ],
      "text/plain": [
       "<IPython.core.display.Markdown object>"
      ]
     },
     "metadata": {},
     "output_type": "display_data"
    },
    {
     "data": {
      "image/png": "[encoded data removed]",
      "text/plain": [
       "<Figure size 432x288 with 1 Axes>"
      ]
     },
     "metadata": {},
     "output_type": "display_data"
    }
   ],
   "source": [
    "logistic_regression(random_lr_CV.best_estimator_,bX_test,by_test,'Test')"
   ]
  },
  {
   "cell_type": "code",
   "execution_count": 34,
   "id": "40ec18e9",
   "metadata": {},
   "outputs": [],
   "source": [
    "# Define the Hyper-parameter Grid to search on\n",
    "param_lr_grid = {'solver': ['liblinear'],\n",
    "                 'penalty': ['l2'],\n",
    "                 'max_iter': [10000, 12000, 15000],\n",
    "                 'class_weight': ['balanced'],\n",
    "                 'C': [10, 12, 14]} \n",
    "\n",
    "# Create the Hyper-parameter Grid\n",
    "lr_grid_CV = GridSearchCV(LogisticRegression(random_state=70),  \n",
    "                      param_lr_grid,                 \n",
    "                      cv = 5,                     \n",
    "                      scoring = 'balanced_accuracy', \n",
    "                      n_jobs = -1)       \n",
    "\n",
    "# Train the models using Cross-Validation\n",
    "lr_grid_CV.fit(bX_train, by_train.stroke.values.ravel());"
   ]
  },
  {
   "cell_type": "code",
   "execution_count": 35,
   "id": "c63ac6a6",
   "metadata": {},
   "outputs": [
    {
     "data": {
      "text/plain": [
       "{'C': 10,\n",
       " 'class_weight': 'balanced',\n",
       " 'max_iter': 10000,\n",
       " 'penalty': 'l2',\n",
       " 'solver': 'liblinear'}"
      ]
     },
     "execution_count": 35,
     "metadata": {},
     "output_type": "execute_result"
    }
   ],
   "source": [
    "lr_grid_CV.best_params_"
   ]
  },
  {
   "cell_type": "code",
   "execution_count": 36,
   "id": "b0361252",
   "metadata": {},
   "outputs": [
    {
     "data": {
      "text/markdown": [
       "&nbsp;**Test Data**"
      ],
      "text/plain": [
       "<IPython.core.display.Markdown object>"
      ]
     },
     "metadata": {},
     "output_type": "display_data"
    },
    {
     "name": "stdout",
     "output_type": "stream",
     "text": [
      "Accuracy  :\t 0.768\n",
      "\n",
      "TPR Test :\t 0.7878787878787878\n",
      "TNR Test :\t 0.7457627118644068\n",
      "\n",
      "FPR Test :\t 0.2542372881355932\n",
      "FNR Test :\t 0.21212121212121213\n"
     ]
    },
    {
     "data": {
      "text/markdown": [
       "&nbsp;**Confusion Matrix**"
      ],
      "text/plain": [
       "<IPython.core.display.Markdown object>"
      ]
     },
     "metadata": {},
     "output_type": "display_data"
    },
    {
     "data": {
      "image/png": "[encoded data removed]",
      "text/plain": [
       "<Figure size 432x288 with 2 Axes>"
      ]
     },
     "metadata": {},
     "output_type": "display_data"
    },
    {
     "data": {
      "text/markdown": [
       "&nbsp;**Classification Report**"
      ],
      "text/plain": [
       "<IPython.core.display.Markdown object>"
      ]
     },
     "metadata": {},
     "output_type": "display_data"
    },
    {
     "name": "stdout",
     "output_type": "stream",
     "text": [
      "              precision    recall  f1-score   support\n",
      "\n",
      "           0       0.76      0.75      0.75        59\n",
      "           1       0.78      0.79      0.78        66\n",
      "\n",
      "    accuracy                           0.77       125\n",
      "   macro avg       0.77      0.77      0.77       125\n",
      "weighted avg       0.77      0.77      0.77       125\n",
      "\n"
     ]
    },
    {
     "data": {
      "text/markdown": [
       "&nbsp;**AUC-ROC Curve**"
      ],
      "text/plain": [
       "<IPython.core.display.Markdown object>"
      ]
     },
     "metadata": {},
     "output_type": "display_data"
    },
    {
     "data": {
      "image/png": "[encoded data removed]",
      "text/plain": [
       "<Figure size 432x288 with 1 Axes>"
      ]
     },
     "metadata": {},
     "output_type": "display_data"
    }
   ],
   "source": [
    "logistic_regression(lr_grid_CV.best_estimator_,bX_test,by_test,'Test')"
   ]
  },
  {
   "cell_type": "markdown",
   "id": "24722089",
   "metadata": {},
   "source": [
    "The prediction of `LogisticRegression` is very similar to `RandomForest`'s even on the downsampled dataset. "
   ]
  },
  {
   "cell_type": "markdown",
   "id": "ecb9153b",
   "metadata": {},
   "source": [
    "---\n",
    "## Conclusion\n",
    "\n",
    "We first explored the `stroke` dataset. <br>\n",
    "Then we used `IsolationForest` to determine that having a `stroke` is highly likely to be an anomaly. <br>\n",
    "The poor performance of both `RandomForest` and `LogisticRegression` in predicting `stroke` further substantiated this claim. \n",
    "\n",
    "**Does this mean there is nothing we can do about it?** <br>\n",
    "There is still scope for more analysis. For example, we can try to identify people who have a more than normal risk of having a `stroke`. The people who are at risk of having a stroke may still be considered an anomaly, but it highlights the possibility of having a stroke, and taking care of oneself accordingly. We don't necessarily have to be able to predict it accurately for doing so.  From our `EDA` and `RandomForest`'s feature importances, we know that people over the `age` of `60` or those with `hypertension` and `heart disease` can be considered at-risk. We also know that `gender` has nothing to do with having a stroke. Both groups are equally at-risk. This can be done properly using a clustering model."
   ]
  },
  {
   "cell_type": "code",
   "execution_count": null,
   "id": "5a1bcde8",
   "metadata": {},
   "outputs": [],
   "source": []
  }
 ],
 "metadata": {
  "kernelspec": {
   "display_name": "Python 3 (ipykernel)",
   "language": "python",
   "name": "python3"
  },
  "language_info": {
   "codemirror_mode": {
    "name": "ipython",
    "version": 3
   },
   "file_extension": ".py",
   "mimetype": "text/x-python",
   "name": "python",
   "nbconvert_exporter": "python",
   "pygments_lexer": "ipython3",
   "version": "3.9.7"
  }
 },
 "nbformat": 4,
 "nbformat_minor": 5
}
